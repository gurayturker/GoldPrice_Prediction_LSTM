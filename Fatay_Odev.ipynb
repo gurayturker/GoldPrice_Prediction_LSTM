{
 "cells": [
  {
   "cell_type": "markdown",
   "id": "broke-election",
   "metadata": {
    "id": "broke-election"
   },
   "source": [
    "# Derin Öğrenme ile Zaman Serileri Analizi Ve Tahmini"
   ]
  },
  {
   "cell_type": "markdown",
   "id": "YkF_0WTG37Pr",
   "metadata": {
    "id": "YkF_0WTG37Pr"
   },
   "source": [
    "Tarihsel olarak **altın**, ABD dahil dünyanın çeşitli yerlerinde bir para birimi olarak kullanılmıştır. Günümüzde, altın gibi değerli metaller, dış borçların geri ödenmesini garanti altına almak ve aynı zamanda ülkenin finansal gücünü yansıtan enflasyonu kontrol etmek için tüm ülkelerin merkez bankalarında tutulmaktadır.\n",
    "\n",
    "\n",
    "Günlük altın oranlarındaki artış ve düşüşün tahmin edilmesi, yatırımcıların altınlarını ne zaman alacaklarına (veya satacaklarına) karar vermelerine yardımcı olabilir.\n",
    "\n",
    "![Gold ETF](https://i.ibb.co/S07Np5F/Gold.png)\n"
   ]
  },
  {
   "cell_type": "markdown",
   "id": "Roj3Jv737Tfz",
   "metadata": {
    "id": "Roj3Jv737Tfz"
   },
   "source": [
    "# Zaman Serileri Nedir ?\n",
    "\n",
    "\n",
    "*   Bir zaman serisi, belirli kronolojik zaman sırasına göre bir dizi veya sayısal veri noktasıdır.\n",
    "*   Makine öğreniminin önemli bir parçasıdır.\n",
    "*   Önceden gözlemlenen zaman serisi değerlerine bağlı olarak gelecekteki değerleri tahmin etmek için kullanılan bir yöntemdir.\n",
    "*   Mevsimsel kalıpları, eğilimleri ve dış etkenlerle olan ilişkileri göstermek için çizgi grafikleri kullanılır.\n",
    "\n"
   ]
  },
  {
   "cell_type": "markdown",
   "id": "0_LaK2yR-FIA",
   "metadata": {
    "id": "0_LaK2yR-FIA"
   },
   "source": [
    "## **Veri Seti Hakkında Bilgiler**"
   ]
  },
  {
   "cell_type": "markdown",
   "id": "informative-equilibrium",
   "metadata": {
    "id": "informative-equilibrium"
   },
   "source": [
    "**27** yıllık günlük periyotlarda altının fiyat bilgisinin yer aldığı **6886 satır 7 öznitelikten** oluşan veri seti üzerinde çalışmalar gerçekleştirilmiştir.\n",
    "\n",
    "Veri üzerinde günlük, aylık ve yıllık olmak üzere farklı periyotlar ile incelemeler yapılacak olup farklı modeller ile tahminler gerçekleştirilecektir. \n",
    "\n",
    "Özniteliklerin açıklaması aşağıdaki gibidir."
   ]
  },
  {
   "cell_type": "markdown",
   "id": "southern-notebook",
   "metadata": {
    "id": "southern-notebook"
   },
   "source": [
    "- Date : Günlük bazda tarih bilgisi.\n",
    "- Price: İlgili güne ait fiyat bilgisi.\n",
    "- Open : Günün açılış fiyatı\n",
    "- High : Günün en yüksek değeri\n",
    "- Low : Günün en düşük değeri\n",
    "- Volume : Hareketlerin şiddeti\n",
    "- Change (%): Bulunulan günün önceki ve şimdiki fiyatlarının değişim oranı."
   ]
  },
  {
   "cell_type": "markdown",
   "id": "studied-return",
   "metadata": {
    "id": "studied-return"
   },
   "source": [
    "## İçindekiler\n",
    "\n",
    "\n",
    "**1. [Adım : Time Stamp Oluşturma](#1)**\n",
    "    \n",
    "   1.1 [Gereksiz Özniteliklerin Çıkarılması](#11)\n",
    "\n",
    "    \n",
    "**2. [Adım : Change (%) Özniteliğinin İncelenmesi (Öznitelik Çıkarımı)](#2)**\n",
    "\n",
    "**3. [Adım : Zaman Serisi Durağanlık Kontrolü](#3)**\n",
    "\n",
    "  3.1 [Dicky Fuller Testi](#31)\n",
    "\n",
    "**4. [Adım : Model İçin Veri Setinin Hazırlanması](#4)**\n",
    "\n",
    "  4.1 [Train Test Split](#41)\n",
    "\n",
    "  4.2 [Scaling](#42)\n",
    "\n"
   ]
  },
  {
   "cell_type": "markdown",
   "id": "central-study",
   "metadata": {
    "id": "central-study"
   },
   "source": [
    "Gerekli Kütüphaneleri Yükleyelim"
   ]
  },
  {
   "cell_type": "code",
   "execution_count": null,
   "id": "buried-repair",
   "metadata": {
    "colab": {
     "base_uri": "https://localhost:8080/"
    },
    "executionInfo": {
     "elapsed": 4056,
     "status": "ok",
     "timestamp": 1640684089660,
     "user": {
      "displayName": "Fatma Yürek",
      "photoUrl": "https://lh3.googleusercontent.com/a-/AOh14GgUD5q6Dqn8419pReVnOLENTLh9hizgvYdxalCt=s64",
      "userId": "13554681259639851426"
     },
     "user_tz": -180
    },
    "id": "buried-repair",
    "outputId": "4f0d75a3-e913-4fa4-8ee5-82546baa8105"
   },
   "outputs": [
    {
     "name": "stderr",
     "output_type": "stream",
     "text": [
      "/usr/local/lib/python3.7/dist-packages/statsmodels/tools/_testing.py:19: FutureWarning: pandas.util.testing is deprecated. Use the functions in the public API at pandas.testing instead.\n",
      "  import pandas.util.testing as tm\n"
     ]
    }
   ],
   "source": [
    "import numpy as np\n",
    "import pandas as pd\n",
    "import matplotlib.pyplot as plt\n",
    "import seaborn as sns\n",
    "from statsmodels.tsa.stattools import adfuller\n",
    "from warnings import filterwarnings\n",
    "filterwarnings('ignore')\n",
    "\n",
    "from sklearn.preprocessing import MinMaxScaler\n",
    "from keras.models import Sequential\n",
    "from keras.layers import Dense, LSTM, Dropout, GRU, Bidirectional\n",
    "from tensorflow.keras.optimizers import SGD\n",
    "import math\n",
    "from sklearn.metrics import mean_squared_error"
   ]
  },
  {
   "cell_type": "markdown",
   "id": "pressed-airplane",
   "metadata": {
    "id": "pressed-airplane"
   },
   "source": [
    "Veri Setini Okuyalım"
   ]
  },
  {
   "cell_type": "code",
   "execution_count": null,
   "id": "JXTpGfHLC-et",
   "metadata": {
    "id": "JXTpGfHLC-et"
   },
   "outputs": [],
   "source": [
    "#from google.colab import drive\n",
    "#drive.mount('/content/drive')"
   ]
  },
  {
   "cell_type": "code",
   "execution_count": null,
   "id": "difficult-enemy",
   "metadata": {
    "id": "difficult-enemy"
   },
   "outputs": [],
   "source": [
    "#df_original = pd.read_csv(\"drive/MyDrive/FATAY_LSTM/golddaily.csv\")\n",
    "df_original = pd.read_csv(\"golddaily.csv\")\n",
    "df = df_original.copy()"
   ]
  },
  {
   "cell_type": "code",
   "execution_count": null,
   "id": "speaking-booking",
   "metadata": {
    "colab": {
     "base_uri": "https://localhost:8080/",
     "height": 206
    },
    "executionInfo": {
     "elapsed": 13,
     "status": "ok",
     "timestamp": 1640684089663,
     "user": {
      "displayName": "Fatma Yürek",
      "photoUrl": "https://lh3.googleusercontent.com/a-/AOh14GgUD5q6Dqn8419pReVnOLENTLh9hizgvYdxalCt=s64",
      "userId": "13554681259639851426"
     },
     "user_tz": -180
    },
    "id": "speaking-booking",
    "outputId": "d0e7605d-08f6-49fd-962a-fef00f1b2701"
   },
   "outputs": [
    {
     "data": {
      "text/html": [
       "\n",
       "  <div id=\"df-5f1fa312-8952-42f3-b036-b9b9fd2f3026\">\n",
       "    <div class=\"colab-df-container\">\n",
       "      <div>\n",
       "<style scoped>\n",
       "    .dataframe tbody tr th:only-of-type {\n",
       "        vertical-align: middle;\n",
       "    }\n",
       "\n",
       "    .dataframe tbody tr th {\n",
       "        vertical-align: top;\n",
       "    }\n",
       "\n",
       "    .dataframe thead th {\n",
       "        text-align: right;\n",
       "    }\n",
       "</style>\n",
       "<table border=\"1\" class=\"dataframe\">\n",
       "  <thead>\n",
       "    <tr style=\"text-align: right;\">\n",
       "      <th></th>\n",
       "      <th>Date</th>\n",
       "      <th>Price</th>\n",
       "      <th>Open</th>\n",
       "      <th>High</th>\n",
       "      <th>Low</th>\n",
       "      <th>Vol</th>\n",
       "      <th>Change %</th>\n",
       "    </tr>\n",
       "  </thead>\n",
       "  <tbody>\n",
       "    <tr>\n",
       "      <th>0</th>\n",
       "      <td>Dec 06, 1994</td>\n",
       "      <td>375.8</td>\n",
       "      <td>375.6</td>\n",
       "      <td>376.5</td>\n",
       "      <td>375.1</td>\n",
       "      <td>0.99K</td>\n",
       "      <td>0.0008</td>\n",
       "    </tr>\n",
       "    <tr>\n",
       "      <th>1</th>\n",
       "      <td>Dec 07, 1994</td>\n",
       "      <td>376.1</td>\n",
       "      <td>377.0</td>\n",
       "      <td>377.5</td>\n",
       "      <td>375.1</td>\n",
       "      <td>1.88K</td>\n",
       "      <td>0.0008</td>\n",
       "    </tr>\n",
       "    <tr>\n",
       "      <th>2</th>\n",
       "      <td>Dec 08, 1994</td>\n",
       "      <td>376.6</td>\n",
       "      <td>375.3</td>\n",
       "      <td>376.7</td>\n",
       "      <td>374.8</td>\n",
       "      <td>0.48K</td>\n",
       "      <td>0.0013</td>\n",
       "    </tr>\n",
       "    <tr>\n",
       "      <th>3</th>\n",
       "      <td>Dec 09, 1994</td>\n",
       "      <td>377.0</td>\n",
       "      <td>375.6</td>\n",
       "      <td>377.0</td>\n",
       "      <td>375.5</td>\n",
       "      <td>0.38K</td>\n",
       "      <td>0.0011</td>\n",
       "    </tr>\n",
       "    <tr>\n",
       "      <th>4</th>\n",
       "      <td>Dec 12, 1994</td>\n",
       "      <td>377.5</td>\n",
       "      <td>376.8</td>\n",
       "      <td>377.8</td>\n",
       "      <td>376.5</td>\n",
       "      <td>0.07K</td>\n",
       "      <td>0.0013</td>\n",
       "    </tr>\n",
       "  </tbody>\n",
       "</table>\n",
       "</div>\n",
       "      <button class=\"colab-df-convert\" onclick=\"convertToInteractive('df-5f1fa312-8952-42f3-b036-b9b9fd2f3026')\"\n",
       "              title=\"Convert this dataframe to an interactive table.\"\n",
       "              style=\"display:none;\">\n",
       "        \n",
       "  <svg xmlns=\"http://www.w3.org/2000/svg\" height=\"24px\"viewBox=\"0 0 24 24\"\n",
       "       width=\"24px\">\n",
       "    <path d=\"M0 0h24v24H0V0z\" fill=\"none\"/>\n",
       "    <path d=\"M18.56 5.44l.94 2.06.94-2.06 2.06-.94-2.06-.94-.94-2.06-.94 2.06-2.06.94zm-11 1L8.5 8.5l.94-2.06 2.06-.94-2.06-.94L8.5 2.5l-.94 2.06-2.06.94zm10 10l.94 2.06.94-2.06 2.06-.94-2.06-.94-.94-2.06-.94 2.06-2.06.94z\"/><path d=\"M17.41 7.96l-1.37-1.37c-.4-.4-.92-.59-1.43-.59-.52 0-1.04.2-1.43.59L10.3 9.45l-7.72 7.72c-.78.78-.78 2.05 0 2.83L4 21.41c.39.39.9.59 1.41.59.51 0 1.02-.2 1.41-.59l7.78-7.78 2.81-2.81c.8-.78.8-2.07 0-2.86zM5.41 20L4 18.59l7.72-7.72 1.47 1.35L5.41 20z\"/>\n",
       "  </svg>\n",
       "      </button>\n",
       "      \n",
       "  <style>\n",
       "    .colab-df-container {\n",
       "      display:flex;\n",
       "      flex-wrap:wrap;\n",
       "      gap: 12px;\n",
       "    }\n",
       "\n",
       "    .colab-df-convert {\n",
       "      background-color: #E8F0FE;\n",
       "      border: none;\n",
       "      border-radius: 50%;\n",
       "      cursor: pointer;\n",
       "      display: none;\n",
       "      fill: #1967D2;\n",
       "      height: 32px;\n",
       "      padding: 0 0 0 0;\n",
       "      width: 32px;\n",
       "    }\n",
       "\n",
       "    .colab-df-convert:hover {\n",
       "      background-color: #E2EBFA;\n",
       "      box-shadow: 0px 1px 2px rgba(60, 64, 67, 0.3), 0px 1px 3px 1px rgba(60, 64, 67, 0.15);\n",
       "      fill: #174EA6;\n",
       "    }\n",
       "\n",
       "    [theme=dark] .colab-df-convert {\n",
       "      background-color: #3B4455;\n",
       "      fill: #D2E3FC;\n",
       "    }\n",
       "\n",
       "    [theme=dark] .colab-df-convert:hover {\n",
       "      background-color: #434B5C;\n",
       "      box-shadow: 0px 1px 3px 1px rgba(0, 0, 0, 0.15);\n",
       "      filter: drop-shadow(0px 1px 2px rgba(0, 0, 0, 0.3));\n",
       "      fill: #FFFFFF;\n",
       "    }\n",
       "  </style>\n",
       "\n",
       "      <script>\n",
       "        const buttonEl =\n",
       "          document.querySelector('#df-5f1fa312-8952-42f3-b036-b9b9fd2f3026 button.colab-df-convert');\n",
       "        buttonEl.style.display =\n",
       "          google.colab.kernel.accessAllowed ? 'block' : 'none';\n",
       "\n",
       "        async function convertToInteractive(key) {\n",
       "          const element = document.querySelector('#df-5f1fa312-8952-42f3-b036-b9b9fd2f3026');\n",
       "          const dataTable =\n",
       "            await google.colab.kernel.invokeFunction('convertToInteractive',\n",
       "                                                     [key], {});\n",
       "          if (!dataTable) return;\n",
       "\n",
       "          const docLinkHtml = 'Like what you see? Visit the ' +\n",
       "            '<a target=\"_blank\" href=https://colab.research.google.com/notebooks/data_table.ipynb>data table notebook</a>'\n",
       "            + ' to learn more about interactive tables.';\n",
       "          element.innerHTML = '';\n",
       "          dataTable['output_type'] = 'display_data';\n",
       "          await google.colab.output.renderOutput(dataTable, element);\n",
       "          const docLink = document.createElement('div');\n",
       "          docLink.innerHTML = docLinkHtml;\n",
       "          element.appendChild(docLink);\n",
       "        }\n",
       "      </script>\n",
       "    </div>\n",
       "  </div>\n",
       "  "
      ],
      "text/plain": [
       "           Date  Price   Open   High    Low    Vol  Change %\n",
       "0  Dec 06, 1994  375.8  375.6  376.5  375.1  0.99K    0.0008\n",
       "1  Dec 07, 1994  376.1  377.0  377.5  375.1  1.88K    0.0008\n",
       "2  Dec 08, 1994  376.6  375.3  376.7  374.8  0.48K    0.0013\n",
       "3  Dec 09, 1994  377.0  375.6  377.0  375.5  0.38K    0.0011\n",
       "4  Dec 12, 1994  377.5  376.8  377.8  376.5  0.07K    0.0013"
      ]
     },
     "execution_count": 4,
     "metadata": {},
     "output_type": "execute_result"
    }
   ],
   "source": [
    "df_original.head()"
   ]
  },
  {
   "cell_type": "code",
   "execution_count": null,
   "id": "radio-power",
   "metadata": {
    "colab": {
     "base_uri": "https://localhost:8080/"
    },
    "executionInfo": {
     "elapsed": 14,
     "status": "ok",
     "timestamp": 1640684089665,
     "user": {
      "displayName": "Fatma Yürek",
      "photoUrl": "https://lh3.googleusercontent.com/a-/AOh14GgUD5q6Dqn8419pReVnOLENTLh9hizgvYdxalCt=s64",
      "userId": "13554681259639851426"
     },
     "user_tz": -180
    },
    "id": "radio-power",
    "outputId": "bdd070ea-9d79-4da1-897d-3156a2461d91"
   },
   "outputs": [
    {
     "name": "stdout",
     "output_type": "stream",
     "text": [
      "Veri Setindeki Toplam Satır Sayısı: 6886\n",
      "Veri Setindeki Toplam Sütun Sayısı: 7\n"
     ]
    }
   ],
   "source": [
    "print(\"Veri Setindeki Toplam Satır Sayısı:\",df_original.shape[0])\n",
    "print(\"Veri Setindeki Toplam Sütun Sayısı:\",df_original.shape[1])"
   ]
  },
  {
   "cell_type": "code",
   "execution_count": null,
   "id": "positive-beatles",
   "metadata": {
    "colab": {
     "base_uri": "https://localhost:8080/"
    },
    "executionInfo": {
     "elapsed": 11,
     "status": "ok",
     "timestamp": 1640684089665,
     "user": {
      "displayName": "Fatma Yürek",
      "photoUrl": "https://lh3.googleusercontent.com/a-/AOh14GgUD5q6Dqn8419pReVnOLENTLh9hizgvYdxalCt=s64",
      "userId": "13554681259639851426"
     },
     "user_tz": -180
    },
    "id": "positive-beatles",
    "outputId": "2c493310-3557-4d4e-f6d9-9465a0f39fa3",
    "scrolled": true
   },
   "outputs": [
    {
     "name": "stdout",
     "output_type": "stream",
     "text": [
      "<class 'pandas.core.frame.DataFrame'>\n",
      "RangeIndex: 6886 entries, 0 to 6885\n",
      "Data columns (total 7 columns):\n",
      " #   Column    Non-Null Count  Dtype  \n",
      "---  ------    --------------  -----  \n",
      " 0   Date      6886 non-null   object \n",
      " 1   Price     6886 non-null   float64\n",
      " 2   Open      6886 non-null   float64\n",
      " 3   High      6886 non-null   float64\n",
      " 4   Low       6886 non-null   float64\n",
      " 5   Vol       6886 non-null   object \n",
      " 6   Change %  6886 non-null   float64\n",
      "dtypes: float64(5), object(2)\n",
      "memory usage: 376.7+ KB\n"
     ]
    }
   ],
   "source": [
    "df_original.info()"
   ]
  },
  {
   "cell_type": "markdown",
   "id": "recognized-regulation",
   "metadata": {
    "id": "recognized-regulation"
   },
   "source": [
    "### 1.Time Stamp Oluşturma <a id=1></a>"
   ]
  },
  {
   "cell_type": "code",
   "execution_count": null,
   "id": "fixed-parallel",
   "metadata": {
    "id": "fixed-parallel"
   },
   "outputs": [],
   "source": [
    "df[\"Date\"] = pd.to_datetime(df[\"Date\"])"
   ]
  },
  {
   "cell_type": "code",
   "execution_count": null,
   "id": "revolutionary-millennium",
   "metadata": {
    "id": "revolutionary-millennium"
   },
   "outputs": [],
   "source": [
    "df.set_index(df[\"Date\"],inplace=True)"
   ]
  },
  {
   "cell_type": "code",
   "execution_count": null,
   "id": "1dTbwTKjZ6da",
   "metadata": {
    "colab": {
     "base_uri": "https://localhost:8080/"
    },
    "executionInfo": {
     "elapsed": 321,
     "status": "ok",
     "timestamp": 1640684313353,
     "user": {
      "displayName": "Fatma Yürek",
      "photoUrl": "https://lh3.googleusercontent.com/a-/AOh14GgUD5q6Dqn8419pReVnOLENTLh9hizgvYdxalCt=s64",
      "userId": "13554681259639851426"
     },
     "user_tz": -180
    },
    "id": "1dTbwTKjZ6da",
    "outputId": "f3434e07-956a-4826-842a-6cc3aa202816"
   },
   "outputs": [
    {
     "name": "stdout",
     "output_type": "stream",
     "text": [
      "<class 'pandas.core.frame.DataFrame'>\n",
      "DatetimeIndex: 6886 entries, 1994-12-06 to 2021-12-06\n",
      "Data columns (total 3 columns):\n",
      " #   Column    Non-Null Count  Dtype         \n",
      "---  ------    --------------  -----         \n",
      " 0   Date      6886 non-null   datetime64[ns]\n",
      " 1   Price     6886 non-null   float64       \n",
      " 2   Change %  6886 non-null   float64       \n",
      "dtypes: datetime64[ns](1), float64(2)\n",
      "memory usage: 535.2 KB\n"
     ]
    }
   ],
   "source": [
    "df.info()"
   ]
  },
  {
   "cell_type": "markdown",
   "id": "endless-consistency",
   "metadata": {
    "id": "endless-consistency"
   },
   "source": [
    "Gereksiz Özniteliklerin Çıkarılması"
   ]
  },
  {
   "cell_type": "code",
   "execution_count": null,
   "id": "referenced-training",
   "metadata": {
    "id": "referenced-training",
    "scrolled": true
   },
   "outputs": [],
   "source": [
    "df.drop([\"Open\",\"High\",\"Low\",\"Vol\"],axis=1,inplace=True)"
   ]
  },
  {
   "cell_type": "markdown",
   "id": "L71xwOTvXvbq",
   "metadata": {
    "id": "L71xwOTvXvbq"
   },
   "source": [
    "# **Durağanlık ve Seriyi Durağan Hale Getirmek**\n",
    "Serinin durağan olması istatistiksel özelliklerin her dönemde aynı olması için önemlidir. Bu zaman serisinin durağan olmaması analizinin yapılamayacağı anlamına gelmiyor, fakat seriyi durağanlaştırmamız gerekli. Bunu fark alarak kolaylıkla yapabiliriz. Bunun için, bir farkını aldığımız serinin durağan olup olmadığını tekrar test etmemiz gerekecektir. Seriyi bir fark ile durağanlaştırdığımızda Indiffirence(d) 1 olacaktır.\n"
   ]
  },
  {
   "cell_type": "markdown",
   "id": "marine-heaven",
   "metadata": {
    "id": "marine-heaven"
   },
   "source": [
    "### 2. Change(%) Özniteliğinin İncelenmesi (Öznitelik Çıkarımı) <a id=2></a>"
   ]
  },
  {
   "cell_type": "code",
   "execution_count": null,
   "id": "potential-teacher",
   "metadata": {
    "id": "potential-teacher"
   },
   "outputs": [],
   "source": [
    "df_chg = df.copy()"
   ]
  },
  {
   "cell_type": "markdown",
   "id": "sacred-blink",
   "metadata": {
    "id": "sacred-blink"
   },
   "source": [
    "**Change** özniteliğinin günlük değerin  önceki günki değerle farkının bir ilişkisi olduğunu biliyoruz. Bunu inceleyelim ve teyit edelim."
   ]
  },
  {
   "cell_type": "markdown",
   "id": "curious-three",
   "metadata": {
    "id": "curious-three"
   },
   "source": [
    "Price değerini shift ederek **Prev_Price** önceki gün değerlerini eşleyelim."
   ]
  },
  {
   "cell_type": "code",
   "execution_count": null,
   "id": "ecological-survey",
   "metadata": {
    "id": "ecological-survey"
   },
   "outputs": [],
   "source": [
    "df_chg[\"Prev_Price\"] = df_chg[\"Price\"].shift(1)"
   ]
  },
  {
   "cell_type": "code",
   "execution_count": null,
   "id": "typical-patrick",
   "metadata": {
    "colab": {
     "base_uri": "https://localhost:8080/",
     "height": 237
    },
    "executionInfo": {
     "elapsed": 20,
     "status": "ok",
     "timestamp": 1640684091724,
     "user": {
      "displayName": "Fatma Yürek",
      "photoUrl": "https://lh3.googleusercontent.com/a-/AOh14GgUD5q6Dqn8419pReVnOLENTLh9hizgvYdxalCt=s64",
      "userId": "13554681259639851426"
     },
     "user_tz": -180
    },
    "id": "typical-patrick",
    "outputId": "c484f4d2-c7f6-4ad3-d80c-29ec31755c21"
   },
   "outputs": [
    {
     "data": {
      "text/html": [
       "\n",
       "  <div id=\"df-c2df5825-21b2-44a1-88a4-586e0781e668\">\n",
       "    <div class=\"colab-df-container\">\n",
       "      <div>\n",
       "<style scoped>\n",
       "    .dataframe tbody tr th:only-of-type {\n",
       "        vertical-align: middle;\n",
       "    }\n",
       "\n",
       "    .dataframe tbody tr th {\n",
       "        vertical-align: top;\n",
       "    }\n",
       "\n",
       "    .dataframe thead th {\n",
       "        text-align: right;\n",
       "    }\n",
       "</style>\n",
       "<table border=\"1\" class=\"dataframe\">\n",
       "  <thead>\n",
       "    <tr style=\"text-align: right;\">\n",
       "      <th></th>\n",
       "      <th>Date</th>\n",
       "      <th>Price</th>\n",
       "      <th>Change %</th>\n",
       "      <th>Prev_Price</th>\n",
       "    </tr>\n",
       "    <tr>\n",
       "      <th>Date</th>\n",
       "      <th></th>\n",
       "      <th></th>\n",
       "      <th></th>\n",
       "      <th></th>\n",
       "    </tr>\n",
       "  </thead>\n",
       "  <tbody>\n",
       "    <tr>\n",
       "      <th>1994-12-06</th>\n",
       "      <td>1994-12-06</td>\n",
       "      <td>375.8</td>\n",
       "      <td>0.0008</td>\n",
       "      <td>NaN</td>\n",
       "    </tr>\n",
       "    <tr>\n",
       "      <th>1994-12-07</th>\n",
       "      <td>1994-12-07</td>\n",
       "      <td>376.1</td>\n",
       "      <td>0.0008</td>\n",
       "      <td>375.8</td>\n",
       "    </tr>\n",
       "    <tr>\n",
       "      <th>1994-12-08</th>\n",
       "      <td>1994-12-08</td>\n",
       "      <td>376.6</td>\n",
       "      <td>0.0013</td>\n",
       "      <td>376.1</td>\n",
       "    </tr>\n",
       "    <tr>\n",
       "      <th>1994-12-09</th>\n",
       "      <td>1994-12-09</td>\n",
       "      <td>377.0</td>\n",
       "      <td>0.0011</td>\n",
       "      <td>376.6</td>\n",
       "    </tr>\n",
       "    <tr>\n",
       "      <th>1994-12-12</th>\n",
       "      <td>1994-12-12</td>\n",
       "      <td>377.5</td>\n",
       "      <td>0.0013</td>\n",
       "      <td>377.0</td>\n",
       "    </tr>\n",
       "  </tbody>\n",
       "</table>\n",
       "</div>\n",
       "      <button class=\"colab-df-convert\" onclick=\"convertToInteractive('df-c2df5825-21b2-44a1-88a4-586e0781e668')\"\n",
       "              title=\"Convert this dataframe to an interactive table.\"\n",
       "              style=\"display:none;\">\n",
       "        \n",
       "  <svg xmlns=\"http://www.w3.org/2000/svg\" height=\"24px\"viewBox=\"0 0 24 24\"\n",
       "       width=\"24px\">\n",
       "    <path d=\"M0 0h24v24H0V0z\" fill=\"none\"/>\n",
       "    <path d=\"M18.56 5.44l.94 2.06.94-2.06 2.06-.94-2.06-.94-.94-2.06-.94 2.06-2.06.94zm-11 1L8.5 8.5l.94-2.06 2.06-.94-2.06-.94L8.5 2.5l-.94 2.06-2.06.94zm10 10l.94 2.06.94-2.06 2.06-.94-2.06-.94-.94-2.06-.94 2.06-2.06.94z\"/><path d=\"M17.41 7.96l-1.37-1.37c-.4-.4-.92-.59-1.43-.59-.52 0-1.04.2-1.43.59L10.3 9.45l-7.72 7.72c-.78.78-.78 2.05 0 2.83L4 21.41c.39.39.9.59 1.41.59.51 0 1.02-.2 1.41-.59l7.78-7.78 2.81-2.81c.8-.78.8-2.07 0-2.86zM5.41 20L4 18.59l7.72-7.72 1.47 1.35L5.41 20z\"/>\n",
       "  </svg>\n",
       "      </button>\n",
       "      \n",
       "  <style>\n",
       "    .colab-df-container {\n",
       "      display:flex;\n",
       "      flex-wrap:wrap;\n",
       "      gap: 12px;\n",
       "    }\n",
       "\n",
       "    .colab-df-convert {\n",
       "      background-color: #E8F0FE;\n",
       "      border: none;\n",
       "      border-radius: 50%;\n",
       "      cursor: pointer;\n",
       "      display: none;\n",
       "      fill: #1967D2;\n",
       "      height: 32px;\n",
       "      padding: 0 0 0 0;\n",
       "      width: 32px;\n",
       "    }\n",
       "\n",
       "    .colab-df-convert:hover {\n",
       "      background-color: #E2EBFA;\n",
       "      box-shadow: 0px 1px 2px rgba(60, 64, 67, 0.3), 0px 1px 3px 1px rgba(60, 64, 67, 0.15);\n",
       "      fill: #174EA6;\n",
       "    }\n",
       "\n",
       "    [theme=dark] .colab-df-convert {\n",
       "      background-color: #3B4455;\n",
       "      fill: #D2E3FC;\n",
       "    }\n",
       "\n",
       "    [theme=dark] .colab-df-convert:hover {\n",
       "      background-color: #434B5C;\n",
       "      box-shadow: 0px 1px 3px 1px rgba(0, 0, 0, 0.15);\n",
       "      filter: drop-shadow(0px 1px 2px rgba(0, 0, 0, 0.3));\n",
       "      fill: #FFFFFF;\n",
       "    }\n",
       "  </style>\n",
       "\n",
       "      <script>\n",
       "        const buttonEl =\n",
       "          document.querySelector('#df-c2df5825-21b2-44a1-88a4-586e0781e668 button.colab-df-convert');\n",
       "        buttonEl.style.display =\n",
       "          google.colab.kernel.accessAllowed ? 'block' : 'none';\n",
       "\n",
       "        async function convertToInteractive(key) {\n",
       "          const element = document.querySelector('#df-c2df5825-21b2-44a1-88a4-586e0781e668');\n",
       "          const dataTable =\n",
       "            await google.colab.kernel.invokeFunction('convertToInteractive',\n",
       "                                                     [key], {});\n",
       "          if (!dataTable) return;\n",
       "\n",
       "          const docLinkHtml = 'Like what you see? Visit the ' +\n",
       "            '<a target=\"_blank\" href=https://colab.research.google.com/notebooks/data_table.ipynb>data table notebook</a>'\n",
       "            + ' to learn more about interactive tables.';\n",
       "          element.innerHTML = '';\n",
       "          dataTable['output_type'] = 'display_data';\n",
       "          await google.colab.output.renderOutput(dataTable, element);\n",
       "          const docLink = document.createElement('div');\n",
       "          docLink.innerHTML = docLinkHtml;\n",
       "          element.appendChild(docLink);\n",
       "        }\n",
       "      </script>\n",
       "    </div>\n",
       "  </div>\n",
       "  "
      ],
      "text/plain": [
       "                 Date  Price  Change %  Prev_Price\n",
       "Date                                              \n",
       "1994-12-06 1994-12-06  375.8    0.0008         NaN\n",
       "1994-12-07 1994-12-07  376.1    0.0008       375.8\n",
       "1994-12-08 1994-12-08  376.6    0.0013       376.1\n",
       "1994-12-09 1994-12-09  377.0    0.0011       376.6\n",
       "1994-12-12 1994-12-12  377.5    0.0013       377.0"
      ]
     },
     "execution_count": 12,
     "metadata": {},
     "output_type": "execute_result"
    }
   ],
   "source": [
    "df_chg.head()"
   ]
  },
  {
   "cell_type": "markdown",
   "id": "resident-springfield",
   "metadata": {
    "id": "resident-springfield"
   },
   "source": [
    "Shiftten kaynaklanan Nan değerlerden kurtulduktan sonra fark alma işlemi gerçekleştirebiliriz."
   ]
  },
  {
   "cell_type": "code",
   "execution_count": null,
   "id": "higher-blank",
   "metadata": {
    "id": "higher-blank"
   },
   "outputs": [],
   "source": [
    "df_chg = df_chg[1:-1]"
   ]
  },
  {
   "cell_type": "markdown",
   "id": "elder-financing",
   "metadata": {
    "id": "elder-financing"
   },
   "source": [
    "Önceki gün ile anlık günün farkını görmek için **Fark** özniteliğini oluşturalım."
   ]
  },
  {
   "cell_type": "code",
   "execution_count": null,
   "id": "accepted-green",
   "metadata": {
    "id": "accepted-green"
   },
   "outputs": [],
   "source": [
    "df_chg[\"Fark\"] = df_chg[\"Price\"] - df_chg[\"Prev_Price\"]"
   ]
  },
  {
   "cell_type": "code",
   "execution_count": null,
   "id": "minute-image",
   "metadata": {
    "id": "minute-image"
   },
   "outputs": [],
   "source": [
    "df_chg = df_chg[[\"Price\",\"Prev_Price\",\"Fark\",\"Change %\"]]"
   ]
  },
  {
   "cell_type": "markdown",
   "id": "portuguese-enterprise",
   "metadata": {
    "id": "portuguese-enterprise"
   },
   "source": [
    "Yüzdelik hesabı yaparak kendi change değerlerimizi oluşturalım"
   ]
  },
  {
   "cell_type": "code",
   "execution_count": null,
   "id": "alert-ratio",
   "metadata": {
    "id": "alert-ratio",
    "scrolled": true
   },
   "outputs": [],
   "source": [
    "df_chg[\"Check_Change\"] = (df_chg[\"Fark\"]*100) / df_chg[\"Price\"]"
   ]
  },
  {
   "cell_type": "markdown",
   "id": "presidential-smell",
   "metadata": {
    "id": "presidential-smell"
   },
   "source": [
    "Isı haritası yardımıyla **Check_Change** ve gerçek **Change** ilişkisine göz atalım."
   ]
  },
  {
   "cell_type": "code",
   "execution_count": null,
   "id": "weird-collapse",
   "metadata": {
    "colab": {
     "base_uri": "https://localhost:8080/",
     "height": 500
    },
    "executionInfo": {
     "elapsed": 619,
     "status": "ok",
     "timestamp": 1640684092652,
     "user": {
      "displayName": "Fatma Yürek",
      "photoUrl": "https://lh3.googleusercontent.com/a-/AOh14GgUD5q6Dqn8419pReVnOLENTLh9hizgvYdxalCt=s64",
      "userId": "13554681259639851426"
     },
     "user_tz": -180
    },
    "id": "weird-collapse",
    "outputId": "ddf60b42-13d2-498b-85ca-e404f844019a",
    "scrolled": false
   },
   "outputs": [
    {
     "data": {
      "image/png": "[encoded data removed]",
      "text/plain": [
       "<Figure size 720x576 with 2 Axes>"
      ]
     },
     "metadata": {
      "needs_background": "light"
     },
     "output_type": "display_data"
    }
   ],
   "source": [
    "plt.subplots(figsize=(10,8))\n",
    "mask = np.zeros_like(df_chg.corr())\n",
    "mask[np.triu_indices_from(mask)] = True\n",
    "\n",
    "sns.heatmap(df_chg.corr(), cmap=\"BuPu\", annot=True,\n",
    "           square=True, mask=mask)\n",
    "plt.title(\"Korelasyon Isı Haritası\");"
   ]
  },
  {
   "cell_type": "markdown",
   "id": "strange-identity",
   "metadata": {
    "id": "strange-identity"
   },
   "source": [
    "Korelasyon İlişklerini İncelersek;\n",
    "- Change ile Fark arasında **%92**'lik\n",
    "- Change ile Check Change arasında **%100**'lük\n",
    "\n",
    "\n",
    "ilişki olduğunu görebiliriz."
   ]
  },
  {
   "cell_type": "markdown",
   "id": "undefined-enterprise",
   "metadata": {
    "id": "undefined-enterprise"
   },
   "source": [
    "Change Değeri şuanki gün ile bir önceki günün farkı olduğu için aslında basit bir **diff** alma işlemi gibi düşünülebilir.\n",
    "Görseller de bizi destekleyecektir."
   ]
  },
  {
   "cell_type": "code",
   "execution_count": null,
   "id": "spatial-shanghai",
   "metadata": {
    "colab": {
     "base_uri": "https://localhost:8080/",
     "height": 308
    },
    "executionInfo": {
     "elapsed": 1341,
     "status": "ok",
     "timestamp": 1640684093983,
     "user": {
      "displayName": "Fatma Yürek",
      "photoUrl": "https://lh3.googleusercontent.com/a-/AOh14GgUD5q6Dqn8419pReVnOLENTLh9hizgvYdxalCt=s64",
      "userId": "13554681259639851426"
     },
     "user_tz": -180
    },
    "id": "spatial-shanghai",
    "outputId": "eb9d5ac3-00c4-448e-e507-a8ed4ed75809",
    "scrolled": false
   },
   "outputs": [
    {
     "data": {
      "image/png": "[encoded data removed]",
      "text/plain": [
       "<Figure size 1440x576 with 2 Axes>"
      ]
     },
     "metadata": {
      "needs_background": "light"
     },
     "output_type": "display_data"
    }
   ],
   "source": [
    "plt.rcParams[\"figure.figsize\"] = (20,8)\n",
    "plt.subplot(1, 2, 1)\n",
    "df[\"Price\"].diff().plot()\n",
    "plt.title(\"Price Diff(1)\")\n",
    "plt.subplot(1, 2, 2)\n",
    "df[\"Change %\"].plot(color=\"green\")\n",
    "plt.title(\"Change %\");"
   ]
  },
  {
   "cell_type": "markdown",
   "id": "objective-montreal",
   "metadata": {
    "id": "objective-montreal"
   },
   "source": [
    "Bu çıkarım işlemini yapmamızın amacı bizim için hedef değişkene karar vermemize yardımcı olmasıdır."
   ]
  },
  {
   "cell_type": "markdown",
   "id": "forced-mountain",
   "metadata": {
    "id": "forced-mountain"
   },
   "source": [
    "Bir zaman serisi problemini tahmin ederken değerleri tahmin etmek yerine değişimi tahmin etmek daha faydalı olabilmektedir. Değişim tahmin edildiğinde fiyatın tahmin edilmesi de kaçınılmazdır."
   ]
  },
  {
   "cell_type": "code",
   "execution_count": null,
   "id": "hydraulic-saturday",
   "metadata": {
    "colab": {
     "base_uri": "https://localhost:8080/",
     "height": 455
    },
    "executionInfo": {
     "elapsed": 10,
     "status": "ok",
     "timestamp": 1640684093984,
     "user": {
      "displayName": "Fatma Yürek",
      "photoUrl": "https://lh3.googleusercontent.com/a-/AOh14GgUD5q6Dqn8419pReVnOLENTLh9hizgvYdxalCt=s64",
      "userId": "13554681259639851426"
     },
     "user_tz": -180
    },
    "id": "hydraulic-saturday",
    "outputId": "972a8cf2-8c05-4269-eb88-1561c33b68a3"
   },
   "outputs": [
    {
     "data": {
      "text/html": [
       "\n",
       "  <div id=\"df-4e46966b-93d6-4d36-8575-a967a9463be8\">\n",
       "    <div class=\"colab-df-container\">\n",
       "      <div>\n",
       "<style scoped>\n",
       "    .dataframe tbody tr th:only-of-type {\n",
       "        vertical-align: middle;\n",
       "    }\n",
       "\n",
       "    .dataframe tbody tr th {\n",
       "        vertical-align: top;\n",
       "    }\n",
       "\n",
       "    .dataframe thead th {\n",
       "        text-align: right;\n",
       "    }\n",
       "</style>\n",
       "<table border=\"1\" class=\"dataframe\">\n",
       "  <thead>\n",
       "    <tr style=\"text-align: right;\">\n",
       "      <th></th>\n",
       "      <th>Date</th>\n",
       "      <th>Price</th>\n",
       "      <th>Change %</th>\n",
       "    </tr>\n",
       "    <tr>\n",
       "      <th>Date</th>\n",
       "      <th></th>\n",
       "      <th></th>\n",
       "      <th></th>\n",
       "    </tr>\n",
       "  </thead>\n",
       "  <tbody>\n",
       "    <tr>\n",
       "      <th>1994-12-06</th>\n",
       "      <td>1994-12-06</td>\n",
       "      <td>375.80</td>\n",
       "      <td>0.0008</td>\n",
       "    </tr>\n",
       "    <tr>\n",
       "      <th>1994-12-07</th>\n",
       "      <td>1994-12-07</td>\n",
       "      <td>376.10</td>\n",
       "      <td>0.0008</td>\n",
       "    </tr>\n",
       "    <tr>\n",
       "      <th>1994-12-08</th>\n",
       "      <td>1994-12-08</td>\n",
       "      <td>376.60</td>\n",
       "      <td>0.0013</td>\n",
       "    </tr>\n",
       "    <tr>\n",
       "      <th>1994-12-09</th>\n",
       "      <td>1994-12-09</td>\n",
       "      <td>377.00</td>\n",
       "      <td>0.0011</td>\n",
       "    </tr>\n",
       "    <tr>\n",
       "      <th>1994-12-12</th>\n",
       "      <td>1994-12-12</td>\n",
       "      <td>377.50</td>\n",
       "      <td>0.0013</td>\n",
       "    </tr>\n",
       "    <tr>\n",
       "      <th>...</th>\n",
       "      <td>...</td>\n",
       "      <td>...</td>\n",
       "      <td>...</td>\n",
       "    </tr>\n",
       "    <tr>\n",
       "      <th>2021-12-01</th>\n",
       "      <td>2021-12-01</td>\n",
       "      <td>1784.30</td>\n",
       "      <td>0.0044</td>\n",
       "    </tr>\n",
       "    <tr>\n",
       "      <th>2021-12-02</th>\n",
       "      <td>2021-12-02</td>\n",
       "      <td>1762.70</td>\n",
       "      <td>-0.0121</td>\n",
       "    </tr>\n",
       "    <tr>\n",
       "      <th>2021-12-03</th>\n",
       "      <td>2021-12-03</td>\n",
       "      <td>1783.90</td>\n",
       "      <td>0.0120</td>\n",
       "    </tr>\n",
       "    <tr>\n",
       "      <th>2021-12-05</th>\n",
       "      <td>2021-12-05</td>\n",
       "      <td>1783.80</td>\n",
       "      <td>-0.0001</td>\n",
       "    </tr>\n",
       "    <tr>\n",
       "      <th>2021-12-06</th>\n",
       "      <td>2021-12-06</td>\n",
       "      <td>1778.65</td>\n",
       "      <td>-0.0029</td>\n",
       "    </tr>\n",
       "  </tbody>\n",
       "</table>\n",
       "<p>6886 rows × 3 columns</p>\n",
       "</div>\n",
       "      <button class=\"colab-df-convert\" onclick=\"convertToInteractive('df-4e46966b-93d6-4d36-8575-a967a9463be8')\"\n",
       "              title=\"Convert this dataframe to an interactive table.\"\n",
       "              style=\"display:none;\">\n",
       "        \n",
       "  <svg xmlns=\"http://www.w3.org/2000/svg\" height=\"24px\"viewBox=\"0 0 24 24\"\n",
       "       width=\"24px\">\n",
       "    <path d=\"M0 0h24v24H0V0z\" fill=\"none\"/>\n",
       "    <path d=\"M18.56 5.44l.94 2.06.94-2.06 2.06-.94-2.06-.94-.94-2.06-.94 2.06-2.06.94zm-11 1L8.5 8.5l.94-2.06 2.06-.94-2.06-.94L8.5 2.5l-.94 2.06-2.06.94zm10 10l.94 2.06.94-2.06 2.06-.94-2.06-.94-.94-2.06-.94 2.06-2.06.94z\"/><path d=\"M17.41 7.96l-1.37-1.37c-.4-.4-.92-.59-1.43-.59-.52 0-1.04.2-1.43.59L10.3 9.45l-7.72 7.72c-.78.78-.78 2.05 0 2.83L4 21.41c.39.39.9.59 1.41.59.51 0 1.02-.2 1.41-.59l7.78-7.78 2.81-2.81c.8-.78.8-2.07 0-2.86zM5.41 20L4 18.59l7.72-7.72 1.47 1.35L5.41 20z\"/>\n",
       "  </svg>\n",
       "      </button>\n",
       "      \n",
       "  <style>\n",
       "    .colab-df-container {\n",
       "      display:flex;\n",
       "      flex-wrap:wrap;\n",
       "      gap: 12px;\n",
       "    }\n",
       "\n",
       "    .colab-df-convert {\n",
       "      background-color: #E8F0FE;\n",
       "      border: none;\n",
       "      border-radius: 50%;\n",
       "      cursor: pointer;\n",
       "      display: none;\n",
       "      fill: #1967D2;\n",
       "      height: 32px;\n",
       "      padding: 0 0 0 0;\n",
       "      width: 32px;\n",
       "    }\n",
       "\n",
       "    .colab-df-convert:hover {\n",
       "      background-color: #E2EBFA;\n",
       "      box-shadow: 0px 1px 2px rgba(60, 64, 67, 0.3), 0px 1px 3px 1px rgba(60, 64, 67, 0.15);\n",
       "      fill: #174EA6;\n",
       "    }\n",
       "\n",
       "    [theme=dark] .colab-df-convert {\n",
       "      background-color: #3B4455;\n",
       "      fill: #D2E3FC;\n",
       "    }\n",
       "\n",
       "    [theme=dark] .colab-df-convert:hover {\n",
       "      background-color: #434B5C;\n",
       "      box-shadow: 0px 1px 3px 1px rgba(0, 0, 0, 0.15);\n",
       "      filter: drop-shadow(0px 1px 2px rgba(0, 0, 0, 0.3));\n",
       "      fill: #FFFFFF;\n",
       "    }\n",
       "  </style>\n",
       "\n",
       "      <script>\n",
       "        const buttonEl =\n",
       "          document.querySelector('#df-4e46966b-93d6-4d36-8575-a967a9463be8 button.colab-df-convert');\n",
       "        buttonEl.style.display =\n",
       "          google.colab.kernel.accessAllowed ? 'block' : 'none';\n",
       "\n",
       "        async function convertToInteractive(key) {\n",
       "          const element = document.querySelector('#df-4e46966b-93d6-4d36-8575-a967a9463be8');\n",
       "          const dataTable =\n",
       "            await google.colab.kernel.invokeFunction('convertToInteractive',\n",
       "                                                     [key], {});\n",
       "          if (!dataTable) return;\n",
       "\n",
       "          const docLinkHtml = 'Like what you see? Visit the ' +\n",
       "            '<a target=\"_blank\" href=https://colab.research.google.com/notebooks/data_table.ipynb>data table notebook</a>'\n",
       "            + ' to learn more about interactive tables.';\n",
       "          element.innerHTML = '';\n",
       "          dataTable['output_type'] = 'display_data';\n",
       "          await google.colab.output.renderOutput(dataTable, element);\n",
       "          const docLink = document.createElement('div');\n",
       "          docLink.innerHTML = docLinkHtml;\n",
       "          element.appendChild(docLink);\n",
       "        }\n",
       "      </script>\n",
       "    </div>\n",
       "  </div>\n",
       "  "
      ],
      "text/plain": [
       "                 Date    Price  Change %\n",
       "Date                                    \n",
       "1994-12-06 1994-12-06   375.80    0.0008\n",
       "1994-12-07 1994-12-07   376.10    0.0008\n",
       "1994-12-08 1994-12-08   376.60    0.0013\n",
       "1994-12-09 1994-12-09   377.00    0.0011\n",
       "1994-12-12 1994-12-12   377.50    0.0013\n",
       "...               ...      ...       ...\n",
       "2021-12-01 2021-12-01  1784.30    0.0044\n",
       "2021-12-02 2021-12-02  1762.70   -0.0121\n",
       "2021-12-03 2021-12-03  1783.90    0.0120\n",
       "2021-12-05 2021-12-05  1783.80   -0.0001\n",
       "2021-12-06 2021-12-06  1778.65   -0.0029\n",
       "\n",
       "[6886 rows x 3 columns]"
      ]
     },
     "execution_count": 19,
     "metadata": {},
     "output_type": "execute_result"
    }
   ],
   "source": [
    "df"
   ]
  },
  {
   "cell_type": "code",
   "execution_count": null,
   "id": "narrative-coach",
   "metadata": {
    "id": "narrative-coach"
   },
   "outputs": [],
   "source": [
    "def date_features(df, label=None):\n",
    "    df_period = df.copy()\n",
    "\n",
    "    df_period['date'] = df.Date\n",
    "    df_period['month'] = df['Date'].dt.strftime('%B')\n",
    "    df_period['year'] = df['Date'].dt.strftime('%Y')\n",
    "    df_period['dayofweek'] = df['Date'].dt.strftime('%A')\n",
    "    df_period['quarter'] = df['Date'].dt.quarter\n",
    "    df_period['dayofyear'] = df['Date'].dt.dayofyear\n",
    "    df_period['dayofmonth'] = df['Date'].dt.day\n",
    "    df_period['weekofyear'] = df['Date'].dt.weekofyear\n",
    "    \n",
    "    X = df_period[['dayofweek','quarter','month','year',\n",
    "           'dayofyear','dayofmonth','weekofyear']]\n",
    "    if label:\n",
    "        y = df_period[label]\n",
    "        return X, y\n",
    "    return X"
   ]
  },
  {
   "cell_type": "code",
   "execution_count": null,
   "id": "speaking-nothing",
   "metadata": {
    "colab": {
     "base_uri": "https://localhost:8080/",
     "height": 237
    },
    "executionInfo": {
     "elapsed": 455,
     "status": "ok",
     "timestamp": 1640684094432,
     "user": {
      "displayName": "Fatma Yürek",
      "photoUrl": "https://lh3.googleusercontent.com/a-/AOh14GgUD5q6Dqn8419pReVnOLENTLh9hizgvYdxalCt=s64",
      "userId": "13554681259639851426"
     },
     "user_tz": -180
    },
    "id": "speaking-nothing",
    "outputId": "419f8586-12ca-4a13-aeda-13c31c14b8a8",
    "scrolled": true
   },
   "outputs": [
    {
     "data": {
      "text/html": [
       "\n",
       "  <div id=\"df-d4f2bc83-5b33-4bdc-a573-f338b36c1d67\">\n",
       "    <div class=\"colab-df-container\">\n",
       "      <div>\n",
       "<style scoped>\n",
       "    .dataframe tbody tr th:only-of-type {\n",
       "        vertical-align: middle;\n",
       "    }\n",
       "\n",
       "    .dataframe tbody tr th {\n",
       "        vertical-align: top;\n",
       "    }\n",
       "\n",
       "    .dataframe thead th {\n",
       "        text-align: right;\n",
       "    }\n",
       "</style>\n",
       "<table border=\"1\" class=\"dataframe\">\n",
       "  <thead>\n",
       "    <tr style=\"text-align: right;\">\n",
       "      <th></th>\n",
       "      <th>dayofweek</th>\n",
       "      <th>quarter</th>\n",
       "      <th>month</th>\n",
       "      <th>year</th>\n",
       "      <th>dayofyear</th>\n",
       "      <th>dayofmonth</th>\n",
       "      <th>weekofyear</th>\n",
       "      <th>Price</th>\n",
       "    </tr>\n",
       "    <tr>\n",
       "      <th>Date</th>\n",
       "      <th></th>\n",
       "      <th></th>\n",
       "      <th></th>\n",
       "      <th></th>\n",
       "      <th></th>\n",
       "      <th></th>\n",
       "      <th></th>\n",
       "      <th></th>\n",
       "    </tr>\n",
       "  </thead>\n",
       "  <tbody>\n",
       "    <tr>\n",
       "      <th>2017-01-02</th>\n",
       "      <td>Monday</td>\n",
       "      <td>1</td>\n",
       "      <td>January</td>\n",
       "      <td>2017</td>\n",
       "      <td>2</td>\n",
       "      <td>2</td>\n",
       "      <td>1</td>\n",
       "      <td>1151.05</td>\n",
       "    </tr>\n",
       "    <tr>\n",
       "      <th>2017-01-03</th>\n",
       "      <td>Tuesday</td>\n",
       "      <td>1</td>\n",
       "      <td>January</td>\n",
       "      <td>2017</td>\n",
       "      <td>3</td>\n",
       "      <td>3</td>\n",
       "      <td>1</td>\n",
       "      <td>1244.70</td>\n",
       "    </tr>\n",
       "    <tr>\n",
       "      <th>2017-01-04</th>\n",
       "      <td>Wednesday</td>\n",
       "      <td>1</td>\n",
       "      <td>January</td>\n",
       "      <td>2017</td>\n",
       "      <td>4</td>\n",
       "      <td>4</td>\n",
       "      <td>1</td>\n",
       "      <td>1247.10</td>\n",
       "    </tr>\n",
       "    <tr>\n",
       "      <th>2017-01-05</th>\n",
       "      <td>Thursday</td>\n",
       "      <td>1</td>\n",
       "      <td>January</td>\n",
       "      <td>2017</td>\n",
       "      <td>5</td>\n",
       "      <td>5</td>\n",
       "      <td>1</td>\n",
       "      <td>1262.10</td>\n",
       "    </tr>\n",
       "    <tr>\n",
       "      <th>2017-01-06</th>\n",
       "      <td>Friday</td>\n",
       "      <td>1</td>\n",
       "      <td>January</td>\n",
       "      <td>2017</td>\n",
       "      <td>6</td>\n",
       "      <td>6</td>\n",
       "      <td>1</td>\n",
       "      <td>1255.70</td>\n",
       "    </tr>\n",
       "  </tbody>\n",
       "</table>\n",
       "</div>\n",
       "      <button class=\"colab-df-convert\" onclick=\"convertToInteractive('df-d4f2bc83-5b33-4bdc-a573-f338b36c1d67')\"\n",
       "              title=\"Convert this dataframe to an interactive table.\"\n",
       "              style=\"display:none;\">\n",
       "        \n",
       "  <svg xmlns=\"http://www.w3.org/2000/svg\" height=\"24px\"viewBox=\"0 0 24 24\"\n",
       "       width=\"24px\">\n",
       "    <path d=\"M0 0h24v24H0V0z\" fill=\"none\"/>\n",
       "    <path d=\"M18.56 5.44l.94 2.06.94-2.06 2.06-.94-2.06-.94-.94-2.06-.94 2.06-2.06.94zm-11 1L8.5 8.5l.94-2.06 2.06-.94-2.06-.94L8.5 2.5l-.94 2.06-2.06.94zm10 10l.94 2.06.94-2.06 2.06-.94-2.06-.94-.94-2.06-.94 2.06-2.06.94z\"/><path d=\"M17.41 7.96l-1.37-1.37c-.4-.4-.92-.59-1.43-.59-.52 0-1.04.2-1.43.59L10.3 9.45l-7.72 7.72c-.78.78-.78 2.05 0 2.83L4 21.41c.39.39.9.59 1.41.59.51 0 1.02-.2 1.41-.59l7.78-7.78 2.81-2.81c.8-.78.8-2.07 0-2.86zM5.41 20L4 18.59l7.72-7.72 1.47 1.35L5.41 20z\"/>\n",
       "  </svg>\n",
       "      </button>\n",
       "      \n",
       "  <style>\n",
       "    .colab-df-container {\n",
       "      display:flex;\n",
       "      flex-wrap:wrap;\n",
       "      gap: 12px;\n",
       "    }\n",
       "\n",
       "    .colab-df-convert {\n",
       "      background-color: #E8F0FE;\n",
       "      border: none;\n",
       "      border-radius: 50%;\n",
       "      cursor: pointer;\n",
       "      display: none;\n",
       "      fill: #1967D2;\n",
       "      height: 32px;\n",
       "      padding: 0 0 0 0;\n",
       "      width: 32px;\n",
       "    }\n",
       "\n",
       "    .colab-df-convert:hover {\n",
       "      background-color: #E2EBFA;\n",
       "      box-shadow: 0px 1px 2px rgba(60, 64, 67, 0.3), 0px 1px 3px 1px rgba(60, 64, 67, 0.15);\n",
       "      fill: #174EA6;\n",
       "    }\n",
       "\n",
       "    [theme=dark] .colab-df-convert {\n",
       "      background-color: #3B4455;\n",
       "      fill: #D2E3FC;\n",
       "    }\n",
       "\n",
       "    [theme=dark] .colab-df-convert:hover {\n",
       "      background-color: #434B5C;\n",
       "      box-shadow: 0px 1px 3px 1px rgba(0, 0, 0, 0.15);\n",
       "      filter: drop-shadow(0px 1px 2px rgba(0, 0, 0, 0.3));\n",
       "      fill: #FFFFFF;\n",
       "    }\n",
       "  </style>\n",
       "\n",
       "      <script>\n",
       "        const buttonEl =\n",
       "          document.querySelector('#df-d4f2bc83-5b33-4bdc-a573-f338b36c1d67 button.colab-df-convert');\n",
       "        buttonEl.style.display =\n",
       "          google.colab.kernel.accessAllowed ? 'block' : 'none';\n",
       "\n",
       "        async function convertToInteractive(key) {\n",
       "          const element = document.querySelector('#df-d4f2bc83-5b33-4bdc-a573-f338b36c1d67');\n",
       "          const dataTable =\n",
       "            await google.colab.kernel.invokeFunction('convertToInteractive',\n",
       "                                                     [key], {});\n",
       "          if (!dataTable) return;\n",
       "\n",
       "          const docLinkHtml = 'Like what you see? Visit the ' +\n",
       "            '<a target=\"_blank\" href=https://colab.research.google.com/notebooks/data_table.ipynb>data table notebook</a>'\n",
       "            + ' to learn more about interactive tables.';\n",
       "          element.innerHTML = '';\n",
       "          dataTable['output_type'] = 'display_data';\n",
       "          await google.colab.output.renderOutput(dataTable, element);\n",
       "          const docLink = document.createElement('div');\n",
       "          docLink.innerHTML = docLinkHtml;\n",
       "          element.appendChild(docLink);\n",
       "        }\n",
       "      </script>\n",
       "    </div>\n",
       "  </div>\n",
       "  "
      ],
      "text/plain": [
       "            dayofweek  quarter    month  ... dayofmonth  weekofyear    Price\n",
       "Date                                     ...                                \n",
       "2017-01-02     Monday        1  January  ...          2           1  1151.05\n",
       "2017-01-03    Tuesday        1  January  ...          3           1  1244.70\n",
       "2017-01-04  Wednesday        1  January  ...          4           1  1247.10\n",
       "2017-01-05   Thursday        1  January  ...          5           1  1262.10\n",
       "2017-01-06     Friday        1  January  ...          6           1  1255.70\n",
       "\n",
       "[5 rows x 8 columns]"
      ]
     },
     "execution_count": 21,
     "metadata": {},
     "output_type": "execute_result"
    }
   ],
   "source": [
    "X, y = date_features(df, label='Price')\n",
    "df_new = pd.concat([X, y], axis=1)\n",
    "df_new = df_new[df_new[\"year\"]>\"2016\"]\n",
    "df_new.head()"
   ]
  },
  {
   "cell_type": "code",
   "execution_count": null,
   "id": "roman-spread",
   "metadata": {
    "colab": {
     "base_uri": "https://localhost:8080/",
     "height": 394
    },
    "executionInfo": {
     "elapsed": 6063,
     "status": "ok",
     "timestamp": 1640684100491,
     "user": {
      "displayName": "Fatma Yürek",
      "photoUrl": "https://lh3.googleusercontent.com/a-/AOh14GgUD5q6Dqn8419pReVnOLENTLh9hizgvYdxalCt=s64",
      "userId": "13554681259639851426"
     },
     "user_tz": -180
    },
    "id": "roman-spread",
    "outputId": "704ab414-51dc-4087-f945-b594443a730c"
   },
   "outputs": [
    {
     "data": {
      "image/png": "[encoded data removed]",
      "text/plain": [
       "<Figure size 1440x720 with 1 Axes>"
      ]
     },
     "metadata": {
      "needs_background": "light"
     },
     "output_type": "display_data"
    }
   ],
   "source": [
    "fig, ax = plt.subplots(figsize=(20,10))\n",
    "palette = sns.color_palette(\"mako_r\", 4)\n",
    "a = sns.barplot(x=\"month\", y=\"Price\",hue = 'year',data=df_new)\n",
    "a.set_title(\"Son 5 Yılın Aylık Bazda Price Değeri\",fontsize=15)\n",
    "plt.legend(loc='upper left')\n",
    "plt.show()"
   ]
  },
  {
   "cell_type": "code",
   "execution_count": null,
   "id": "continuous-acoustic",
   "metadata": {
    "colab": {
     "base_uri": "https://localhost:8080/",
     "height": 394
    },
    "executionInfo": {
     "elapsed": 1335,
     "status": "ok",
     "timestamp": 1640684101818,
     "user": {
      "displayName": "Fatma Yürek",
      "photoUrl": "https://lh3.googleusercontent.com/a-/AOh14GgUD5q6Dqn8419pReVnOLENTLh9hizgvYdxalCt=s64",
      "userId": "13554681259639851426"
     },
     "user_tz": -180
    },
    "id": "continuous-acoustic",
    "outputId": "7a7d51a1-f2fd-45d2-efe3-233f98e9e831"
   },
   "outputs": [
    {
     "data": {
      "image/png": "[encoded data removed]",
      "text/plain": [
       "<Figure size 1440x720 with 1 Axes>"
      ]
     },
     "metadata": {
      "needs_background": "light"
     },
     "output_type": "display_data"
    }
   ],
   "source": [
    "fig, ax = plt.subplots(figsize=(20,10))\n",
    "palette = sns.color_palette(\"mako_r\", 4)\n",
    "a = sns.barplot(x=\"quarter\", y=\"Price\",hue = 'year',data=df_new)\n",
    "a.set_title(\"Son 5 Yılın Çeyreklik Bazda Price Değeri\",fontsize=15)\n",
    "plt.legend(loc='upper left')\n",
    "plt.show()"
   ]
  },
  {
   "cell_type": "code",
   "execution_count": null,
   "id": "color-toronto",
   "metadata": {
    "colab": {
     "base_uri": "https://localhost:8080/",
     "height": 308
    },
    "executionInfo": {
     "elapsed": 526,
     "status": "ok",
     "timestamp": 1640684102334,
     "user": {
      "displayName": "Fatma Yürek",
      "photoUrl": "https://lh3.googleusercontent.com/a-/AOh14GgUD5q6Dqn8419pReVnOLENTLh9hizgvYdxalCt=s64",
      "userId": "13554681259639851426"
     },
     "user_tz": -180
    },
    "id": "color-toronto",
    "outputId": "6042d7c8-af06-4277-e604-0bcf9157f76d",
    "scrolled": true
   },
   "outputs": [
    {
     "data": {
      "image/png": "[encoded data removed]",
      "text/plain": [
       "<Figure size 1440x576 with 1 Axes>"
      ]
     },
     "metadata": {
      "needs_background": "light"
     },
     "output_type": "display_data"
    }
   ],
   "source": [
    "df[\"Price\"].plot()\n",
    "plt.title(\"27 Yıllık Fiyat Değerinin Değişimi\");"
   ]
  },
  {
   "cell_type": "code",
   "execution_count": null,
   "id": "blond-willow",
   "metadata": {
    "colab": {
     "base_uri": "https://localhost:8080/",
     "height": 237
    },
    "executionInfo": {
     "elapsed": 1103,
     "status": "ok",
     "timestamp": 1640684103434,
     "user": {
      "displayName": "Fatma Yürek",
      "photoUrl": "https://lh3.googleusercontent.com/a-/AOh14GgUD5q6Dqn8419pReVnOLENTLh9hizgvYdxalCt=s64",
      "userId": "13554681259639851426"
     },
     "user_tz": -180
    },
    "id": "blond-willow",
    "outputId": "886c37eb-d9b5-45c8-8f3d-3517bedfc6cc",
    "scrolled": false
   },
   "outputs": [
    {
     "data": {
      "image/png": "[encoded data removed]",
      "text/plain": [
       "<Figure size 1440x432 with 1 Axes>"
      ]
     },
     "metadata": {
      "needs_background": "light"
     },
     "output_type": "display_data"
    }
   ],
   "source": [
    "moving_avg_3month = df[\"Price\"].rolling(90).mean()\n",
    "moving_avg_year = df[\"Price\"].rolling(365).mean()\n",
    "df[\"Price\"].plot(figsize=(20, 6), label = \"Price\", legend=True, color =\"gray\")\n",
    "moving_avg_year.plot(label = \"Yearly Moving Avg\",legend=True, color=\"red\")\n",
    "moving_avg_3month.plot(label = \"3 Monthly Moving Avg\",legend=True, color=\"blue\");"
   ]
  },
  {
   "cell_type": "markdown",
   "id": "precise-dubai",
   "metadata": {
    "id": "precise-dubai"
   },
   "source": [
    "## 3. Zaman Serisi Durağanlık Kontrolü <a id=3></a>"
   ]
  },
  {
   "cell_type": "markdown",
   "id": "EAPFhJP3KAz9",
   "metadata": {
    "id": "EAPFhJP3KAz9"
   },
   "source": [
    "Bir dizinin durağan seri olarak sınıflandırılması için üç temel kriter vardır:\n",
    "\n",
    "1.  Serinin ortalaması, zamanın bir fonksiyonu olmamalı, sabit olmalıdır. Aşağıdaki görüntü koşulu karşılayan sol taraftaki grafiğe sahipken, kırmızı grafik zamana bağlı bir ortalamaya sahiptir.\n",
    "![Screenshot_1.png](data:image/png;base64,iVBORw0KGgoAAAANSUhEUgAAAtkAAAFZCAYAAABNFTPbAAAAAXNSR0IArs4c6QAAAARnQU1BAACxjwv8YQUAAAAJcEhZcwAAFiUAABYlAUlSJPAAAKYJSURBVHhe7b0HeFRXlq59e3LPdM/Mnem5984/M93OxjnnnCM2yWDAGGxswOScczaYbDAZTDKYYHIQOSMkEQUiCqEsJFXO6fv32lUllYTKJpSEwvf62ZYonbir6tR7dq291v8CIYQQQgghJKZQsgkhhBBCCIkxlGxCCCGEEEJiDCWbEEIIIYSQGEPJJoQQQgghJMZQsgkhhBBCCIkxlGxCCCGEEEJiDCWbEEIIIYSQGEPJJoQQQgghJMZQsgkhhBBCCIkxlGxCCCGEEEJiDCWbEEIIIYSQGEPJJoQQQgghJMZQsgkhhBBCCIkxlGxCCCGEEEJiDCWbEEIIIYSQGEPJJoQQQgghJMZQsgkhhBBCCIkxlGxCCCGEEEJiDCWbEEIIIYSQGEPJJoQQQgghJMZQsgkhhBBCCIkxlGxCCCGEEEJiDCWbEEIIIYSQGEPJJoQQQgghJMZQsgkhhBBCCIkxlGxCCCGEEEJiDCWbEEIIIYSQGEPJJoQQQgghJMZQsgkhhBBCCIkxlGxCCCGEEEJiDCWbEEJIhWG322E2m3WzWCwIBAKhvxBCSPWCkk0IIaRCEKFetGgR+vfvj379+mHs2LGw2WwUbUJItYSSTQghpNwRmV6xYgWef/55/OEPf8A//dM/4c9//jOmTp2KrKys0FKEEFJ9oGQTQggpd7Kzs/Haa69pwf7d736H//W//hf+9m//FnfffTf27t3L0WxCSLWDkk0IIaRcEYFOT0/HXXfdhb/6q7/Sgi1NZPvv//7vsWXLFko2IaTaQckmhBBSrlCyCSE1EUo2IYSQcoWSTQipiVCyCSGElCuUbEJITYSSTQghpFyhZBNCaiKU7F/B5/MhNzcXiYmJiI+Px/Hjx5Gfnx/6KyGEkGuBkk0IqYlQsqPg9/tx5coVzJ07F6+//jqee+451K9fH8uXL2fxBEIIuQ4o2YSQmgglOwoFBQWYMWMGHn30UZ3LVT4M/vjHP+LVV1/Vou12u0NLEkII+TUo2YSQmgglOwoZGRno0qUL/uZv/qbEB8K///u/Y8SIEXA4HKElCSGE/BqUbEJITYSSHQX5QOjYsWPRh0G4/cu//AuGDh1KySaEkGuEkk0IqYlQsqNAySaEkNhAySaE1EQo2VGgZBNCSGygZBNCaiKU7ChQsgkhJDZQsgkhNRFKdhQo2YQQEhso2YSQmgglOwqUbEIIiQ2UbEJITYSSHQVKNiGExAZKNiGkJkLJjgIlmxBCYgMlm5Aqjt+PgMuFgNkCv8GIgFGaCYFCA/wFhcEmj9tsgM8XWolQsqNAySaEkNhAySakCiLvyVAL2OzwJCTBMXUGbIOHwz5iDOzfjoNtwFBYe/XXzT5sFFzLVmjhJkEo2VGgZBNCSGygZBNShXC54Tt/Ea7V6+CYNQ/OuQvgnD0ftn6DYf6oAYzPv6ab6YXXYXz6ZRiefEE343OvwtygCRw/zIL/cjpHtBWU7ChQsgkhJDZQsgmpOgSsNnh274O1R1+YPqgL03t1YH6vLowvvQnD/Y+h8LZaKPzLvWU2w32P6uXtI8fAvWY9fGfOIuB2h7Zc86BkR4GSTQghsYGSTUjlJ+B0wZeVBc/hRDinz4a53qcw3PNwhFTfg8I/q/Y/dxe3/76r5L/l77ffB8Njz6n1G+uQEs/hBB3PXROhZEeBkk0IIbGBkk1IJUXed263ntDoO3MOzgWLYe3QBaYP68HwxPNBwY6U6LJaadFWreB/lGzLyPYjT8PSqh28p8/o/dQ0KNlRoGQTQkhsoGQTUjmREWZv8ikde23r1R+WJl/oOOvCO+4Pjl6XlugyhLqohf8mo9mqadH+sxLtBx6H+ZOmej81LU6bkh0FSjYhhMQGSjYhlY+A3Q5P0lHYx02CuW4jJdcvwfDgEzCIYEcT6ChNRNr0zkewNGsJc52GML/3sf638dlXYLjrARjufxyWL1vDs+8A4PGEjqD6Q8mOAiWbEEJiAyWbkMpFwO4ICvaEKUqKGwUnNIZHrqM1EW3VDHc/pLOLmGVS5FsfwvTyW7B8/hUc3/8A95atcG/crCc9ulevg2vJMtgHDlMSruRd7cPavgvcO/fUGNGmZEeBkk0IIbGBkk1I5cKfXwDX4mWwNP1CjzKXKdSlHws9bnzmZVg7dINz9jzdHFN+0On+fOcvBCc4yns5ovlOndbhIoX3PKz3Ze3UHd6EIzUidISSHQVKNiGExAZKNiGVC39OLpzTZsL05gdly3TpJnHWd9yvR7El64hz0U/w510pKdRR8OfmwTnnRxhffFNPpDQ+9ixsXXsp0c/XlSSrM5TsKFCyCSEkNlCyCalEKLH1XU6HfcwEGF9+q2ypDjeRayXGksrP9NKbutiMfcgIePbsQ8BiCW3wN1D78xcWwtL8axjufViHpZjeeA+ulb/orCbVGUp2FCjZhBASGyjZhFQS1PtMh4qs+AWWlt/A8OizQZkuKzxECbbx8edg/ugTWFp8Hcx5vW2HrgYZMJoArze00d9Gwkgc02bA9Pp7wdR+MhHysy/0tq5nO1UNSnYUKNmEEBIbKNmEVBJEsi+lwT5qLExvvA/DXQ8WS3WkaCvBFhE2N2oGx+RpcG/aCu/pFATM5hsK8ZCqj66ffoa5dr2i4jaGh5+CbeCwYGo/b/WMz6ZkR4GSTQghsYGSTUglQN5jXi98587D1m8QjE+/WCzVkZItAnzfYzB/3FALtvfYCQRs9tBGbhC1X8+hw7B80VrHdYf3ZXj4adi/Ha8L4ejjq2ZQsqNAySaEkNhAySbkFuP36/hn/+V0eHbvha1nPxifKiXZ0pT8Gu58QI9y28dO0KPMgVj5jnqPOyZM0dlJdKx3SLSNz72q0//5TabQgtUHSnYUKNmEEBIbKNmE3FpElD0HD8OhxNn6dVuYa9cPpu6LDBEJNRnFtrRoBXfcdgSsttiNMKvtuLfugOXLb3SBGr1vaX+5B5aWbeDZfzC0YPWBkh0FSjYhhMQGSjYht5aAxQrX2g2wfN4ShoeeguHeR4Kx0SLWkaItsdgPPQlrmw7BDCJOZ2gLscFvMMK18CeYJXXgbfcWibakBXStWh07oa8kULKjQMkmhJDYQMkm5NYioSKSUUTKp+tQjbBchwU79NNw5/0wvfo27MNHw3vipJ6wGGv8ly7D+cMsGCWziVSZVPuWku72wcMRsNluaGJlZYWSHQVKNiGExAZKNiG3loDJDNfPK2H++JPiUesIuS6S7Ace1/msXb+sDRaLKY+qjOq97pUqkA0/Q2F4EuQd9+nMI+51G/WxyjLVAUp2FCjZhBASGyjZhNxC1HvLX1Coqy7qPNWRkh0h2NKMjz8PW58BehS7PEXXdykNtgFDYHjwyeD+VTPUekSHjegwFUkVWA2gZEeBkk0IIbGBkk3ILcTrhffsOdj7DlIi+2hJwQ63O+7TEx5NL78J++AR8J06HVq5fPBn58AxbSaMT7wQ3H94JP3eh3U8uPdgPAJOV2jpqgslOwqUbEIIiQ2UbEJuHcF47FUwf9JUZ/KIHLnWTSo7PvUiLJ99CVuvfjqsxJ+ZFVq7fJBYb9+FVJjrNy7Omy1NjuXx5+CY9D18F1NDS1ddKNlRoGQTQkhsoGQTcuvwFxrgmDEbpndqF8tspGj/5V6YXn8XjnETdQ5t3+X02OXG/hUCdrueYGl89pWSx3XH/Ur2+8N75FhoyaoLJTsKlGxCCIkNlGxCbh0Sjy2hGaa3PgxKdaTQhiX77Q/hWrgY/ty80FrlT8Dlgmv+QpgknV/kcd1+H6wdu8FzMF4uHqGlqyaU7ChQsgkhJDZQsgm5dQQKDXDOnAvTux8Vj15HirZI9ju14Vr0E/x5V0JrlT8Bj1ePnJs/+UwdQ63i47mtFizNWsKzdTslu7pCySaEkNhAySbk1hEwKMmWzCLv1ymW7EjRVlIr+bPd6zeqZY2htSqGgMcDx9SZML32XnH+bonLfvENOGbMqfJZRijZUaBkE0JIbKBkE3KL8PrgS02D/buJSmTfLSnZIaGVCo+2br3gO3MWKIfiM7+FPzcXzumzYXrl7aLjknR+1q694D1ateOyKdlRoGQTQkhsoGQTcgtQ7ymdWWT9JljadIDxieeDEiuj12HJvusBHUbinDMf/sJCvU6Fo/bpS0uHc+oMGO9/PDiifft9sDRpDrc69ltyTDGCkh0FSjYhhMQGSjapcvj9Os1cwOHUmTYCTvmpml39Lk0ek3+HH9f/Vs3lAnyVpCy4ek/JREb7hCnBzCJ3PXiVZBvueRjmxp/DvWFTsKT5rUIdqxTAkTSCheqYJE7c+PJbcIybpPu3qoo2JTsKlGxCCIkNlGxSpVCCLWnvPIlH4N64JdjitsG9KQ6u1et0c69Zr8R0M9xbt8O9eStc8u/1m+DZfyg4ebAyvJ7VMfhzcmAfMQbG518rHr2OEG2RbMtnX6hziLu1kq0IFBTAtWotjM+8EpwIefdDMDdqBs+2HTrdX1WEkh0FSjYhhMQGSjapMohg5xfAvXM3bAOGwtzwM5gbNIGlcXP9u+nD+sH2UQNdSMXSpIUWQf3vep/C2r4LXMtX6YqGEg99S9GSnQv7qO+uluyQaGvJbqokW91A3GrJ1n1fUKj7XYu2xIs//BQsn7dUNzqbdSn2qibblOwoULIJISQ2ULJJlcCnJC/vCtxbd8DWbzBMb7wHw4NP6El4hvseDf685yEtprrdG/l48N/Gx5/XQu6cPR/eI0fhz8oOhpDcCkSy1f7tQ0YEpbW0ZKumJVvdKLg3qffgrZZswScTNS/p0u76xkDKvT/0lLqBaaxDR7zxCQhYraGFKz+U7ChQsgkhJDZQsklVQOKrJdzDPmRksECKlPuWMuSRYho5abCsx2+7F4YHHoeky7N17QXn3AXwnkjW8doVTliyBw1Tkv3y1ccsI8UPPAHLl63hrkwhGSLap1LgCFeD/IvqU3UzYHr9PSXfw3WRGn1D4K8kse+/AiU7CpRsQgiJDZRsUhUIWG1wrVytwydE6q6SUmm/Jdnhdsf9MDzyDMwf1tOjslIiPGCx6smUIr8VgpbsLNgHRpFsdYySj9o2YIgedb9lI+5loUX7NOwjx+iRbMnlLaPaMhnSPmAovIlJVUK0KdlRoGQTQkhsoGSTqkDAZNap7Mzvfny1kEY2Eeposh3RCv5b/bz9PhiU4Fo7dYdz8VJ4k0/rEfMKQSQ7U0l2/8EwPv1SyeNTxy+hLnJD4Vr+C/wFBVpsKxUi2ufOwyETNx99Vo9oS39KGImt7yB4k9SNQWUIcfkVKNlRoGQTQkhsoGSTSot63ckItvdUClw/r4Q1Mp90tHZbLT26anrxDZheehPGp15S7UUYn1RNyazp1bd1YRXj0y/r0WzD3Q/puG3TOx/BPvo7eBOSyj80w+/X1RKlbLmkxZPY8hLnIJKtzsHasRu8hw7rfqiUeL3wp2fAPmw0zB/UhfGx5/TNgfHZl3UYjKeSx2hTsqNAySaEkNhAySaVEhFskxLRw0mwfztOh3ZINgsdmhAppJFN/U2E2tKiFRxKmB0Tv4d9+GglgaNgH6rayDFwfv8DHFOm6d/t/QbB2vxrPSHScOcDML3xvo751hP4yssjdJaOAnh27YGtZz+17+d0rHjpc9GS3am7PpZKjcejM4u4flwM+4AhsH7TUWdysTRoAuesufBdTK18o/AhKNlRoGQTQkhsoGSTSomEI5w5C8f302H6QAl2rUeD1QYjw0HCP0NVCI1PvgDL1+3gWrwUvuRTepRVsmH4LoaakkF/RqZu8rvv/AV4du6GpXkrPZFSRrWDoj2iONwh1q99t1tv2zZoeHBUXm4awucR0eSGwtq5B7yHK7lkCzKinZun+1Pix10rftE3K66FS+A7e06LeGWEkh0FSjYhhMQGSjapdKjXm1Ru9OzZp0MmJP2ejvkVAQ1LdqRoS4aLh5+G5fOv4Fy6XIu1nsR4DQSu5OsRb+NLbypRrxUc0X7l7eIJkTZ7TEVbYr7dW7bBrI61zPMJtWLJTgytWUVQwh0oNOgbJL/kzjabK+0ESEp2FCjZhBASGyjZpNLh88GbkqJHsSVMJFI+dSslpoY774fp7dpwTJ1+XYItBAxGuBYt1aPlhWo7epuS2ePZV2EfNBzexCMxnQwpZcilGqWUS7/qXELno89JJLtLFZTsKgQlOwqUbEIIiQ2UbFLpUJIsVQQtrdrDKCniQuJZokWIqYR5WBo1U/K6CQGLJbSRa0NiryV8w9q2Mwz3P1a87b/cq1PoOcZP1lk04PGG1rg5ZFKle+UvMH/UoMxzCTfDI0/D2q23OrYjoTVJrKFkR4GSTQghsYGSTSobkhPateRnmOs2KjnRUQQ0/Ls0icOWiY6ffg7HpKnwnjp9/fmkJdOHzQbnzDk6HltGsYtkV/1uadkG7rjtsck4ot5HfoMRzh9mlpm2r6jJyPw7H+mRfF/a5dDKJNZQsqNAySaEkNhAySaVChHR3Dw9gmx67Z2SIhqWUfkpI82PPQdr6/ZwLVuhs1hoEb6R+F+fD+7NccF0ehL/HZZdtR/JkiET+a53hLxMZDLn2bOw9RkAQ1jmI89Nmnpcx4TL5MvDiRWXt7sGQsmOAiWbEEJiAyWbVBqUhEraPve6jbA0aRG9sqNqEiIiqeKcs+fDd+Ei4L2JNHEi2Vu3w9L862AWk7Bkq2au8wlcPy0LTuC7SfSkx/UbYW7SPHge4f2Ez0tKqT/6LGw9+sIbLk9Oyg1KdhQo2YQQEhso2aSy4DcY4Fq7AZbGn8PwwBNXS2hEMzz6jC54ojOA3Oxor98Pz7adZUp2OC7bn18QWvjGkZF254+LYQpP5ozYj25Kso0vvAbn1Ok6/SApXyjZUaBkE0JIbKBkk0qBeo1J/mrbiDEwPB6q6hgpoGHBlpzY9zysRdW16Cf4s7P1ujeF7DstHfZRY3WFyBL5uO99BNZW7eA5FH/98d6lkHSAznkLYHq/TvH5RJ6jSPZLb8I5a44uuU7KF0p2FCjZhBASGyjZpFIgons5PVik5dFnrhZQafKYVHV87hXY+g4KlkC3xiikwuPVYSrmhp/BcM9DxftU4itpBHXIyE3GZZcp2ZHnqfYlky9dP6+AP+9KaC1SXlCyo0DJJoSQ2EDJJpUCkez0DF0EpkiyIwU03G6/D6b3PoZzweKgiMaw0IlMNLR17RUs3x6xT9Ob78M5fRYCRmNoyRujOFykfknJDp+nOjdzvcbwHDikbh6sobVIeUHJjgIlmxBCYgMlm1QKRLLTLusRaskRfZWASlO/G2o9oicOurdsRcASWxH1nUxWkj8cxidfLLFfyfbhmDAZ/sLC0JI3hlSxdP30M8wfNyx5ftL+fI+OQ7d26Ap/ZmZMbx5I2VCyo0DJJoSQ2EDJJpUCkWwZyR42KjSSXSzWuqnfJe2d+Z2P4Jw2EwGDQWcFiSWSzUOK4JjrforCOx8okmzJ+GHt1B3+7JzQkjdGeCTb/EHd4vMKN0nd9+b7cOgRc1NoDVKeULKjQMkmhJDYQMkmlQKRbInJ7j+k5Eh2WLRFQt+vC8eUH+C7kKqXjzlyDLl5cP28Eqa3PiwuhKOEW0JU3JviggJ8I/tWq+iiN3MjYrIjbiIMdz0YTBeo9h3rEXpSNpTsKFCyCSEkNlCySaVAvcZ85y/A2qo9DA88XjSKHJZRw70Pw9qmIzw79wDe2JQ4LxOfD/6c3GDs9Lsf6zhpOQap0OiYPA3+9MzrG0FX5yXS7D2RrAve2AcNh+mN94rkOnyOWrLrfQrXL2sYj11BULKjQMkmhJDYQMkmlQIlzt4jR2F68wMY7n7wasmu9Shs3XrryYkiruWKz69HrO1DR+qy7VJd0vDQk7C27wxv8unrk3y/X6cmdMyer28gzLXrw/j4c2VI9gMhyV5Lya4gKNlRoGQTQkhsoGSTyoCu9LhmnQ4LKRLQSAm9L1KyQyuVJ1IFclMcLM1aBkut334fDE+/GCyxLhMgr3ViolpOKlLah4yE4ckXguenpL30ORZLNkeyKwpKdhQo2YQQEhso2aQy4E0+BVv/wcViHW5hCRXJ7tEH3sSk0Brlj8RQOyZN06EiukDNbffC+NIbcC1boTOFXJPs+/zwppwNpgaUMJgIsS76XbVgTHYjuFauZkx2BUHJjgIlmxBCYgMlm9xy1OvLG58Aa9tOQZmNlOyQjBaPZFecZMtx+VLTdFl14+PPo0CE+PZakImLzrk/6uIyssyvNp8P3tNnYO3cE4b7r441LyHZ9ZRkr+JIdkVByY4CJZtUF9QlmJBbCiWb3HLU68t74BCsX7YJSnZYQCOaluzuSrITKlCyBQn3OHsOjrETYHjsWXVs6vgk08mH9WBX8i0x1BJWIqEuruWrVFupm3vNerg3boFL/ZSMKJZPm+vJm2GpLhLs0E+JQ2dMdsVCyY4CJZtUZcweGy5a05FUeBpJhtM4ajiDZNMFZDny4QvENu8rIb8FJZvcavwFhcEiLZLNIyyhYQENS/YDj8M2eDh8yadCa1UgknHk0mWdGcT49MsouK0WCiTryKPPwFy3ESxNv1CC3BimD+qpVleXYTfXbwxL4xYwN2gC49sfwvjMy0WZSorOTX6qbRnUdowvvA7rV23hjtsWHCEn5Q4lOwqU7MpDQP3n9ntgdFuQ6yxAthJFaXnOQlg8diWNrFpVmtPmVPxwbjnaHB6Or+OHoV3CKPQ8MhGLUzcq0b4CP/uMVCCU7GqOEsSAxaJLkEsxFd1y84L/zsm9+jH5PStb/Z6nY5LLu/KgxB+7t2yD5eu2V08IjJBRCddwzpyrj/OWoPpB+sPeb1Aw44jk0JZRdzlmabeFfkb7d3iEvtS5SQVLS6NmsPXoC8f02fCeOo2Ayx3aKSlPKNlRoGTfWkSsw/95/F6k2jIx7+IadD8yDt8cHoG2h0ei37HvsTZjN0xuq16OBJGeSCw8jT7HpuCpLZ/h3vV1ce/aurhPtfe2t8eUMz/B6uUoBqk4KNnVG8na4Vq9Vk8qtLRqD2u7LrD17Adbn4G6hLd+rL16rFd/1Qaov3eGpXV72PoNDo6qlmfognpduTZshllJps66ERq1vkpGlaSa33gfnq07yl36fxV1vFK10T5yDIwPP1VSnKMde/hvZT2umuHBJ2Dv3R/e+MOA0wl4+W1mRUHJjgIlu+KRj1gZlc5zFWJj1j5MPLMYo07NxdjT8zEieTa+OjQEL279Ao9vaqzbM5ub4cNdHdHr6CQsS9uCy7bs4IZqMH51gU4xp+L7s0vRYE933L++Pu5YWzvY1tTG/esa4P0dItpLQyPaFBtS/lCyqykS4iDVC1ethqVNBxhfelPnejY8/DQMjz0Ho2r697Iee/BJncvZ/HEDXebbn5mlBTPmqG065/wI09u1g9IZFtVSUiqjvdYuPeE9fjK04q3Fl54B17yFsHzcEAYpv15atiOO/bcel/63qxsg77EToa2TiqLqSLZ6o8hF+Or3YPhx1UKPxAJKdsXhDfhwyngB6zP34Ke0TZh7YTV6HJmI93a2x8tbW+LVbV/jNdVEqu9ZV7dYGlW7d10dPL35M3y6r7cOj7hgzZBXRGjLNQeTx4oTxnNYp/pw8pklaH5goO6Xu9d9rOT6wyLJlt/vX1cP725vi+nnVuCi6i+GjpDyhpJdzfB6ddlxT9x2OGfNhbVzd5iefy0og2VI3lXtv4ubrCPxxc5pM3XJ85jj9+tJgaZX3wntO0KyI6RUj/aOHAPfufOhFW8x6v3gz87WI/3O2fPU8b8djLeOnLT55+Cx/1bTkj1giLqBoGRXNFVDsl1mOC4nYeMv+3DoTA4KPOruWR4PeBCwnENS3E4ciD+Hy7bYXaQp2RWH0+fCivStaHN4BD7c3REf7+6MN7a1xn2Ro7BaEkOyWLqpxx9Qy368q7MSx+VItWbqGO6aglkJ9qH8ExiXshCfH+ivR/ef3fK5uiGpU9Q/RT9D7U4l3O/v6ICZ51eGRJuCQ8oPSnb1IuB0KvnbDmvPvjC/XwcmGcG+61cEO0Jmr3pM/dSiLSnrZs6J6Yh2wOWC7+x5WDt11/HWJfYd2dRjhoee0pk8fBcvhdauJEhfeDxwTp8NyydNYHzmJRgfexbGp16A6fX39GRGid82PvlCsD39EkyvvK2fk/Djpjffh2P8JPjOnA1tlFQUVUOyzWnI3/4dGjzXDK3Hr8H2LBNcfnUn7cpH/v7R6Nnga3QfsgK7c30xG8OkZFcMEm8tYQuTzizG2zu+wZ1rPyophqVbWY+HxLHWurp4d0c7TD37c40RbRm1P248h1HJc1F7Z0c8sKGB6otS/RPuI/17sK+k3bk6KNqzz6/Wk0oJKS8o2dUIvx/+3Fy45i+C+eOGxeL6Wy0ks1c9FmoGSVmnpNGptiuTIyUU5Wbx5xfAMWueEtNXou9bfpd9v/IOnIt+gj8rJ7R2JUO9PzzrN8M+YKjO5W3vN1iJ9yzYR3+nf7f3HRRsA4bAMWkqHN9N1CEi+rERY/SIuEw0JRVL1ZDsgAO2/ET83PElvNG0C3ovScAVcyFMWXswt+mD+Kzn95i7PxduX+wu0uUh2SJEEhrh8rnh8Ll0k1Fcp/q3/Aw/Fvm4LOv1V89JCtIfV1wGLLq0Ac3298PjGxtHyGCkGJZqIUmMfExGZqXdpdpb29po0U6zZVf7UAh5ffx8OQ4f7uqkbjLq/WofFT22OtTU73et+Qifqb7flnOIo9mk3KBkVx9kFNu1eh0srTrA+MTzxaIa/llW05kwagXDHWTyofyUf8vj8veQ8BrU45KGTkZtRZBvdgKixIs7Jn6vR3TD+yhxXPJv2eeLb8ChZFUyoYjMVlrkxsPtVhd+V7C5PSX/rZv6tzxWYjn1u9dbuc+tmlJFYrL98LkKUXB4KgZ+/iGatx+JaSu3Y/fUVnjtocbotWAPkowuJQmhxWNALCVb5EVGbC0em/5a/4fzyzHk5AzVZuLbU/Mx6cwSjEyeg0EnfsDAE9Mw+OR0jD49D/L1v4Q/7MxN0KOy1e3tIfmaU21Zui9e2vol7i4d3lD691C7a+1HOtZYwiEkJltijB/d0Ej/lOXl50e7OmPqmWV6RLu6yWP4Zk1uwhILTqP30Uk6/lpuMkr3Ven+C9+I6GVDov3Mps/Q+8gk2LwOijYpFyjZ1QddBnzqdJje+SgozGFZjfwZ2e58QOd9Nn9QD5bPW8L6TSdYPmupi6KY3voAxkefCQp3eF0lvZILWo9oSyq9m3hdSKpA27DRMDz+XPHxRB6jknzTa+/APmY8/JmZOiyDkFhSdSY+KkkN2C5i//SO6NzmU7zb9Eu0f/NpfNj2Z6w8egUGZdixvETHUrLzXQYczD+OJWkbMfzkLDTc21NJZUu8qMRSJvW9ub2NnuD3fFwL3V6I+0I//vq2Vnh3R1t0TBiNTVn7Yfc6q40EybOV6yjA6owdaLa/Px7e2KiEDEbKoYSQhKVasmU8v6UF3tvRXk92/PzgQD3Jr0PCt6itR3Pr6nUfXN8AjdXfl1+OQ4HLFNpr9cDitekQkV8ytqubtHn4RL2eHtzwSbDPSkm1buqxu9apPlz7MR7Z0BAvqdfXM1s+130lISP3rq2Dt9RrcMb5FbjiNFB2SMyhZFcT1HMUMJpgHzsBxpffKpbV0vIqk/OkAMrdD8H4ytuwdu2lC8F49uzTpc09e/bDs20n3Bs2wz5kBEwvvgHDHfcFt6GazvTxTUe9/M0UTZFc3FJcRldRDG27xLHeXitYAXHFLzcl84REo+pItiYA85ml+GFAfTx1/yN49OE6GLk5DRdMgZiOYguxkmyRyTPmS5h6bhma7O+Dd5Q0P7apsZKejyMkKEKIIpuSoztVe3JTE3x9aBh25B6GwWWu8h9GcqMgI7EnjRd0ar4X1I2F5HIufe7yU0atRQzlhuOj3Z31pMhuSeN0JpHVGbuwUd18SLq/LdkHMeTEDL2t8Cjt05s+Q48j45WQntXPQ3VBCvEsSdukUxq+t6OdnuSo+0/6LNRvkU1CQuTm7Q3Vh4339sag4z/gu5SFeHPHNzp/tvTVfevq6Zj43XlJulokIbGEkl0NUM+PjGJ7k47C1r2PnmBXJNWRTQm2VE7Uk+/eq6NzY7s3x+mKi1pk5WnWP4PNl3wa9v5DYHz2lWD4SEiAdcaRhUvgz88P7v8GCEr2CJ06UB9bKcmWOHCppCjHp4+HkBhT5STbkrUei0Y0xbsPPovHXuqKBYnZSjrUmz/G749YSbaEiOzKTdSy97iS5V8T6jIfC7WH1n+ClgcHY0fO4So/Sa3AZcR5azrWZu5G+4TRJW84Sp2/jLa+s70tBhyfigWp6zHnwmrszTuityHiHP5PUthtzTmElocGa2EU0ZbiK5ITesXlbboyZHWJz0635WLa2Z/xmpLmO8voM91C/w6OXjdCm/gROiRJKj7KzY18K9LjyAQ8ublp0U2JjGhL6NIlW1ZoT4TEBkp2NUA9PxJ+IRUDTR/Wh6HWo0FhLd1uq6XT5dl699ep82Q02l9QENpI2Xj2HYTl869guPeRoACrZnr5LTjGTYY/I1M++m8IOV778NEwPFFGuMifpcLjc7oKovfIsdAahMSWKiTZ6l3mtSFhTlu07/AmnmtUHx0eegRfjDuMPZeccMXYn25WskX8JGY2vuAkRp6cjQ92dsB960MT0yIkqEQrJUglHlMSVEtJ49cHh2Jb9iEtSVURuVZuyT6g47C/VEIs6eauEsVQk8cf2dgIreKHYXtOvI5L9/q9WpalfyORf8vNx/zUdXhrxzd6EqCEQjy24VP0OjIJRwrP6OejqiPfAEgucPlm5PXtrYJ9JZIc+boJv2ZUe3hDQx02szB1g07V5/K7dcEfT8Cr85HL61JGumXZe9Z8jN7HJiPZdCG0N0JiAyW7GuD3w3c5XUurpIUrURwl3GQU++6HYK7TCK6fVyIQnrz4G8+t91QKbAOHw/jUS0WSLXmrre06wZt05IZjpfXEx/GTgxMfI49T9nH7fbA0+UKHrNzsBEtColFFJFsplNcKx4VVmNL2a3ToNgbT16zDwcnt8NqLPTFsZRJO2dyltOvmuBnJFgmUEewD+cf16KGEOIgsSuhDkQyFRSgsRqrJiO696+rqkdgHN36C+zfURy0l5tLk8TuVDD2xsQm+iR+pY7SrWoo66ReHz4lZ51ei3p7ueHTjp3hgfYPi/ojoC2kyqVFS8o099SNOm1J/80NYJlJK/PvsC7/o8JJ71n6sb0ze3d4eC5RkSmx2Vf4gF8G+ZM3Ckkub8PWhocFsLJF9FtmH6nfpvw92dsSGrL06xERuMsI3J9JXK9K3ob56HmS0W27iRLY/2tkFcdkH1bIuvRwhsYCSXQ0QyU69BFvvAcHJipHSGm6SqeO513RJdU98gi4Pfi34Tp+BffCIYAhKSLIldESyfsjjvrPnris7RkBJecBq0+vZBoVisksf6x33w9q6Azy7917zdgm5XqqEZAf8DtjzT2DH+Bbo3H4Avl10COeyM1GQvBIDP34LdbtPwqx9qbC5Y/dGuRnJFsGWEexRIti7OuPRTZ+WisEWwQ7+LqO1Ek8rEv30pmZ6Ql+jfb3QLnE0mh3orye1NdjbQ4/4ipCKED27+XP0PjIZJwzntCxVFSR7xf4rR9E18TsdI1yiPyJ/hppkDGl3eBQ2qxsKiRO+1mf3oHqttI4fhseUxEsmjYfWfYLuSROQWHhaS35VQ8RYstNIGMdPaZt1n7wU96V+zZTuM/m3TBIVwZZl+h6bolMZyuh1JCI0sr2eRyfqmPc7lWRL/L/0eZ+jUxCff1Lvk5BYQMmuBihx9aWc0ZMYjQ8/rUQ1FHYR0fQodoMmcC1ZpkNEAteY61pL9hCR7JeLJVs1w10P6nLozgWLdejHtebO9l1MhXvdJjgmTIH1y29geOCJ4DYjj1cku11nePcdCK1FSOypEpLttWQife8M9PqoDjqOWYJ1Zwvh9Lrgtqbi2LzWaNb4c3QZvxoJWRJGEBtuRrJznQVYfGmjziKiR7B/JeZY4mDf2N5aj9i2iR+uS2JLxo09V45gY9Ze/KJ+X5W+Xccii2w/vOET3L3mI7y9/RtMObMUVq/EGleND6cCtwk/nP0ZH+7sVDyCHeqHop+h3+9R/SJZVyacXqQnjl4Pknmj55GJeGbzZ3qEVgRSwiJ+vLgOOQ514a8i/SVyLTdREhokI9iSD7vt4ZF4eeuXqFV6omioSXz183HN9QTbVoeGYWnaFh2vXhay/QWp6/D+zvb6ZkT3ler/V7Z+he9OL8BlWyUtykCqHJTsKo56bqRAjGv9JliafgnD/Y8FRbWUuBruexSWlt/As3P3dYVgyIizFEzRkx8jJFualAS3DRgMb/IpBCTf8zXg2btfT7g0vfWhrohYVI0y8nhFstt3gXf/wdBahMSeKiHZbsNlpMZNxYCuP2DRzhRccnmh72f9LgTy92L5d/0xafoqbL3ok2tBTLgZyZYKhpIO7Q0liVEFW5oSmoeUbMrI5LjTC7VUp9myrpqgJzIkcjj0xAw8t/lzHWssuaAb7OmOfVeO6pHzqoCkhxudPA/PKQksqy8if5cUfHLTsSFzL/JdxtAWro0jhhR0SfwOT21qqsVRtiejtZ0SxmCv6i8ZUa8KSFGidHsOEgqS9U2bvE5ejPtCj1KX6LtQn8m3IxLy0WhvL4w4ORvL0uJ0fLUUrCkLeV0FJ4sOwd0SyiR9pZpsQ9Ii7shNUEsQcvNQsqs4SphFcnU8thJhycpRJKthcf3LvTA88TysnXvAczD++iT7/AU4vh0H4/OvlRBsaZKpxNalp47NljLpv4l6Hbk3xcHy2Zc6fKXo+EofLyWbVABVIyZb7qJ9XnjcSq59pUarAz74vB54vepnDK/RNyLZEvMqWS8kZdyUs0vx5vbWSrJDZcLLaBL68czmZhiZPFuP1rolF3gUrcl1FmLYyVlasoOjs7V11ogvDg7SoSlVYSKkxEuPT1lYMlQkoumMIOvr6fCaV7a21KP6MlkvWp9E46jhDLomjVOSHRzJ1v2lti2CKunrko0X9ATKyo7EUUue7x5HJ6DJvj54detXV6c6LNXkWw6J15aJonLz9VsZVfbkHUFbJe8y6VGLeqiv6uzqip8ubbruvieVFHVtchpzcTk1E5dzzZCrl35m1fvAYytEbtplXL58BSaXP6bX0TCU7CqOzwdvQhKsnboHC8dESmtIXGW02PxRAzh+mKljt+Vz+1rxq9ef8/vpujBMeHvhpiVbibs38Toke8s2na1ES3Z4e6WOl5JNKoIqMvGx4rkeyRYRkYliJ4zn8GPqOvQ/PhUtDg4MVuGTEcKyZEgJtkhg8/0DdDiIhJj8mhAVuk2Yfn4FXt32lRZskSERKtlG36Pf43BBMlyVeCKkTNI8Z7mMLknf6bzfZfWJTFR8Y1trHRLR79j3iMs+oMuuXy8p6oZFcma/uOWLor6SJqE5EiMvmTaud3T8VnDZlq2ziEg8vmQJkRCRaK8nafK3+9VNSruEUUqek67pxkv6V3KOPyaTKKWflGjrkJPNLTD4+HRYdRXIax+RIpUUex7Sdy/C2D6j0W/qJhwyudR7UomTLQtpB5dhxsDhGDFhA+KzXbCVw/0nJbuKoyTbc/AQLF+3KzuriGoSQmLt0FVPJLwmGY5ELe89dBjWlm10HHZJyX4Ctq7XN5Lt2b4T1i/bFEu2tNKiLZLdljHZpHyhZEfheiRbJoidMafpEJHmSq6lWqPkH9Yp+5SwlJah8Ai2jEIvuLhOl/6OzPxQFvKVf7LpIj7b3w/3r6tfJI53r/kYbyoxFVG6bM8OLV35yHZcwWIlt3KTEK7KWLpfpJpj4719dOz0ccM5feNxIzcOEoMssewSEy+ZWsJ9JfuU0WAJzUm35/5qf99qJJPIKfV8S7EeqQaq+6iM11K4iWBLiM1b27/Bd6d/xEnjeZ2u77eQ166kVKy3p1vxDYnqJ3mNNd3XFwkFp3TYCqnieMzIO7kBswe2R7O2/TFs/UlkG4zISdmONRN7oGvXYRi/6iQum73qNRFaJ4ZQsqsuAacTAfVa8cRth+WL1iUKxkQ2Sbln69k3mHLvBp5LGf3WcdlPvliGZPeC98i1SbYcr1RwtDT8rOxRdwlrufshGO5TNwUShiKhLYSUE5TsKFyrZIuoyeTDuJyDaJswSlffuzsyZra0TCpRkjR8LQ4MVDK5FheVYF9rFgcR7VGn5uLlOCVdYXFU7eH1DdH76CQkFZ4OLVn5OK2EceDxqbo0elG/RPSNxAFLuXSZsHgo/wRuZjKnrCmS2efYZP1tQmRfScYNyfoimTUqs2RLusF1mbt1KMdT6oatqM9C/RXZgoL9Cd7d3laHw+zJS9RhS6UzikRDsq50TvxO37DJJFHpJ5kI+Y4S9p/T4qJOnCRVCR+c6j1xdM1Y9GvTFI07T8LyHYexad4o9Pu6LTqPW4HtWQ51jSmf9wQlu4qinhPvqdNwr9sIx5jxMNdvHJTs0uKqmuHhp2DrM+CGC7tI9hDnrHkwvfZucJtFki3hIt3hTUz6dcmW14/HC++JZNgGhCpIljXqfu8jMH9QNxjaMm6SjjUnpLygZEfhWiVbRlovWNLxw7mf8dGuzrhvff2rRShSKJXA1N7ZCdPPLsd5y+Xrig0WGV+Yul7vR28vJERSDbJz4lgczD9eKbVRZDZZfcD3UjcCWrIjZTH0u4RyNNrTU49iy8TRmxVgeU7Gnv5Rx3ZH9pVI9sjkuZVasuW4zprTMFrdUElKRxnhD/ZVqddSqMmos1TFHHhsmk6RaPJYrivEI8Oeq7PXSN7tcM5sGdWWMuzyuKGKVxglIXx2WC7vx+ZJHfB143po1Kk/Ojf5BF+0/g5Tt1xErno7lFdgECW7iuL3w7VsBayt28P01gcwPvNySXEVEZaft9UK5rQe/R18p1NCK18fAZMZnq07YGnUrEQstVSBtDRtoTOWBMqYCxVGBNx34aKuMml696Pim4HwMYaa8YnnYVcS7pz7I7yH4m+qbDshvwUlOwrXKtlSZVAKw0gcsYxiF43UltVCgtTy4BBsvYGqjRJCsDFrH5rs71siG8QDSrJaHxoeygZRuT6oDG6zFlqJr+5+ZILO4RzZF+HfJVtKx4QxShKPxeQcRFJHnpyj47LD/SRNJFsynEju6Mos2RIu0y1pPJ7e0qzkayjU5Pl/dGMjnUHlvR3tQiPYSbp8/PUi+0u1ZaJbqMy6fKsgkv361laYdWGVfg5J9cDnNCA3aTGm9XsPjzzyKF58oT76ztiBI3nl+26gZFdRfD44Z8zRuaqjxWIHRfhhWJp/DdfK1brK4o0i69qHjoJRiseEw1JE4J9+Cc7Z84PbjpK1xG80wrl8JSxNWuhRdX28YcGOEG0Z4XZMmwF/XmhbfN2RcoSSHYVrlWyZQLfscpyunCcx2GVOTFMSKZP6JGe2VDnsmPAtduUlXnesq3wMykQ1idN9IjxRTbV71tTB+9s76FFHmahWmeRRUgyOT1mkJ+PV3d01WPWyVN/IT5mwFx6NjwUi2SNKS7ba1wtbWuhJkTeStaSikOOSSbQ9lPSWKdnqPB5YX1+ncJSJpJKFZW/eER1icqOTFOUbmVRrFpoe6IeHNnyiJVv6TsKT8pyFlbavyPXh91hguLQRy8Y0xpsPPoXX3++CiauPqptOed2VH5TsKopI9pwFwZHhCKku+j3URGrtQ0bCe+IkbrQEuhAQUf5xMUzv1UHhnQ8U7+uO+4Nx2QmJOua6LPz5BeqGYDZMr7+nly86vlKirSX7ByXZUvKdkHKGkh2Fa5VsERDJKPL+zg7Fo7Slmow6Smxw0/190Sp+GKafW67TyN1IWXSRISmr/dGuTkXyKEL05Mam6HVkkp4sV1myQchH5vLLW/H5gQF4RsmiVBOUCpdhsQ43yWbx5KamSn6n6xHcWCCZTEYlz9Uj10WSrZqERHxzeAQSCk/p/q9s8ijHI7H3ki2m25EoI9mqvyR9o5yHTPCUc5VvVG62+qeEIw1XN3DSZ/KakomUUv4+UfVVVayUSUqhXh8uUwZObpqAYV3fxdt16+Oz2i0wePIm7L3kgEyTLa93AyX7OlFyG7BY4b+SD39ObrBduaIeswTLi1cEfj8CJhMcE6cqcQ3FSZcW11CTMuuOsRPgO38xtPKNISEjrmUrYa7TMFhARvYT2pel6Rc6/3XAWnKOiBSokfV8Z87CPmosjM+9cnXceMTxBkeyZ+q+JaS8oWRH4bck22a3aRmSsIOZ51fqCns6nrVMIWqoM11I3Pa2nENIMadqKboRGZZc2huy9ipx7V9CHiUuVyZTShiK13/rS62LLIrEzruwBrXVDYEuyiMxxbpPSkq2jsfe2wsrL2/TE/ZiwQVLRnFMdkQ/1VpbVz9XC1LX6zzUla0svYiuFCSS2Hu5KZNvPiL7Spp8WyKTZyWcRLJ/RCs2c714A17Mu7gG7+1sp298pInMS2EbuXm71gm6pDISgN9jRsGZ7Vg+sgtatWyL/jNnYlqfTujcYRzGrTmJS67Y1hqIhJL9G6hzD3jUTb/doSTSpicBenbtgXP+Iji+n67jjGVSoHv7TiXc115e/GYI2Ozw7DsAa8duMD71YklpDbfblMzecT+MT74Ax4TJupz5zSA3Ee61G2Bp9DkM9zxcLNmqyQi1xFFrOQ6/Vjxetc9LcG/ZqsXZ+k1HGHSoSanQlrBkK/k2vfoOnAuWwF94/elhCbleKNlR+C3Jzjbl4ZjhrB5JHHh8Gl7f1gp3lSnZH+K1rV9j6ImZavkzOp/2zYyeiuhsyNqDZgf6BWW1SB7r6AmV8y+svaER8lgj6eMkX7UI2hvbWxWH0YQFW37qFqxe2ffoFB0iEStk4uOYU/OD6e8i+kmajGb3Oz5Vl1+vDH0ViYwYy+TFbknj8EJci2B1x3Cfhdq96+rq15TEnJ8yXozZOchNn2SokdSSEt4kfSXx2VJmferZZToTDqmqeOEoPIPE5SMxpGMXdP12M5KUEB3fMhtDvvkGTfvOwJLkK3B6y+dbMEr2r6Mn7Z1X7+VtO+H+ZS1ci5fqTB2m2g10WXCphChZN6zfdIJ71Rpd4ry8kXAKx+SpML39oU55V0JWpf35HhgefVqPcps//gTOHxfBl5ERWvvG0P2Qchb2/kNgfPz54rhs1aRku61XP3iPHlfLBQcW/OkZcC35GdZ2XXTcuPHF14NyHhmPHW6yjUef0SLuPXYCAQe/nSPlDyU7Cr8l2clXzum82F/HD9XFQp7Y1KQMkQzGGjfZ11eXuI7FBDIRqrUZu3QFwDvDohqSoac3faZDRiRbxK0edZS0b8vTt+q83o9t+rRkrHqkNKo+kvjiYSdnIcV0c6MgkZw1Xy5z4qM0CVuRipASMnItuaQrCnnOpIz6otQNOt76/g0RmWoiXlNyk9DywGCsSd+pw5WuNVXftSDbGpeyUAt++LUl3zTU291NH1chJ0FWSfyuQqQdXILvu32Fb3qOw/xjBljdDhjTD2Dj1M5o9vlXaD9pM5KzXUq0QyvFEEr2ryOxyK7V62Bt3xVmJdYircZX39G5nIMTDoNNYp8tX7bWIh6QmOJy7DM9CXHYaD1KXVpW9c/b74PpvY9hHzQMztnz4Ek6Cr/5Jq8Pcj5+vy5oIzJsfPy5YtFW+5TYcMf4yfDsPQBPfAKccxfA8lXbYNaTyMIz4RYp2upGwdygiZLyZXofhFQElOwo/JZkJ+WewtCTM/Hatq91irWrQkVEUFR7Oe5LDD7+A+LzT8YkrlVCQSQDR6fEscUZRkIydN/aejosZVtOPMweW2iNW4NUqJx5fhXe3tG27Iwr6pjlBuSpzZ/pyYhSbl1SGsaKMic+htpjGz7VI8WSH7oySbZkBtmdl6RzhYvkXtVvodeU9JdkE5EQDkkBGcuPWfmWZWX6djTc17PodSXx2Y9t/BTdj4yv1LnYSXQ85mykbJmDSUPGY/yivTjl8MGjbqh8jlxkHvkF80f3w7BxS7D9nAPmcqg9RMn+dfSkvfmLtFwb7nlINz3xLzK2WIRR/VvEU4u2jGhLto1yiNGWVHnek6dg7zsomOkjfAyR7c77Yf6kKdzLV+nj1+n1YhTGIiEznm079E2H4YngiHaB2qeh1iM6laBVibX0gcRuG59Wgi199ecyjjHcVN8ZX35L3zToyZmEVBCU7Cj8lmTHZx9Hn6OT9YS+IgGKFKLQY1JJb9GlDbriYSxGHOWDSEYvZ1/4RadvEwHS8qj2JV/xf7CjA5albUGhyxRa49YgWVcmpizWMdFlZVyReF+ZYNc6fpjOorE+cw9ynLGb7R1VslU/BSV7fKWTbPmmY3XGTp3ho8xMNfIaU+2luC90hhnJkBJrRLJ35iWo52V4MBNMqN8kll2+lZD5ADcT7kRuDX6PkuecVJw/fQEXMo2QRI/6WfR74LbmIfP8KZw5m4Zci5Lvcgj3pWT/CkqSfZfS4Jg6I5gqryxJVK3gv9VPEW1JafeYiHYbXdnQn5mlY5NjiT8jIyj9dT/VearLOh4RW/OnzeBev6lcRoZldF+qTEooiJyvrt4oNx1SrfGhp2B48Ekl3Y8GM4lESy8Y0cyffq5TDJaeOElIeULJjsKvSfbAIQOxOyNBj4bKSGyxAEUIkWoiklKaWir3xXJkWcIKduQcRsM9PXWVvrAIiWS/u6Od/lo/3xmbCYQ3gtxMZNrzMDp5Ll7c+kWZkn2XarV3dtSZVpIKU/QkRCktHyvOWi5jZPIcvBR1JLvySLbEQsu5S6l3mZD58e7OV/VXuIn4Soy0FKqRcvzlgTx3351egIc3NCzqM3mdScGbaWd/Vn1W+bKykMoNJTs6erJf3Dadok6HPZQWRC3XkU2JtsRDK9G0tGhVnJs6hqLrO3kKtt4D9D603JY+JtVktN3ymWT82FIuki0EjCZ4duyGtVU7PYJv0CPWYaGOCAWJ1mTZux7Q60lBHZlMql5ooa0TUv5QsqMQTbL/8M9/RJs+7TE3ZZVOTVeU/SEs2RGiLZL92b5+SrL3xFSyJWREskp0Shyj42XDInSPEiGR7AWp63DFeetmTsuI7M7cBHRIGK1vQopj1Yv7RmSx3u6uOqOIFNmJNResZWcXkfaokmzJL11ZYrLNHqt6PpOx7PIW9D8+FW9tb1PUTyWa6j+JX5d845LRRipjlgdykyTfLJROEyk3Jx0SvsUZ8yW4fZVrwiip3FCyoyOC7Jg8DaYP6sJw94Nly2JkC4u2aoYHn4C1fRctj7EcoZXS6Na2naMKtg5befIFWLv2hOfAoXKTbCFgs8G79wBsPfvB9MpbxRMbyzquUk1uBCRu3PTm+7APGaHO62hoq4RUDJTsKEST7N//8R9Ru1MjdDkwRsdj11pfN0KClJCodt+6ung+rrnObNEl8TstnFIkJlaIlIoglpbsu9d8hJfjWupRyPISsGtB0hr+cG65jscuMXkv3Efqp4yStjw4GHHZB2M6cS9MCcmWfYb6SFpw4mPlkGwZEZaJqtPOLkOLgwN1ekGZRBvZV5F998LmFuh9ZJKu7mj1Xn91x2tBRtaliJCE8ujJtaF+C0+AXJ+154YqS5KaCyU7Ov6MTF3IRTKIFAmiSHT4dxHKux/SscemF98oHl0OibbplbfhGDcJ/rTYzWnxHj8BW+eeZUu27PeO+2Gu92kwpZ6Eq5T3c6ck3puQBOfMObC166wrQOr0gaWPLbLd9QCMr74N+6jv9HoymVKP+BNSgVCyoxBNsv/hD7/HW+3rosXuAXg8MqNIhAiJJEkatOEnZ2Fl+jadTi6WqeJkstuh/BP4Jn5EULJDIiSjjY+sb4ivDg7VoRCSLrCikUutxENLysLHNjXGXeuuDhWREX6RyXHqZkAKqfjL4QIdLEYj4SIli9FIq0wTH0WyJae3TGR8ZdtX6qatXtlFjVSf1VI3b/WV5Eru8XRbzg3lWb8W5Jgk/eLoU/Pw4IYGOrRHXmMSMvLWtjY6ZISl1sn1QMkuA3W+khfbe+gwrK076PRyV4miCO3ttWBUcm3t2kvLtK1TD5heeD0o3+rvhvsfg6XZlzo2Woqy3LTwqvVFsq1doki2apLST7J/eHbuxs1UeLweJOVeoNAAb3yCzmgiKQ2NjzwD48NPwfjki7pPjE88D+Ojz+riODJB0tZnoB5pl9zikve7wgr5EBKCkh2FsiT7d3/1O/z+P/6I17vWwac7e+ky6VfL0Id4dsvn6HtsCvbnH9OTFKV8eixFUmKyDyrJlslpkSPZkSK0NG0LctW+KxIZWb1sy8aajF348uBgPXnvqv5RTaRNQm0kFWF5VRL87ewilSMmW14XkiVEvpV4MhzfL01unIp+D96YPLO5GXokTdDfjJjc5Tt5R55LGc3+/OBA/a2D7P8u1Z7c2ATtD4/GeXXjeKvTRJKqAyW7FH4/AmYLvElH9Uir6aU3UXhHlBR0MsGwTiO4Fv0E35lz8OyS9Hadgun9ZBkJ3Xj6RdiUFHsPxgdl8ib6UtZ3b90Oy6efBycalj4mJfcymm7r2Reew4mhtSqOgN0O34lkXWHS1rkHbB27wd53IBwjx+iQEoltl75wjBmvbwICklawAor3EFIWlOwoXCXZSrD/+p//Dn947P/iiSHv4/XNXyuJLBUKoYXoQzy/pQWGnpihRaQ8RhuvGsmOlEi1/+c2N8f3Z5biki0rtEbFcNJ4XhctaXagvxZCnZ1CiVnpPpKc3q0ODdeyWF4T6IpGskuVVZdWWSRbzl1uwHblJaLB3u54YEODq/oq3KQcvZTul6wyl6xZ+jVQnsixSa7z7bmH9X5lFF1CR+T19vb2tjoLimSQIeRaoGSXwu2GN/k07EoEJbWcntAnQl1aaFWT7B66pPjGzVrM/emZcEyYoovU6GVkNFtyVr/4hi4eI1UXpXrkjRBwOnU8tn3YKD1KXGbs8221dBYUx5Rp8J07H1qzgnG54U+9BN/JZCXcJ+FLOQPfhYvwnUrRkzZ1k34wmeTFF1qJkIqHkh2F0pL9V//4N/iHB/8d/978Ptw57S3cv7Z+SCKVuEUKUUiyh52YWY6S7UNiwWl0ThxbpmQ/qwR3wulF5ZLiLRoiZZuy9ukwmQc3fKJHPov6Rn5G9JNIdmst2YlqrfJBYrK/S1mgM3GU6B/VKotky0iwvEYkhv65Lc2Dr6fw66hUv8nf6u/prnNYV1R6RnlOJSxEChzJTZP0nYi2TByVx07FsHgQqd5QsksiOaUla4bli1bBIioi2OFWSmglFtvWvY8Oe5BRXCm57pw1H6Y33g8uE1pPRratXXrAm6Cuq0qWbwTv0WOwSSiGCHzk8UT8LpMzrZ27w7NnL9PhEfIbULKjUFqy/+bf/wH//N5f8J8jnsNtS99T8lNKhkK/37euHj7c2RHTzvyMdFtuTMNEwuiJjwWn0DHh2xIx2eEmQjT+9EItmhWFCJmkKpQczxJXXNQvEX0T/LeEHDRF/2NT1Y3CqdDaseeCNf1XJj5+WikqPrp8bhwqOIn2CaODoUel+0s1eT29EPeFzjjSMWEMtutCQxXzwSavXIvHhgkpi3QZ93D/3aNec+9sb4c5F1br1zghvwUluyQiy+4t22Bp0qI47jkssmGxFaG99xFd8MW5eKmS62wdU+zPyS1bspX8mus3hnvDJp2R47pR/e9a/gvMdRsVxXuXPp7gMT0M+7CRevRY1iGERIeSHYWrJPs/fo9/rXsn/nvyK0HZiBAh3UKCJKPIMsIsMiRxsyKfsUZCBSQmu01kuEiESFa0ZMuIrORWnn1hFeru6YZ7y8i4EtmkKuWSSxuRpdYpLyRcJJgnOxQuIvsO9U9lyS4iki3PY7uEUSUlW1qo/57Y1BgtDgzE2FPzdaz7RUuGXq+ikPzdUoCmwZ4ewaqmqv9kgu1D6z9Bs/39sSJ9GydBkt+Ekh2BFJ9JS4dz/kJdQr1MyQ41w0NPBlP0SZo8t3rfqz6SDBmyri5cEynDajtSHdExYbIubnPdk/zUtp0/Lobp/TpXS3ZE05I9VCT7bGhFQkg0KNlR0JLdqSP+6h/+Wgv27x/8N/xbs1r4n2mvFQtkZAvJ0RvbWusS4SJD5ZH/WQhPfGxTxsRH+SmSPUFJdkWFi9i8Dp2KTybvSTlwXe69jL4JT+DrdWQiDhckxzTjSmkqe1l1SVsoMc0SYvPVoSF4aGPDUn0VbM9u/lyn7Dtw5ZiWWZHe8vh2JBqyr0zHFfQ+NhmPK+HXx6X6UCZByrENOvEDTpouhJYmpGwo2cXoUJE9+2Dr1R/GZ14qGfccKbMSZ/3K27CPHgffOfUeC+Wi9uddgWvhTzr/cwkZlvXVOta2neDZdyA4AfJ6EMlesASmD+oVH1PE8YT3IaPr9uGj4DtDySbkt6BkR0FLdpdO+Nv/75/wx7f+B3/66gH856Cn8Zd5byrRiBDIiCYjfR/s6qALhUgFw/KizJHscNNiVrEx2Ua3RYcO1N7VCfevr68n6WkZC/eN+l365uENjfDClhaYdu7ncqtWGOZXJXvjrY/JlvSKRw0pGHNqPt7Z/k3JTCzSd6H2YtwXekT+vCV2OXCvF7vXiRnqNS2FjsKvMfkpo9ltD4/C3iss8EB+HUp2MRLH7P5lrQ4V0RMew4Id2XTGkJd09gxdaMbuUCsG1/fnFwTDOuo0DI6ClxJhyQriXrcxmM7velD971q6HOaPPokq/jpGXEbLv58eHC0nhPwqlOwoyAdCp26d8fsH/g3/0flR/M/013Db4ndw+8r3g5IRFqIiMaqtqz9+dXAIfknfUa6T02TiY3xBso7lvXddqZhs9XtFS3ahy4wfzv6Mt5Qs3iPHU9QnoX5SP5/e/Bm+OTxC9c1OHcYiWTXKk7Pmy5U6hZ+kyNuWc0inYZQbk6sm0arfZbT4vR3tseTSplsakiHP1ZK0Tai3p1vwGEOvM5FsudHbnZsUWpKQsqFkFyMZQlyLlyqZbVBSrCOa4eGnYO3YrTgFXSRut87qISPhkiO7dGiHpdFncK9ZH8yscT2IZC9YAvMHddU2Sx2TbFuO6yF1XG066NSDMiJPCPl1KNlRyMjJRPfv+uHfPr0H//PDq0quPwjJT0geI4RIBEnETWJU519Yo0dRXeUYCiEZS2SkfNGlDTorxT0SKxs+JiVAxTHZ6aE1yg+ZhHcg/7gOAXleQkVKF1IJHZdM3JP0fga3pVwqPJamRMXHCMGWVhlisqXMvkwUbbyvT8n+imgSniEhOPEFJ+EN3Lqc1BL2dMJ4Hr2OTirxzYlMyvxkTw8sv7wttCQhZUPJLkak2bVQyeyH9UsIbGQzPvcKHOMnw5d6SctvaWQbzrkLYHrzA51Hu6RkN4N77Y1JtnPewpJhKJHH9MTzsLbrHAxFsTCrCCHXAiU7Cpn52eg9bxj+X68ncPvPkk1EiUVYgCJFW7V719bVGUVEIqWwiHy9Xh4THiORuOyL1kyMOT0fL8d9GRwJDcnPM5sqbuKjlG9fkLoOdXd3xUOSuq90PLburw/1iOyPF9dWWAETGcUvSuEnz1Oob6TdSsmWSYsS+rEz97CO3f9oV+er+yvUZ/K8fntqnp7EWd6vp19D9i03BT+q5/n1ba2KXvdS+Ei+KRh2cpZ+Hcg3LISUBSW7mCLJrh2SbGmlhfbFN+CcNgP+y2UPlASsNrhWrdHZRAz3PBQ7yZ49H6Z3PioZky0/1b9loqVz5lydGSUcH04I+XUo2VHILMhGnwXD8Z8Dng6OYotYlJKgsGzL1/2SAWJT1n4dn1xRHxYirGctaXri3CNKHLVEquORqnxDTszA6QrIYywFbyamLNaj2HdFKQd+/7p6OqOIlJgvr8mgpZGR/vlK6j/Y2UGHXURK9q2c+FjoNmFp2mb0PDoRn+7rpWOuw/1Ust8+1GnzpG/LO379WpDX2uHCZD2aHY67l0msD67/BF8eGqzjsu3lVL2TVH0o2cWUKdmR7Y779Wiy88dF8Gdlh9Yqia7KuG6jjr+WbB8lJLuhhIusuy7JDni88GdmwT54OIzPv3a1ZP/lXh3e4lq+koJNyHVAyY5C5pUs9JwxGP+n4yM6FjsssJESJJP5HljfAE9taop2h0dhd16SzrRRkYjUf5s8D69G5DF+QEv/IGzLiS938ZFiKjIx76nNTYMTHku31bX1aGefo5N1RpHyKM5TFiKFItFtD4/EA+vqF/WNtFsZk53tzNej02/vaIsHNzQIxtSH+ypCtCVDy9s7vtHfjqTZyv6grUiCo9lWbM4+gDp7uurXvUi2VIL8eFcXHTcuFSIJKQtKdjFashf9VHZMtkx4fOw5nSHEvW0HAoayq6rqPNub42D57Eud7SNSss31PoVrxS9R1y0Lv8SJ/7IW5g/rwXDXgyWPSbYrkv3xJ3Cr7VKyCbl2KNlRyMjMQOf+3fCHl/6/UAGad0MiFBJtJRhPbGqiwyRkFFvCM6SsuKRYq0hEbCalLMFb29oUSWQ4vVq/Y98jqTAltGT5IKEMw0/OxpMi2RGSWNTU8TTe2xsrLm+DVd2AVOTHaLotB5POLMYrcSXjsktIdgU/XxJWMezkLLwkseLhPoq8edP/rq2/mfhCva5Wqn7LcxaG1r61iARJ2IiUWn9jWys9F0Cqdz6xsQl6JE2sNMdJKh+U7GICFiW0y1fBXL9JSZmVJqPY734E55wf9cgyfGV/8yfFZlxrN8DcqNlVI9mm19+Dc9Zc+K9ce4Yrf6EBzhlzdJhKWfHY4ZFsN0eyCbkuKNlRkA+Ejp074W/+7R/wh9f/G/9vyLPBEW0RIpFJ9fPVrV9h8PEfdK5jmewowlsRk/oiEemZfn5FML2aHFtIJGWC2tvbv1GSuQSXlWyWV27lEpIdFsYI2ZbCJc2VLG7O2l9ho9hhwiEjRannQk0qPhaFi1SwZOc4CzDm9I94ddvXpcRaHVu4z1T/vab+Pi5lIZJNFyr8GH8NGdHOsOfqipmSMUaOVSpASmYZSeOYZb8SWpKQYijZQQIuFzwH42EfNByml98qKbLS7rw/JLOrEDAYQmtdjZbsNet0NUjDPSUl23Dfo8ECNvv2B1P/XQOSFtAxbhKMz716daiItKKR7FWUbEKuA0p2FLRkd+yI3/3V7/A3f/o9/vjWn/H/Bj5TJNoyGvrN4ZFaHqWoiMQa+yt0nDaISLbknX53e9ugRIZEW+RW8kGHs1P4yikWWiYYjj09H09vaVZy0qOW7Q/x+MbG6J40HvuvHCs30Y+GCO38i+u0ZN8Z6hdpD65vgKb7+upwGkcFxRHLDYbRbcau3ER0SfoOz275vLivivos+FNuVt7f2R4LUtfrG4VbOemxLKweB9Zn7kH9Pd10WEswNrsBPt3bC0vTtpRrjnhSNaFkB5H0fbrSo8jxfY9dLbMi2R8ryVYye6OSLZIspdEl5/WvbSMSGfW2j/4OxmdeLnlM4Z9hyV7JcBFCrgdKdhTCkq0/DES0/8/v8c/v/Bn/OfgZ3L7kHby+9Ws9SiyT0ip6hDYSGT2fcmapHrWOlGxpD6//BK0ODcOuvMRyy/wgGU6+O70gJNmRwhg8ho93dcbsC7/gkjWrwmVR0gVuzt6Pz/b307HDOpxFHZOEOTy/ubkusCLhG+V1AxKJ9L/Er0tGkQ93dtDx2LqPIvpMjkvS9j2/pTk+398fq9N36hu4yobcLMlodr9jU/D0pqa6T6VvH1c3da0PDdcTgC1eW2hpQijZYSROWlLzmV57V4trCZGVds2SbYd7/SZYPm1+VUy2ND1xcu6P8Odf2w2vluxRY5Vkv1IyXCT8UyRbibsU0aFkE3LtULKjUEKyw6L9p9/jX965DXePfxON9/TCT2mbkHuL41ClqInky66zu0txFo2Q4IpktxbJzi0/yRZxHJE8G08q2So98VHEq0PCaD2KXZ4l1KMhNz+5zgJ8f24Z3tzeRud11kKo2t1rPkKXxO/0KH95j2bLzYVI5968o7pCooh00ah/hGhLCsT6e7rrUIzJZ35CUuFp/fxWRoweC+alrkHt3Z2KXm/y+pOy+iOS5+jwKULClKtk+3y6iqKUG/dlZukm8cz+7Gz4c3L14zqvc5T45ookLNnGV94uFutImb1WybY74N6yDZZmLcuWbB3XPf/6JHvMeBifDUl25DGpZqj1CCwt28C9aw8lm5DrgJIdhaskOyTa//inP+KD7o0wN2WVjum1eG7tiJ2IZLo9Bz2OTECttXWDki1Nic/D6xtqyd5djpL9axMf5d8S+5xQcOqWjfbLfuU5kiwdMkIcmc7viwODsDX7oPp7+Yqs3GCcMJ7DuNML8N6OdrhvQ0QJdWkh0ZaJtJ0Tx2JPXpLO5CHrVdbRPfkGZX7qWny0u7N6nkOvOdUkPEhuEiTdX/UflyTXSnlKtmTrcO/cA/vocbB06ApL+66wduqhKyLaBg1T8jgB7q079HK3Gkmr5/xhVrCITEhgi5pI7R3XKtl2uDdugaXpF2VL9jtKsq9j8qO/oBCOqTNgfOH1YskOH5OEn0j6vsVLg1UeK+k1iZDKCCU7CmVKtmp//Od/RrcBvXCpMEPLW0WEGvwWIjwzz68sDhkJtYc3lK9kZznysPxyHL48OBgPbWxYLIwh2Za4cMnicSslW5CR5F15CWip84mr4wz1T/MDA7A560C53yhJxpl9V46ic9JY1U+f4K51ZRfskSwdEr8uGWEqWxx2aSRFohRekrzZEooT7lNJl9hwby+sydhd6c+BVBzlJtlqHZm051q2AubGzWF49BkYHnk6+PPx52F86kUYn30VlhatdFq768m4UR7okewJ38P46jslBTvcwhMff175q5Ito/IyQu9UYmx66S0U3larpGSHR7Kv4XxlGdf6jbB81VaXcy8h2dL+ci8sn38F95atFGxCrhNKdhSiSfa//Mu/YMjQIbDZ7ZVGIiQ13orLW3XBl/BX99IkXOTrQ0OxMzehXCT7hOEchp+cpTNhlMj3HJLGyiPZ0GEhMglUQjXC/fPBjg5YlLoBha7yHeFy+FzYmnMIXxwcdFVITWSTkexw1pOq8FEmOeElN3y7hFHBiqPq5kqqQL4U9yVGJ89Dui233L5BIVWLmEu23w9/YSG88QlwLV0BW99BML2mxFUEMdz+Ij/v1b8bHn4ali9a69R5Iqe3ChFnx3cTYXwllFlEpDhCZo2PPANLq3bBHNlmS2itKKg+8J05C/uIb4uzgtyAZPvOXdDfAhhfeE1LfoljCh2X5atv4N65i5JNyHVCyY7Cr0n20KFD4ZCvzSoJIjtSTbHR3l4lJFtGFT/d1xurM3aWSznzxMJTeiTzMR1jXEoatWR/eMvDRcJcsGRg9Km5usJieALk4xsao9eRSbpIjlOJcKyRjDMSyiPbn3FuBT7Z20OLaIl+CjVJg/fK1pa6UudJ44XQFio3cpMpr72deYlocWgQHtzwiT4/CVNqEz9Cx+KXR7+SqkdMJVtGcZU8urfvgm3gMFgaN4fprQ9geOipknIYagUhaZQRbsuXbXTRFR2rfAuEMVCoJPvb8TC+9Gbw+CKEVorAyIRFx+Rp8F24qNP9/SY+Pzy798LS4msYaj1aLNkvv6VT8klc+q/esas+8J48BVvPfjruuvDPoX6LFG2R7K/bBuOxKdmEXBeU7ChUJcmWyXE/pW1Gvd3dgoIdEu171nyMV+O+xviURTC4zTHP4X3EkIK+x6ZoyS5LHEVmuyZ9V6GVHqMh+9+SfUCP9hdPgKytS5dLxUxJRRjL0B+3uqnJdORhQeo6HS/fdH9fvL6tVbBv5PmJ7KuQmDbb1w+LUzdWqRR48pEr53og/zje29UetdbVwf3q5u6TPT1CBYgq58RNUrHEUrIDTic8hxOVYA+F6ZV3ginslAgWSWGkIOp/h5r63fDgk3qyoGTmkAIsFToZ0uOF72IqbL0HwPj0SxHHF7oJuO9RPbnQs2OXWvbaJ4rLNh0Tvy8h7oYHHoelTXvVTwlRZV3SAMqovnvnblg7dkPh3Q8VH1PEcVGyCblxKNlRqNKSHSHaIjwSeyyT6WIpPHKplRCMbkqidZxzpDSGWmUJFwlz0nQeg09M19Uww/0kx/jhzk5YkrZJl6iPBXKuEq8+/+IaNN3XB49vaqLDKa5KcRiWbSXZL2xugVEn5+C0KVWPEFclJKWfpGgcfOIHnV1EqkA+sr4R+h6ZolMQ8mOZxFSylRzqkuJNmsNw5wNli2Fp0Y54zKBk0tLwM7jXbfjtkIxYIeEtuXk6hMNUenJh6Ngkb7aEZXhEZq9H/tW2vUePw/r5VzDccX/RNiUeXYTef/FSmXLsORCvM51Y23UOVp8s3ZfSpM8o2YTcMJTsKFR5yZamJE4mpTXY013nXI6VRApyqRXJlkwSj2xsVCyMEU0EVibyJRacrhSSLan6JGf45+qmIzyaLe3NbW3w/ZlluOL8lYlG14icp4yKz1OC3UQJ9hObmuLuyHj10v2k/v3A+ga69LyMYmfa80Jbqlq4/G7szz+GxuqcJT5fYrPf3NZaZ3WRnNqkZhNbybbDs32XjrG+SrLDYhghiBKPbXz6ZRjufxyFtwVHvCU0wtapuxLNQ3p75YoSZu+583q0WQRbi7AcW/g4Q02PZH8ZGsm+zhF2f1o6HGMnBlPwhc7dcPt9enTbOWse/OkZgLdkyKB781ZYv2oL42PPhUJFSol/uIlkS/o+OS5KNiHXBSU7ClVLsh34+fJWNNjboyjeONwkrV+93V31V/cSMhIr5FJ7KFKySwmkxBhLyjxJW3fGdEmPdlYGCtwmrM/ag0b7eulRfrkReHpTMz3ifsmWfdOjrhKHLdlB+h7/Xk+yLCHY4RbRT/J8Paf6adiJmTii1rN7K6YCZXkgN3Er07ej0d6e+rykfxvs6YGFqRuQ6bii+pYf0DWVWEm2hD5IDLHELUv8cuHttcoWw1AToTW/VweWVu1hql1fifZjIbm9C6Y33oNzxmz4c8v5JtDjgSc+QZc6L7zjvmLBDrfwsYbDRXbuvm7JlhsF76EEWJp9hcI7HwxuU23b8OATsA0YrPosORg2In0sze+Ha+VqmBs0CR5TaPnwsUQ2w5Mvqm0MhffI0dDeCCHXCiU7ClVJsl1+T1B4j4wLZvkQiYuQ7LpKspcrCY+tZAdwMP+Ezuv8cFiyIyTyofWfoOWBwToOOhgyUHkES1Ieahnc11uPIt+/rp6uTCll1qVMvcSuy/FezzHLsjKKLXHYSy9vwWf7+/5qJpFwk6I0kp1l1oVVVXYUO5JCl0l/q1JnT7A40iMbGqHZ/v46i4uMaFeeVwGpSGIm2WYzXGvWw6pk1PDQk9FHX+96EMYnX4Dp1Xf0iLVjwmQd8mB49NkiuZWJgtb2XbUAS5x3ueF2w7Nvvx6lLrw9QmjDLXTMNxwuEiJgscC1/Bcd+qHj1GWbqh+kUqPj+x90iI1n9z549u7X2UvsQ0cF83VL+r/wMYWOpaip/jU3/lxtd6UOdyGEXB+U7ChUJckWJNfzgkvr9aho5Gi2SHadXV3w8+W4mEq21ePA2ozdOt77ASkRHimPSrIlHd2o5Dk6VreyjGJHIlIsMiwyeP/6ejpHdf9jU7E99zBOmS/ivDVDT0CUkenfOnrJ3HLFZcAFa7qW904JY/TzEDliXbpJjLZUeHxycxP9/Cy+tBE5joLQFqs2UkhnqRLtt3Z8o8OVHlQ3MhKyJHHvBUrCYz0Bl1R+YiXZMlnROX8RzB/ULRbB0nKopFFS2lnbdNDp7SSHtqTuE6E2PFYs2dJkO86Fi6+5MuKNEChLssPHHW7q3zLKbvm6nc4WciOSrVF9KDm2Jde2TGQsUNstUP1heP41mD7+BJYmLXTOa1OdRjC9/l4wL7ZMGg0dQ9HPcFN/s/UbqEfCZduEkOuDkh2FqibZEm+8PTceLQ4Mwt1rPy4azdbhIrtiFy4icupVUhlfkKxDLB4tPYodaiLZw5NnV1rJFuRclqmbj7e2t9HfAMio64e7OqLx/t5oHT8cU84s1aItea6DzRnRXDo9nfzMsOfhx9R16H5kvOr/AcVZRKRFEW0Z6ZdvGDomjtFp+6RYjYywVxfk5mRT9n68uu1r/Xp8YH0w48jPaXF6tLsyxOiTiuOmJduvXi9uD/zZOXDOng/z+3VKymAJWX0cluZfB3Niy+ir2q73RLLOpS2j20XLqiZFYewTpsCXmRnaUTmgJfuADgUpIdmlj1sJr7Vjdz2yfsOSLajzdf+yFua3a+u47BL7izbyLy10HPqnLCfr3nE/bAOGwJt8KrRxQsj1QMmOQtWTbBd25B7WpcK1ZMtIthI8SammR7KV3BhusuiKSKmUIJcKklLYRbJ03K2LkJQSyTUi2U0xKnku0iqxZAty47EifRve29leiXZd3K9kUEaY5eZBcmp/dqCfluBhJ2ei3/HvdcpCaUPVv8ee/hEjk+egm5JrmeT47JbmeHhjQ9RaX7dUfxT3j4SQSHjKhzs6YEzyfB1yk+24ouPqq9MIr7xW5Kbhl4wd+Hh3F/06lH59X/XzpJQlOm955M2KFK2RdUj15KYkWzJz5F3RYSL20d/pyXqmF9+4WhJDgmh68XWdI1oKtQRCqfC8R47B2q3XVSPZUpLc0vwreBKP3JzY/hrqGKRoTjAmuzj7R2QzPPCEnsgpqQUle4qI8s0QMJrgXr1O34zoiZbh/NfhJucf+e/Ix1UzPvkiLM2+1CPfUk7dJxMnCSHXDSU7ClVNskVU9uQd0SOw966tUxQuIlkeXo5riTGnftTxwjcqMiLKIqQy4jrkxHS8sa11cfx3uBVJZW08qSR7dBWQbCHXWagnjr6zsx3uUeckcdJyHnepm5UHNzTQsv3S1i/xbFxzJdKf6/ai+reM0r68tSWe2dIMj22MMskxsqk+qqUE+/0d7XXfHMw/Xu4l3W81+S4DlqZt0YV45PVyn7qRkfL/knVmYspiTDyzGLMv/KIz1YiUU7SrJzcl2Up+fWmXtTibPqwH4xPPazkuUxL/fI+u/OicPhv+9OLRaW/SUVi79CwRk62bLP/G+3AuCIWMlMO1KuD26Cwm1tbtrx7JVk0ye0gIh0xE9OfFLu45oM7HvWoNzLUbBGO0JfY6ciRbzj/iOCIfN732rq5M6d27X/d9wM5894TcCJTsKFQ1yZYQjvOWdF14RrJ9yKQzkWyJz5aY2C8PDtajplKh70aQzBFSwW9k8mx8sLMDHtrYMCijkZIdFu0qJtmC3EAsvLQBH0uM9ob6RaL9my18ztfw+J3qsSeUjItg7spNrFbhIb9GnqsQi9M2oe6ebjrrjHzTIq9RuUGR9p66uRlwbCp2qj6R1xlFu/pxU5Lt9cJ39hxsfQfC+PhzxYJcWg6VQIp8mz9pCtfS5SUm6kkeaVuPvlrQi9YPNeMzr8A+cix8l9KCYSkxJmpMdqgZH3sW9mGj4Es5G1ojduiJostWwtryGxglfaBUhQzLtsRih5s8Fv5dbjze/QiuhUt03xNCbhxKdhSqmmQLbr8He68cwQe7Ouqwh/BotjSJOxaJvNFqgjKp74dzP6PObpkoqLYdKZBhwS5qtfGUkuyxp+YjzZZdJSRbELmTPqqzu6s+x7JKxZf493U8LtuSSYAyijvn4uoalzta5FkmPtbe3UlPlI28iZG+kW8HpDLm7hgXTSKVgxuWbAkVMZrg2bkH1q/blSydXlq0ZcLj86/BPmgYvIcTEbAWf0vkS02DY8L3OtuIFslIyX7qJdiHjNSlzCtEsksdt8SJO8ZPCu6/PFD9KllFpJy7lF+XPpJ+NEr+8EeeCWZhUQIuNzDGR5/Vj1kko8jqteUXQkNIDYGSHYWqKNlSFlxGs0ecnI3nt7TAXSIxInpKsl/Z+hWmnVumpfdaEel0+twweqw4VHACA0/8gGeUDIXlqETTch1s96z9GK+q/c29sFpLfVUamZRjlfAGkUEZbX1o4ydaCu9dXzcohhHifNX5l/G4COR96+vhoQ0N8dKWL9ElYawexTbGMNNLVUGysKzJ3FWmaEt7ZnMzdEkcpyuEyuuOI9rVhxuVbImp9p44qbOEmF57T6ekKxJkkdRIYZWc2HUb6rCLgJRMj0Rt23v0mE7nJ3JZtK5qQckeEZTc8pBKkez9B3R6vqKR7IhzKHfJFqRvVfOdPgPHiDGwtmoPa9tOsHXoCnvfQToUx9a9D2wdu6vWTf9bRv/L46aDkJoEJTsKVVGyRUqk8t5Rwxm0ih+uJx9KiWuR7JfivsS40wtxwnhO54KWUe9fQ7I/SDiDhIhMO/czeh2diIZ7eyrxLLuEum5KNCXu9o3trTE8eZYerfX8xn4qIwa3BdtyDqHvse/R8+gEtE8Yjfp7uuP5uBZB4Vbn+OCGoHyLQNcKNYk3lsciH5eMJRKPLNsYfnKWEuyEUBq7mjdCJK9PeU2ty9qDLw4NwhObpRrmx0WvH4mHl7LsUuBob94R/TqtKt+CkF/nhiXb5VKCehDWbzrqPNJlxhTLY3fer1PgmRt9BveadQgYjKEtFBNQ12zvAbWtL9vAcM9DRduQEBLJPCIhKeUi2eGJj+26XB0uIvsXyZaJmuUp2SGkPyWMRipA+jIydZOMLf4rV+DPylb/zoJfHlP/DjiqbmEsQioLlOwoVEXJDiNft29VkthWid2Tmz/TOZkf2dAQn+zpiYHHf9Dp5qQqoWR2CEuMCJDEdctjEred5cjXxVkks0b9Pd30xL/HNzbWIhRt1Fb28/q21jrzxnEl8zJyWVWR8IZk0wV1U3JeV2KUSaUzz69EiwMDUXdPF9W3o9Dy0BA03tcbjfb20u1T9Xvrw8PRSrXw483V8pPPLMF21Zcp5ks69rsmCnYkBS4jNmbt07Hpb23/Bo9u+lRnZJFwGslAInHavY9O1jd4NzqHgFQubkqyRYzbdIhaQl0m9cnkRUvj5rAPHg7PwUMlQkUi8WdmwTllOkyvvF0UNqLzU3/2hU6zp8WyjOO4KcITH1uVPfHR+ISS7O8mVohkE0IqFkp2FKqyZAsyCrgp+4CWQSnvLXIsAiMjhZKfWVLSyURIkT4Z/RaZuWTLwu68RKzN3IV5F9foHM4yKi2hDndFjDiWJdki2DLZUUZst2Tv11/3VyfkYzfLcQVx2QfxS/oOLd1yE7Ihcy/WZe7RTcq171T9tzMvAetDj29WfSGyXlMmOV4rchMjrz8puS6x2B/v7qxzlDfY2wPv7minblL6YMmlTTrzC3NqV31uWLLtDl2cRUItdCq6UoKqJVnyS7dqB+fcBUqw4+HPydOjx2Uh6fG8hxOC0n7fo8HJkkp8pXiN49tx8J06jYAzVH48RvzmxEcZyaZkE1ItoWRHoapLtiAj2nE5h/B1/DA8svHToiI1EjMt4SPdldxIhUJJy7czN0HHUHdJGotG+3rpfMZlFpoJC3aEaEuqu0c3NNLVH6V8dqo1q9qO1spHr4z6X/t/JBrSN/I6OWY4q2R7PeZfXKuLA804txJTzi7Ved+vuIxqGUp2VeeGJNvn06ELzsVLYa77aZmCqiVVsnP0GQjvseOyo9DK0ZGMG47vp8P00pvBbYqo33EfTK+/C+esufBdTo9pVo1bPvGREHLLoGRHoTpItiAjyrvyEvH5wYE6dKSoGuSa2jqDxuvbW6HJ/j74dH9vLdZPb25WMiREUgGGZLqoRYq2alJcpe7uLvjx4jqk2aqvYBNCbowbkeyA0wnPjt2wdu2lJycWZQWJEFR5TEah7UNH6lHoa0FyPrtWr4f5k8+C+aNlm3q7d8Haqi08u3YjYItdhpsyR7KL9knJJqQ6Q8mOQnWRbIm5lhHt/fnH0fPoJLy/q4OOgb1r3Uc6u4PEwsokPim6cp+S7shiLFdJdanHpEKihJI8H9cc/Y9P1RMuJaabo7eEkEhuSLJFhqWYSqNmwUqJ4UmPEYIqeZ8lFltGu2Xi3rUgEyDdG7foaoa6qE14e6pZmn4B94bNCFgsoaVjQFF2kbZXj8arfVbkxEdCSMVCyY5CdZHsMBYl2jIZUSobdkj8VlcvlOwXEmt9VT7oyFZq1Dr8uIyIS5q+z/b3Q4eEb3Xauyx7Hr/aJ4RcxQ1L9vJfYK73acmsIpGC+sTzwbzYiUf0yPe1IHHe7jXrYW5YaiRbJLthU7h/WatDSmKGZBc5eFinzCu84+qQF058JKT6QsmOQnWTbEEEWNLHScGPwSdmoPauzjrvtaSb06JdVmhIqMnExnuUkAdLY9fTpcY7JIzG/ItrsCM3ARctGbB7nYxCJoRcxY1KtgivyHDhn0uKqW4i2c+8DMf4yUpQU0Nr/TbBEXK13QZNgqn8IiTb9M5HcM5bAP+VGJZYdyvJluwibTqUGVceHMmmZBNSHaFkR6E6SnYYSa2XYrqkszdImMdbO77RxVbKkmvdlHxLYRYpaPPm9taot7sbhpyYjo1Ze3UMdlVO1UcIKX9ueCRbSbZFJLuUmIabluwJSrIvXp9ku1ev0+XXS0u24ZFnYNOTKE/oWOpYcE3ZRRiTTUi1hJIdheos2WFk1FkqRI49vUCXYn9iUxM8trGxrrz3QtwXepRbCobI45L2r9+x7zExZTGWpW3RI9eUa0LItXDdku3zwXc5A47ps2F+9+OrxFQ3JaySH9s5cw78khHkWnE64d27X+etlhzZkZIt25XwFNeKX2IWMsLsIoTUXCjZUagJki1I5ccLSrQlM0jvo5N0zmIpQDP29I+6qEzfo1PQ5+hkfH92KfbkJSHTnqdzPst6DA0hhFwL1yvZUhTGtX6TjmOWuGstpJFy+pd7YXj0Wf1399bt8Jcuo/5r+P0IFBTAMXkajC+8Xpy1JNTMH9SF88dFZVaNvCGkGM3+g7B8HTHxMWJ/lGxCqi+U7CjUFMkWRJizHVeQYkrFKdNFnLNcxkVrpv6ZYk7VLc2WrQuIMD0fIeR6uW7JttrgnDMf5toNyq70eFstmF59B47vfwiGikQpPhMVrxfudRvKnPxofu9jOOf+iMD1iHs01DkFzBZ4tu2E9atvrg4XCUs2s4sQUi2hZEehJkk2IYSUJ9cv2VY4Z8yG6e3aJaU03G5Xkv1ObbgW/YRAfkForetA7cuzZx8srdrB8MAT5SfZPh+8p8/o4jfmD+upm4N7S55HWLK/o2QTUh2hZEeBkk0IIbHhuiRb/dRVGSdNg+n190pKabhJPLZI9sIlSrLzg+tdD2pXHsn40a4LDA89WVKy36+jM4wEDDcv2RKP7d4cp8u+Gx5UMl9GKsLgSDazixBSHaFkR4GSTQghseGaJFtipS1W+E6fgXvVGlhafgPjo89eJaW63axkK3znL8IxZjxML5aMyzbFcCQ74HLpSZTmeo2L0xDKfiLOhTHZhFRfKNlRoGQTQkhsuBbJ9huMenTZPmw0TG++D8P9j+vY66vE9M/36EqN5vqN4Vq1+sZl2O2G92A8bN17w/j4c0X7Mb70BuxjxsGfkyMHHlr4BlA3DVKF0jFjDszv1y0+/tB+wo2STUj1hZIdBUo2IYTEht+U7E2b4Dl2Qlc+NEnKvrseLCmj4d/l5+33wfj8a7D16g9P/GE9SfJGkUmJ7q07dGl2w93BfRrufRiWZi3h2btfl2C/YTweuHfshrVrLxiffjl47KVbWLI58ZGQagklOwqUbEIIiQ2/KdkbN+pUfDp2udYjxbHLYcmOaAYl4Oa6jfSkR3/eFZ0p5GbwXU6HY+xEGJ97NRg2ovZrfPol2PsOgu9UCgJO1/WPaEvoi9EE57yF+liLbhpKN3WexmdfgWPi99dVUIcQUjWgZEeBkk0IIbHhNyV7wwa4N2+F5fOvrp4cGCnZ6t+Scs/y2Rd6QmEsqjIGbHZ44xNhadqiWIZDo+WOcZPhO3fhulMEBmw2nRvb1qOvkmgl75HnE25ynupczB81gHOhumHIygqtTQipLlCyo0DJJoSQ2BBVslX7+7/7O2yaOQuOWXNh/rhh2UIaKdn3PgLLF63g3rErdqXPDUbYR30XHM2WOHDZ1x33BytKLlgMf6YSYN811ghQ5+q/cgWOKdNheq+OFumrzkea2o+Uhbf1HwxvQtJNhb0QQionlOwoULIJISQ2/Kpk/+3fYn2P3rC06wzj46HqjmU1kdKnX4KlSXM4pk6H98w5wBub4lgBpxOe3ftg/bINDPc9VrxPJdrWbr3hiU+4dqEXyc7Ohn3wcH28V43Mh5tkSHnjPV10x5+Tq0NMCCHVC0p2FCjZhBASG8qS7L//3e/wn3/9N7j/H36P7c1bwvzxJ1pqtYCGRq2Lmgj248/B2r4L3Ct/0fHLAbu6BqvtxgSJoTZJbu6pML30VvFottq3VIV0rd2g9mcPLRwdKaLjz8iC54BkLekD42OhrCXhFj4vJd4S9mKu0xCu5StjU/iGEFLpoGRHgZJNCCGxoSzJ/n9KsOv94x8x6H//B06+U1vHQJcQ0nATIb3vUZg/aarzYvsupd30ZMdoeLbuCI5mP/B4cN9Kig1PvQj7mPE6NtufXwB/YSECRqMe/S4t+b6Us3AuXgp7/yHBjCVSTbL0+Yho33avHuW2duwezGKi5JwQUv2gZEeBkk0IIbGhtGRLmEitv/07jPrX/0DSf96GHCXRhrsfKpbQSCH9SzADh33kWPhOnQ5m+ygn/Ffy4Zw1T8diSzhHwX/fjQIp4f7mB3pkWsqjy9+dS5bBezIZcHuCsdqhJiEnti49YVRibnzkab2NonOJaIa7HtAj9875C3X8dnndNBBCbi2U7ChQsgkhJDaUlmwZxf7kH/+IVf/xX8gJS7X8jPw9LKV/uRfGl9+Cc+bcYOxyOeM7dx6OCVNgUvsskuTbasHw4JMwvfo2jG99CNOH9XWstnPOj3CvDWZGca1aA/uIMTDXrl987JHnEW5yPk++AGun7joDSaziygkhlQ9KdhQo2YQQEhtKS/Zjf/cPGPYvf8Lx/7wNV0pLaKRo/zmYTUSyjriWrdDhGuWOxwPfmXNwjJ+spbrwzgeCkxclh7bEjEu760EYHnkaxtff1THblqZf6nzYxjfeh/HRZ64+j/C5qaZHses1gnP2PPgyMjjhkZBqDCU7CpRsQgiJDaUl+7m//z2+/7f/q0exCyIEVLdIOZVR3+deha1XP3gTEisszV3A5YbvQiocY8brUBHDPQ9dnSUkJN1yEyAFdGQio86zLZMmS59H+HfVZFlr207w7NwdsxSEhJDKCSU7CpRsQgiJDaUl++G/+3sM/9c/Ie2/7kT+/xQLaFGTyY53PwTDQ0/CIhMelyyD32AMxj5XFF4v/OkZcIydAPM7tfUkRkOtR4MSXVq4pUWIdJmPSciJWt/4xPNFNw2EkOoNJTsKlGxCCIkNpSX7j6q9/ft/wi//8V/I+u87rx7NvuN+XcjF0vhz2AcOhefQ4euuuhgr/BmZcM2aB+sXrWH59HMYH302GDIioh1u4eMuNWpd9JjcNKgbBnODJrpapWPqDPjOngvtgRBSXaFkR4GSTQghsaG0ZMu19N//6q/x4e//oCc/pv7XHSXEVEIvrB27wvXTz/AePQ5/QcEtjV32p2fCu/8QPLv3wrXiF1hbd4Dp9fdgevENmF56A8ZajxSHiZTVJOzlmVdgHzYK7vWb4D1zFgGzJbR1Qkh1hZIdBUo2IYTEhrIk+69U+zcl2vX/6Z9x4PFnYXj4qaCQ3l5L58y2j58cTNknccu3enKgz4eAyxVsdjs8u5RsL1gM1+z5cM2ZD8d3E4MTH595WWcOMb7wOswf1NUZSozPvqrPR0axneqmwZ+dg4CMynPCIyHVHkp2FCjZhBASG8qSbGl//bvf4U9/93fY3K4jLF+01hk7DPc/BkuLVnBv2Ax/fn5oC5ULEW1dkMZg0E3ya0vcuOTytg8dpaXbNX8hHOOnwD76O90kBaH3+AkEbL9dOZIQUj2gZEeBkk0IIbEhmmRLUZq///u/x+aly+BauRrWlt/A9HZtXd7cl3qpShVpCRhN8Ofm6Vze/rwrRfKtH5NWUBisEskRbEJqDJTsKFCyCSEkNkSV7N/9Tkv2ls2bdfYQz74DcE6ZDs+uPQiYTKG1CSGkakLJjgIlmxBCYsNvSvaWLQj4/QhYrPCnpetR31uVTYQQQmIFJTsKlGxCCIkN1yTZahn1v2AubAmpkN8JIaQKQ8mOAiWbEEJiwzVLNiGEVCMo2VGgZBNCSGygZBNCaiKU7ChQsgkhJDZQsgkhNRFKdhQo2YQQEhso2YSQmgglOwqUbEIIiQ2UbEJITYSSHQVKNiGExAZKNiGkJkLJjgIlmxBCYgMlmxBSE6FkR4GSTQghsYGSTQipiVCyo0DJJoSQ2EDJJoTURCjZUaBkE0JIbKBkE0JqIpTsKFCyCSEkNlCyCSE1EUp2FCjZhBASGyjZhJCaCCU7CpRsQgiJDZRsQkhNhJIdBUo2IYTEBko2IaQmQsmOAiWbEEJiAyWbEFIToWRHgZJNCCGxgZJNCKmJULKjQMkmhJDYQMkmhNREKNlRoGQTQkhsoGQTQmoilOwoULIJISQ2ULIJITURSnYUKNmEEBIbKNmEkJoIJTsKlGxCCIkNlGxCSE2Ekh0FSjYhhMQGSjYhpCZCyY4CJZsQQmIDJZsQUhOhZEeBkk0IIbGBkk0IqYlQsqNAySaEkNhAySaE1EQo2VGgZBNCSGygZBNCaiKU7ChQsgkhJDZQsgkhNRFKdhQo2YQQEhso2YSQmgglOwqUbEIIiQ2UbEJITYSSHQVKNiGExAZKNiGkJkLJjgIlmxBCYgMlmxBSE6FkR4GSTQghsYGSTQipiVCyo0DJJoSQ2EDJJoTURCjZUaBkE0JIbKBkE0JqIpTsKFCyCSEkNlCyCSE1EUp2FCjZhBASGyjZhJCaCCU7CpRsQgiJDZRsQkhNhJIdBUo2IYTEBko2IaQmUi0l2+/3Y9u2bVi0aNENt0mTJuGdd94pIdjS/vEf/xH169fH3Llzy1yPjY2t/NqJEyfgcrlC73RyKxAZTk5OxooVK8p8jspqCxcu1NfU//t//68W68hr6t/+7d+iV69eepmy1mVjY6uZbcmSJdi3b1+VvgGvdpLtdDqxe/du1KlTB/fee+8NtzvuuAP/+3//7xIfBtJkFObf//3fcffdd5e5HhsbW/m1bt264fDhwxTtW4TH48GpU6fQp08fPPXUU2U+R9GaXFNFqEtfU0W6//u//7vMddjY2Gpue+CBB9CsWTPEx8drt6uKVDvJzsnJwQcffKAFWS7epUdN2NjYql4Lv5f/8pe/YODAgbhy5UroHU8qErPZjOHDh+Oee+7B3/3d35X5XLGxsbHdbJPrvQxqyrdfzZs3R25ubugqVLWoVpItXymkpaXh//yf/0O5ZmOrhk3e1zKykZmZyRjeW0BhYSFatGiBf/iHfyjz+WFjY2OLZfvrv/5rPPLII7h8+XKVvOZXS8kuK+6PjY2t6rdIySYVDyWbjY2tIlukZFdFql24iHwI9OzZE3/+858p2mxs1ajJ+/npp5/GjBkzYDQaQ+94UpHYbDYsWLAAL730Ev7pn/6pzOeJjY2NLRZNBLtWrVoYMWKEdruqSLWTbK/Xq+94evTogdq1a99we/PNN3H77bdf9aTLxB0JyH///ffLXI+Nja382g8//KC/rfL5fKF3PKlIJHNTfn4+Zs2ahaZNm5b5HEVrck0VMS89+CFxl88++2yZ67CxsdXcVrduXQwZMgRZWVna7aoi1U6yBQkbSU1N1em+pB0/fvy6W1xcHJo0aVLiw0DaH/7wB7Rr105nOChrPTY2tti38HtZJr9U1YttdUImnp4+fbrM5ypak2vq//zP/1wl2TKBcvr06WWuw8bGVjObXO9Pnjyp8+tXZaqlZIcR2b7R9lvFaOx2e5nrsbGxlV8jlYuynqNoraxiNNIii9GwsbGxRbaqTrWW7JuBFR8JISQ2yIclKz4SQmoalOwoULIJISQ2ULIJITURSnYUKNmEEBIbKNmEkJoIJTsKlGxCCIkNlOzqTcDrgjX/Mi5lX0Gu2RV6lBBCyY4CJZsQQmIDJbt64zFmIGnlcPT54SfMO5ChnsvQHwip4VCyo0DJjhVyteUVl5CaDCW7OhOAqyAVe+e0R/Nh0zAu7iL86rnk00kIJTsqlOzYYE5ehxWb47DscJa+8BJCah6U7OqJ3+dB/oXjWP/tN2j90eN48KW38EaT9hg6dQlWHTfC6GDRKFKzoWRHgZJ988iHZvb6fug4bBS+WXgMXp+fY9qE1EAo2dUTv9eDK+ePYe3IVvj6w8fwwAtv4rVP22LQlEVYcYySTQglOwqU7JvD63IgLyURcd81QZ0WLfFB33nYH5+EE1l22N3+0FKEkJoAJbuaop4zn8cFY2oSNk76Co36jMHQFUkoMFpgdfnh51NKajiU7ChQsm8OU1Yqlrd9GW/f/+/4tz/9Cf/6n7fh4RfeRqM553E2j7PPCalJULKrNyVjslP5XBISgpIdBUr2zSEj2blnErFtnIxkf4UP+v2I/YeTcFJGsj0cySakJkHJrt6UkOytItmhPxBSw6FkR4GSfZOoq6zf50X6qq74uu9ANJ+dAKfbC58/wLhsQmoYlOzqDSWbkLKhZEeBkh0D1JU2c3V3tOo/GF/MPQKvj1deQmoilOzqjZbsmW3RrPc4DF9zGjb1XPLZJISSHRVKdgygZBNCFJTs6o3HmI6EhV3xRYt2aDlwNjYknsKZPCecXj6npGZDyY4CJTsGhCW77yC0mJ0IF1P4EVIjoWRXbwLuQmQdmIb+9V/GI/9zOx7+qC16rclEpskTWoKQmgklOwqU7BgQluzWHfHJyM247PUFK4GF/kwIqRlQsqs5AR+8DiPysy7j0oULuJSZiytWL7zM4UdqOJTsKMgHQqdOnfSHQOQHwr/+679i2LBhlOxrIgDHydkY1bo+nnvsVdRr1Qn912Ug3cDRDUJqEr8l2XFxcZRsQki1g5IdBZPJhFWrVuGdd97B73//e/z1X/81/vSnP6FRo0bYsWMHPB6K4rUQMJ/GodXzMGnQQAz9diJm7LuCXKs39FdCSE0gLNn33HPPVZIt11dKNiGkOkLJ/hVktHrt2rVarD/66CO0adNGCzY/DK4T1V/SZ8EWeowQUqPIz89Hq1at8F//9V9atKX94Q9/wIcffoijR4/yukoIqXZQsn+DYjksboQQQq4fuX62bt0ad955J26//Xa8/PLLKCws5HWVEFItoWQTQgipMPLy8nDp0iWkpqYiIyMDPp8v9BdCCKleULIJIYRUKPxWkBBSE6BkE0IIIYQQEmMo2YQQQgghhMQYSjYhhBBCCCExhpJNCCGEEEJIjKFkE0IIIYQQEmMo2YQQQgghhMQYSjYhhBBCCCExhpJNCCGEEEJIjKFkE0IIIYQQEmMo2YQQQgghhMQYSjYhhBBCCCExhpJNCCGEEEJIjKFkE0IIIYQQEmMo2YQQQgghhMQYSjYhhBBCCCExhpJNCCGEEEJIjKFkE0IIIYQQEmMo2YQQQgghhMQYSjYhhBBCCCExhpJNCCGEEEJIjKFkE0IIIYQQEmMo2YQQQgghhMQYSjYhhBBCCCExhpJNCCGEEEJIjKFkE0IIIYQQEmMo2YQQQgghhMQYSvatJOCH3++G3euA1WPXzeZzwRUIIBBeJOCFx6eW8fuKHrs2AvD5PXD5VPP7I7Ynj7vhVPtx+L243q3WJALq+fH5nXCo/nep/veHHieE1CA8LgTsVtUcCLh9cmktRl0X4FaPO73q94q8lqp9qWs7nGrfVnVsFov6aUPAJccRWkSOTY7dpZbzqgev5/DUZwPczqvPSz6HnGo/DrVd2SaJjjf0/Ej/V+hrg1QmKNm3Em8BjIadmJoyF4NP/IBBqo0/vxmbzR44Q+9Jm/U49mfvwNTsTCXf135R8/ksyDEmYGN2PNYbCuBRci14vGakF+zFytR1WJxzEenqIqwuo6QMXJ5CXMxahFkXd2CrIQeGiJsVQkhNIAD/kXVwzxoJx/fz4NqXqQSzWLQDBanw7VkCxy/J8OXZgw9WBD4XkHMM3jVz4BgxArZ+g2EfMQ7OLafgu6I+J9QhwpgFf+J6ONbFw3PBgIDn2j8/Annn4Nu1GPZfUuAvdIYeVNe/K5fgXfEtnAu3wXPuCq+H0ZCBsnMH4Fm+AK71h+DLNof+QGoalOxbhc+IPMNurEoeiS+TZqHPyYX4LmU6RqcsxrgLF5Dl9cKjLmGF+esxL+V71D19Elaft8yLmox7y+ORf/O4ryAlaxlGnf4JwzPS4AwJosdrQZYhHhsvb8UveZeR5XFfJdllba8srmW54DLB5coivH5kuxGK9yP/lcVv/T1I5HG4vUZczl2FJWn7scd0BSb5kJGFQkRuL/LxklzLMoSQSol88/fLMNhbvgbTh1/A3HMNPDkW/Y2g/vMlJbCz2sPYf7MW2ZKoZWS5cItG5DK/tlwYn1PJ7ml4l42FvUcXWHt9qwR7NOxjh8H2nbohOJALv0N9VmQlw/vzMJiHLoFrf0ZwVLoEUfarfg+c2w33tHYw9N8Ob7oSRL2Muv4VpMO7cRqcK/fBm1pY6poWsa3I7ZXFtSz3W8tE/v3XlvtNIrcReqgEkX8vc4Gr/65++lMT4dmwAu5tR9QNmLXkpiOXL/GHCEosE20hUtmhZN8qPJdwMmMBeuztjR4XTmKXkrgMx0UcLzyKXy4lK8m2IN10AtvPTUKP+L546fBPWJN5AAdM+cj1KP32W2FyXMChnIPYmn0AcTmHcdB4GekeH5zeQpy/sgtLT32Lr+JH4YsTq7Ep7ziO2UwocFtwxXwSe3ITsctYAJMWdwmLsKPAeg7H8g5ie84BbMk+jO25Z3DWYYFcHvxKxZ2eAmSaknHaloGThSlq3/Fq3/HYkXcKZ5wOWOVaIOcWcMDhSkdSbjy2q2PbotqegnM455LtyDJmZJkuIiX/FE6ZTqu/H1LHfwqHCo7hkPEsjtpkj7IlCW2xocCWilOGs0i2O+Eo9bWbz2tGjjkZB/MOqe0cxObsRBw0pCNT9ZFbh3vYcMWSoo7lALap49icnYCdeedxwWWHjDv54YLFlYMLBSm4YDqDg/lH1LEcxyFDFjLdBmQWbMeG3FM4YTOr7cm+5QwcyDaqZdQ25dw2q76Ky7mAy14XgmM+6rjVcRWaj2JvbvC44nKS9HFl+QBvyVMghFRW1Hvet3wAHJ3rwPxJa5jr9IE97hR8RvVOV38LpB6A54dWMPTcAM+5Qnnrq6auz7Zc+A5ugyduC9yb4uDevB+ew5fg98mNulrIa0Mg8yx8Jw7DezEV3p274dm0Fe44Ja/H1XJ2dZ2JNvDsNiJwfjNcvdrA+s0IODedUsJ7Cb6LCXAr+fXEX4Qv7Ry8mxbAOeALGD/vB9v4xXDvPQ5fprpBcLvVJSwLvkR17FvUsW3aAs8Otd8sCS1RAp+q5HzJeNjb10Fh47FwLlQ3Fkcvwp+v/mbMgW/vMrj3nYYv16YORk5Yybs9H76kvfBsDZ3vJnUch9Q6NrWv8Pmmp8B3PB7eM2fg3aP+vlGWU+ct2za7xeHVouoC6boCf0oSvNu2BY9t+x54zxeoPlF/9zvUDUY6fIeUuKYch2f/XtW3B+HZpbZ7dB/cJ7L0toJSqj7brHlq2a3wnlU3HpZSNxkS+pJ7Dr4EdUOh9uOW/t+eAF+6unnwhNa3qOdR/T14Xurvm1SfJabB7/Tov0N9RvhT1HntT1T7P6z70b3zOLwZ6vHMZHgO7Aienyn0bQDUeeao5+fQLtX34b5Sx342B3536PjkdaU+e32H1XHp50f1w2YZDVfPnT4uUpWgZN8qlGQfz1iMbrv7ovf5ROy1WmGWWGl1Mcp3mOEMFOLI5Z8w4XBXfLzjazy2cwA6H5mEcepCdcxuhMV+DkkZv2DM0YnolTQWnRNGoPepVVhSUIg8x3lsP/8D+h/sgLd3tMdbe4eid/IS/JibjrOWLJzK+hnfnpqLURmpyHY7lYgq8bYmY8vFHzH6yLfodWQcuiZORI/EeZiafgQJTgtMARtyLYnYmDIO355bhjHJCzEiaRK6JYxBx4TJ+C4rFSkujxJINxzudJzJ2YTJx6eg75Hx6Hx4ELoen4dJOUbY5EMrcA5bzy7AhHi1rVOz0UadV4+jyzHx1BQMPD0XAy+dgVmWg0dtKxWHLi/DhJMLMfOKEfle+R5UUBcbvxMG83FsOjcTg4+NR6cjE9H9yExMVB98h+12mFRfFtiOY+P5OepYR6OnPq9J6Jm0ANOzT+OkOndHIB+phbswP2kyJp+Yid4npqLj0QWYnJqAeGsqDp9T/X5qLVbk5+hvA+RmxGJPxM+np2DIkTHops5Pttnp0Fz8mH8JFzwueNQyclzbTo9Dr9Bx9To2B5MuHkCiS32+8TpJSNVArkMi2cM7wjpgNBytZTR7IdxHspSsKmFW7+mSkq3EzJwB34FVcPbsAFvnrrB26qFkeCBs/efDdVL9TWK7bTIiPBPOQZ1gn74A9h6DYWvbDdZW3WAbvQDuM2YEnFEs26Mk+8JWOLu3h7XlcDjjlOQVqm16VMs3IWBSQnp8B9xju8Pa4C0YXq0Pc5O2sE34Ce74y/AblNAdU5I+fjTs3XrC9k1bWNu2h23ZRXhzr8C3YxmcPT6H5d0XUfhSU1had4V9vrphOKO2ffk43N99CuuU9XCfylfXYCW0ViXsh9fCOay3Ot/OwfNt3R+23rPhij8Pn8SK2zLgXf8DnAPbwz5xGuy9h8HWTp1vC7Xf4XPgPqaOya7E1WVA4KwS8DmT4ejVRy2jzrFdB1hn7oHnvJxjthLUNXC27wvH0JGqTwfC2kXdEAwYC8eELjAPWA1PSr5yddV3PhP857fD2aoR7IvVzUx6WHQFdRG25aljmgfHEHW8naWp/Q2YDvf+C+rmQH3OyHklrIBziOqjzl1g7dhTndcA2IYsgjs5U/m+eo4MJ+Cero61RXfYBw2Ftedw2AYvhEvdYHjj1bpThsGxZDd8GRa1S3VMJvX4RrXPgbLN0Guj5WDYZ2yA+0Ke6k75gFA3LGtmwDm0tzo3Oa5+sHabDNeRbNVH/PCoalCybxUBA9Ly4zDlYFc02D0co9KOIt5mgdnr0iOmAXXHa7CnIfHSLAxJGozXktbjQEEKUpRgF3gycSr/EJac3opdBacRn5+ETeenY+CR79Hl3DGkekxIM6rHzk1Gh6SJaJuyEwnGS0h12pXAZyIpbboSwzHodPEMLrvMMDvOYMeFOeiSOA2Dz+3ErivJiM/dh7VnfkDnQ9MwWh3bCXcBUo17sDBRHe+uvuicvAHLsk9ia/o6zDjaF3VObMUmowEO/xVcUvtelhKHbVdO4rAhBbtT52CMEtKGx/Yj1e9TNxAnsPL4CHy5qRM+jV+E+YUpOFh4Accyl2Lc0QloemQTktRF0qZk1WjZj2Wn1HklLsZSk5JqX+giIx9mnjSczFihtj0X09L2YmvhGRwxXMBZaz4KvR7Vf6k4mDYH3Y7OwLDze7AnX51Xzm6sUuf1zZGfMCsnFRneDCTnrcLwXZ1Re+so9Du/A2sLzuO0tQCZ9ovYe7Il6icuUMumq3PzwOZIw4GUnmh55Ee1z4Nqfymqr/Zi3YkBaHl0NZYXZCDfdQknM1eg265xmJYZj23quI4ZLwaPS679vE4SUjUIS/aYQUo018Lz8xhYPmgHx+JD8Oa5lOyWkmxfoZLAlXB2/hKW3vPg3rIP3sOH4VmhxKpnR5hbz4HrrJI38wV4Fyshe/81mJsPVSK2E+64HXBNGQRb9x6w/ZQMX4EjdBClkNHc/JPwTFZS+HFDWPv8ANc+JYb54YmP6tpoyoNv/1q4xrSFqfUo2OdtgfdkKvwFufDnHVGCvQyu1TvhOZwEz/pFcA35CqavluibAH9OGnwb58DRuyEKv5wJ16b98KUqCVbXX//5g3D1eEbJ7GK4krIAdz78SUp6u34J68AZapu71PnGw/PLj3D2UnKs+sCVdFGdr5LLxUNh+/BVWL4aDMf8OLi37YZ7kpLNrupGY+lh+HKVHBtT4F68Bq75m+A5kABP3Cq4xnWHue33cGw6p+Q3Fd7ts2B7qw5Mz3eCbeYauA8lw7t3Mzyze8P48iA4dp6DTyaoWtV+t/8A6xP1YF+plikID9Ao5NuGy+pGpa/qm4HqHA8fhTfpGLwnzsN/xaInuvqPboRrxBewDlM3C+v3wHvooHr+ZypB7gXb5I1K+tPUsqo/hnaC5f4PYWk1Do61e+E5eUk9FxZ4d8xW8t8Otqkb4L1oBLxO+Har18Fo+WZBifr2A/AmJMIzb4xa7lv1HO2GNycbgYw4ODuo19uYH+Haq24Oko7De/SsujlSz3upwXhS+aFk3zI8sLtzcTpnG6Yfbo8vD/TB54enYMTZbdjj8IQyjARQcGUNZp2agPdPHYdFh3YE4A/YUODIw1ljHiwBHzw+G64UbsO8kzPR8UgcjqjlTO48nMpcjKHJCzHwciqc8tWY2qvDlV1CstMcOcgq3I1Zx6aj3+k4bLaZYZERW18BcoxbMeHQGAxOjsMuWy7OGvZgyZG+aHdkORbm5SDD44XNfgbHUyfjvfif8WNeBgr8VhhcV9SyOTCq4/Cou3en9QDWpsxAk73LsE99AJi1ZA9F+10j0f/SZWT7A2o5NxyOBKxJmYx2+6dirsmHXJcRl3JXYULybPQ8m4jLXr9aLth7cpGEOwWHL01Dj0OTMDH9DFLc0jfBfpOY9/SCHeq8xqHbqTisMVlh9vng9eYhvXATRhwcj2/P7keCkuajucsxem8PtEjahtUGdROjzl++1BWh3h8p2Z5cZBVsQt/tbdDtfCL2We1qf+qYvEqeTUvRZ98ETLl0BMet6sZHHVejLT0wPjsTZ+W4gkelGyGkilAk2UqEfzkK/+mDcHb6GNYuk+DcpmRORl0jJduk5HfRFNhq94I9Ph1+q1tJrxK6fCVKS7+F5ZUecO5W6+Upyf5JCV6LZrDNiIf3shJkGYE+sASOYf1hGb0d3qxwLHTppu7UPRb4zx2Be+pg2L76BJbm7WDtPhGuHWeU0KqrjbqmBjJPwLNkAEz9F8C5Nz0Uky0jpUrAE5UI5imZlG8GryihXz0G5heGw7n/YjCk5cwOJcBfobBnHLxppuB+1WdICclOTAcKJTZ8KmwfdIcj7mQwjMbnVueipHbVWNi+GAHn+iPw5gYl2968sTpfJffnTQhYVIufD+cIdbPwfRw8aVfUTUIh/CmXldQXBG8YjKlKlJVUNxymxPygOrfzSrKnw/5xI5i7rob7eGEw44tDrXNwDixP1oZtjpLhbNXnaernfCXeTX6A+0Se/sgowq+O8dwyONp8A2uPWXBdUn0qoYhynnL8+afgWTgOtk++hn3tSXivqPPyKsktUDclS9V5tZ8E185j8GUcgGtYO1jeVMvNTYQ32642IX2lPkOVZDu0ZK+H93wOkK+er7FKsPuMU68dJc0S1iKf6bnq5mrMSNj7qpuyY+fVcf0Ee2P1uhi2FO4z6nUhH3r6eQ8dO6lSULJvGeoiqC6WLo8Jl/I2YmXqz5h4YiL6J4xB15Tt2GNzwaTe9JGSbVWSqNdUt7M2RypOZq/G92eWYGLKj/j2+Fi02TcKXyeux371xjVoyV6iJXvQ5Us61EG4SrKtqbiYvQbDE2Zh6MVEnFD7CH6pZofVeRK/HB+Fb0+sxHpjNk4V7sGyY4Mw4Fwidlm9sMuF3JWKtMz5qH1wCWblpiFH7Vv2kZq3CTPUxWLimcVKksej04GhqLPzR8QpyTaIZJ8Yip4Hv8f3V9RNgr5+iKxm4WTmUnynjq3tpQykWC7gYOoMjDm1BFNyCqFcNeI6o/rCl4/Mwq1YeHoK+h2djWGnlmN2xlEcVPJrd2fhfO5KDDvYF58eGINuJxdhbMpi1VdzMerEWHy+rRd6ntqGndZLSMxZju/290X3cyk4aFc3BaGdXCXZrku4lLMATTa0wKfxU9A3eZE+v4ln5mHc6VFosrUvhpyPxyF7nj6ueceHoduRueq4fsb8jCQcsqqLdHDThJCqgJIbLdljlWSvPQN/fg58e0bD1vIb2IYvhWvjRnimfl0s2ZeVnI4fBvP7E+AyOvRNvzIuQF2PfPsXwV6nKRzrlLRdUrK47FvYu3SGfbcSZrNazmlE4MRaOJVwWQar7Z65CN+xrXAvmgnHuMmqzYdrxSElckpO5UriVSJ58Qg8a5WoTpBtdVKi/R0cG07AV+BCIF1J9k8DYRqwMEKyZT9q/WPr4PpxOhwT1HZHDYa9w9cw1uoJx+6z8Ilkn90Zkuyt6gZASbZQWrIPpymR3Q/PZHW+b4+F63S2cks5X3Vt9ufCn/CTuiFR2/xZLZMalGxHp3ZwbFVCLF/puazA6V/gGj8ctgnqfC+KWFvVvvfCs3w2nJOnwDF6OOzd2sP8bBfYZ+yG13QuKNmNmsE6U/VjhtqOfCwG1Hrp++Dq8DEsI1fBfVTitlfANehLmL5XNwI5kaEiCon9LjiubojGwi5hKb0nwTFtLlwHL6vn2KxuUA7APaUXzE98AEunYbCPUn8fN0G9DtRNTbtWsDYcAOeGBPU8Kske3l79uwcc27LVTYCcv0Ike2eEZJ/NADK2wNW7DSx1WqrnaQTs38o2VVPibW30Jaytx8MVf1lJtzquH9V59x4EW1+1z+mL4Dqk+lN95vIDpOpByb7FiGh7fFaY3SZkGQ9g7ZkJaLVvOCZcMSNd2edVkq2W97oykJy1HhOPfoeuJ2dhyMkZGHx0JFruHYGvEtZdt2RfyP4FQw/PwjB1wT6llnMFl4TVdQprtWQvxzpDsWQPunAUe6xKRmWTSrLTM3/Ukj0zJw3ZrhxczNuB2ccnqGObiUHJszHi+Gh8s28wPlaSvSVCsnsdnIZp+YGiiYB+vwMFxr1YkfI9GiVtwda8nViYPA3fpWzEZlsZearVzYbXk4sLBbvx07mFGH1yio59nqhuFo6bLuJY1koMPTgYnx8cg+4n52BY8hyMlONRfTbw2HzMz0zGKWc6juUGJbvn+XOIt6vPw9DxXC3ZqUhVkt1oQzu0SJiI3idnq+0FtzkyWT0HxxdjWe5FXPR44JFRb8MO/HjmR3Vck9H/xDx1XEk47QoUSTwhpJITKdnrzupc1LAfVyLdE7a2I2EbOBWuyS2LJTttG9zfDVWSPQkui1MPjmrJ9io5P7QE9rqN4VhzAt5UkewxSiC7wr5PybjyTS2/J9fBOXYULIOUdKachy9xA1yzJ8I+bJRqP8C5aK+eVFd0CfE41TEZ4U9PgXfjDNi/agHbmJ90TLc/VSRbRrIjJNul9nFmP1yjBqhjHwjb0JGwD+wNW+svYbyn+/VL9qV9cE8coiR7HFxnlAiGzzcgYSTL4eyi5HPZPiXQIcnu3B7OHZnyRaO60KqTPrMargkjYBsvNxVKcC8dg2fmONj7KfEdqkR0YD/Y27WG+alOsEVK9qefwzpHyXOW2qFItuzTpOR9TR9YO02Fc+UmJeo/wP5lR9gPW+G3lf70UOt57UrME+BZNQ+OQYNgH9xD7VPdyOxOgV/1kXtSX5gfbwBr1wGwD5X+lybHNBKO8UvhPnYuOJItkv2pupnYkQefJbT5qyQ7XUn2Jjh7dYSlnpL07mp/RdtUQt13DBwz16ubEfX8uBwIZB2GZ5k6ruHqBmhgX1h7z4Y7UfWvreiZJ1UESvYtQrJPGJ25uOR0wCUjwuo/n+cyjmYsRJ993TE424iLyva0ZCePw3snElGgJNsf8Kjr5F6sPDUVDQ8uwHJLJk7b0nAseyUmJk1A20jJzlisBHwe+qWd1yEg8va8SrLtmcgo2IapR5QQn92NPU47bGpZv9+IfMtezEgaj1HJcdhtCYaL/Pxbkm1JwPZzs9Fk70zMNV7CSXsezudvxLzj49Co1Eh2ackWaXY7z+DQpYVos3MMxp75Ad2SgnJ6Xq7bocVKoMNlrDA4s3DRtB9Lk7/FoMTZWJpzFgeyNmNy4vcYfGYbNpmzcVFGmHW7gkxHAQrUB5TTn4OUvBXXJtnuDFzO+wWtN/fDyLTD2GPJDm1PNccVZDkMMHikmFDwuHzquAqcOUg1H8DKM1MwMGEW5hYGYNAfCoSQSk9pyZbJeXAhcPRnOHsP0KOStt6NYeimBEkkW8IJ5kyA9cPBcKTkwa+LuahmOgPvhqmwftADLokZzr7w25Kdlo+AzYhAXg78mVmqKcnKl3hhGwLGbPhzlcia1fHIJA+3Eu0zcXB2bQ7bsFlwHVf/vhgKF+k5B86dqQg41LKFF+DfMFlJsRLKxduV1CkxPbETnln9YH6gF5yRkj2xJQo7qPO6ZAhefEtLdsJlIO84vAsmwvreADj3qfOyqX34VbOpm4g4JbntRgXDRbKuQbKPnYRvzyLYWyhRHq4k9pS6yTh9UJ3DWFjf6llyJPsqyZbtqY1eWgFHy/6w91c3EUOHw9piGjwmTzBzyVWodSUExHRFZwLxqeu8vUVLtZ8t8CSq53Hmd+r56gnnlkR4L6aHngNpqu/z1I2OQ/Vx3jVK9rlM1Vd74Bo8GLZe6iZg51H4LmVEbFM9xzJpVRc7knNSx2VQz2+WuiHbOQe2d96HbZH6PSvaByGprFCybxE2yxEczFiJsZdP4YytEAVuEwqN+7HxzETU2/Mtvi+wIFPZpyF/HeYeH4W3Dm9AopK4fI8dFsNOLDs5GXX2L8Qaez4u2DNwIHUGBuzvh+ZKsvdpyb6ClMzFGHb0e3Q6cwCnXRYdI21RMlpy4qMRhdajWHN6Er5WEvitOp7z9gLkWs8iMX2BWk49duk4zrgKkWa8Bsk2xyPu7HR1DjOx0JyF8+q8TmQuwneHuuP9nfN/dSRbXZnUBV6dT946jN71Gd7b0Uad90+YmZ0RGl2PRK2kbjgkHt3kMaPQnY9M2wnVf+Mw+ugP+OlKBo4VHsaqU5PQ6+RqLMzLxGXVf4XSz25Z3gG7OhYfcnHmWiXbZ1I3Hocwa38bdDm9ExsLc0LbC27ToKVdboSkSqcttJ9CZNtPYsuF6Rh1ZBpmKMkupGQTUjW4SrIl5ELhTFNyORK2956H8flXUdhxbVCyPTnwbZ0Le9OGMI3YBM8pJWdXcuE7vB6ucT1gbrsQ7jNK0ozXINkZ6t/BvZXEpNY/uAyupb/AtSdViZiSMUmPt3kGbM1bwTp6BdznLfBfPgmvkmzzl6PhWHYIvlwl7NlqudXjYH65G+xL98CTnQdvwno4+9WH8d6uxSPZ53fDM+FLGOr9AHfCefgtTkjlwpITH5U4OrLh270QjmafBPebcFGJpxLGpA1wT+gO68BFcCepYzRei2QfV2I6H7YmPZVkL4f7Yga8J3bDPb49zM998xsj2YqA+pRwn4N7wFewvKWel9qtYR65KyiuV6HWk2wsFiXKhQWqqZuN0xvg6NgC9rlx8KSkw7tplhL25rAv3AuvPGeFhcFmUM+LVSpemhHIvxbJlomPV9Rn5SV4549Uj42Ec1W8kmx101S0TbUtu8Roq2NVn/EBsyn0tzT12lkJR6PX1U3RMXgzKdlVDUr2LcLrzVJytw7jEwfi6wP90OxAfzTb2xetE6ZhdMY5JadeONUF3mOLV+L4Ld7Z3BYNDw5Cn4vHcMCQhmMZP2PogVaoe6Avmh4ciFZJY/DNge8xSEn2ASXTZiWE2QUb8f3RQfhgWyc0T5qOSZmpOGFKU5I9A13V8p21ZNuVEBYg3bgd04+OxJc7u6PZPrXNA0PR/PAsjE87gqN2C6x+C7JMxZK9t0iyL2nJ/khiskWylVSey92CyfEd0OBAHzRW5/X10dFoc2gSOu/8EVtDkr3qxDD0FskuiJRsiVOXtHzxWHfkK7y7vRWanNyO9UU5RiOQWSyOFBy5PBfdEoaq/uunjrm/Oo5JGHA+HqfsNlg8cl6SnWQ8uh/ojS/C/XxwBJodWYmf8i4j15eJU1qy+6HnhWiSvTAo2X6R+kJkGXdgzrER6KT6Xm9Pt0H48tgmbCjMgiF0XMHH5bj6oWH8FPRXx3VZbTy8fUJIJecqyQ4Lm5Ksc1vgGvkVTA+9hMIOIckOuBGQWN81SpRfrgdLnaawNG4By+ddlXD+CPfxTPglhZ9kFwlL9n5nhGQr4RXJlpjsaJLtsSBw+QDc0wYpqVbbb/I5LJ9IawPbtz/DdVQJocTvqmu9f/c02Oo1hPntBjr7h3PrafiO71ei3BCWpvVhbtwMlnZtYO3TB+ZavYskGwUn4VvVH+ZH3oG5bjPYJq2B+4ShWLIHimTnKJmU3Nmn4N04Ftb6n8FSu7E63y9g+awzrP3mwnXoghJ0q5JZJdlLVB92KS3Za4ol+6zqG3Vj4B6v+qppbXVsanut1E1Djx6wvNgHjrBk7whJ9txSkq3DVBzwLe0D60fPwtigM2zr8xAoK52TTG48/jMcQ7ur422umtpX0+Ywd58WzNRiU+eVfzYo2h1bquNR/aSXU+2rPkqct8EjI9FFkt0Ljp2/Itmp8m2A2mbWUXgWjYe9XUv1vEVs8xt1I7TwIHzZ6sbl+FK1XlfVh+p1I8f12Vcwt5sCt3peA8z/WuWgZN8yXLA4L+NEzjasTNuIJZekbcO6nGScdoWzi6j3pS8fGcZErEndgCVpW7CxIFuJsQMmeyqOZ2/AT2rdny5vwZrcBGzPOYWkvEvICfiVyLnhdKUj+cp+rLy0AT9nHMBeUwFyXGZdjGZvXhL2mAyw6MmUHri9eThfEI/N6jiWybGk7cCK7GQk282wqe351TI2VxbO5R/CIdMVZHlCcuwzw2pNUcctxWIssAd8sDmzcTYvDsvVsS1W21qVE4+43FM4lJGCdLUtZ6AAF/IPY3/OCZxQ/iyuXoSEjNhP49i5QWi4ZwQGXjqO42VZqUxc8eQh03AYa9LjdP8tTovDoqxj2G82wKbOSyaIur0GXDYkYEe6Oq9wP6dtxZKMEzhiNcKiPt0KHOdxJPsA9puMyA19+ypIdczsgm3YkHdGn5tXPyde+AMmXLiyD5vVNoPPm7TNWJaVgtOqvxz6uOKL/rZYPW9Ls+W4jHrbZZwNIaRSot7zSiy9SYeVKBnV5Sl8tVLvYkcu/Mn74F6yAq7dMlor37epx/0W+POS4Vm8FK4FS+BapH6uiIP7YCoCLnXdktgFtwn+c0nw7t0Lb7akI1WrSqn0gkvwJSXCfUgJsmQmKQu59jkL4T+xF55VP8G1WO1j4TK4lm2GR/I3y42AHKbHhoC67nrWrQ4exxZ1HlJeXV33/Qnr4F4lx6baug3q2JLgXnQAvkx1juo6pwvepB2G+0cl0+r43XuS1XE6AClGs+9ndXxKxq/o6jDqeJREF5yGZ/Uvxef785ZgvmmzusDL8arzDZyNh3fPLngz1HFJV/nUSRtS4TuaAM+RNPhM6ubDaYX/9B51zGq/cl6/KLnfcxBumfB5Mgt+CYvJOKnkNw6eU6oPwvVwwqi+DeydDHtzJcxtp8B1Se2orAuuHJP6rPDGrVV9p/Yj7adVcO87p8RZnZf0gdxA5KfCu3U13EtDy0hbpvpLQmNk9Nmh+iNhFzyb96vzsss9Vmj76nWTqW4+Du2E58Ql1Q/h14Yd/lR1E7ZZ7WtJxDZXbIdHMr6YTUC2EvFN6uZjsXpu9f7UMe6WgjZRzoVUaijZtwwZtZV4YifsXgdsujnhUBeeYLaNMOqO2O+GI/x3v0/LXjAkwRFaV9ZTUq3WdfskBEJvPbh9v0svY1cXcJfcXYsw+5XEq+Xl38UfGX54dTGc4m3a9bHIloJLyPZkGbfejn5QoS5q6hPCofYr6frkYb1cxHnZi47NEzq24L5coXONRMTYbj2B/Sn90PTwYszLu4z8UssUofbjU+fnUPsK959NbVPOK7yK7Ev6z1nUV+HlguchS0pfuov6J7SiIriuUx97cT8Icvwu3VfB7QVbsL+kP4LHVfw36ctgfxNCqhheZU5SJVEEO/JapN7n8LgQkJFpnZ+6+Kqj0/bZlHTZlFBKs0u4RSjURBDRVtsNuNT6RXfesp5aRu0rINX/RPSiIevrfYe2L/uSfXjUMYVXk/XVNSngUMcnyzgkxEGtJ9cht3osvK78XfapwxXU3/S6oeMLH78rNPqgPn/gEpks43wdZZxv+BxC24M63+KRBlkv4nxle7K8nJcjvB3pW/V3h1pXn5vajpyTU85V/a63E4Fa3795BGzte8P67Sb4wuE9ZaGuyQFnqG90U8d/1fOo/l1iGWlyTKo/pB/lNeBWx+uMPK8QcpzyN0+pbUpWGGdEX0mT/tJ9IOcn5xuxz6teX6QqQckmlQh1gfTbkFW4A3Pj2+DrU7uxzWQq/jaQEEIIKRORcAM8E7+CtccI2FedCYo4IbcQSjapRMjIsYSarMToPb0w7vIlJEcrLUwIIYQUIWEeSXB2awnbsEVwHVP/5ggNucVQskklQkIyPHB4Dci2ZCDP7WZOaUIIIdeADMjY4E+/BH92IfwOCecI/oWQWwUlm1RCJP47MgaaEEII+S3Up4bEbYdjwQm5xVCyCSGEEEIIiTGUbEIIIYQQQmIMJZsQQgghhJAYQ8kmhBBCCCEkxlCyCSGEEEIIiTGUbEIIIYQQQmIMJZsQQgghhJAYQ8kmhBBCCCEkxlCyCSGEEEIIiTGUbEIIIYQQQmIMJZsQQgghhJAYQ8kmhBBCCCEkxlCyCSGEEEIIiTGUbEIIIYQQQmIMJZsQQgghhJAYQ8kmhBBCCCEkxlCyCSGEEEIIiTGUbEIIIYQQQmIMJZsQQgghhJAYQ8kmhBBCCCEkpgD/Pyq0ll0lW4a5AAAAAElFTkSuQmCC)\n",
    "\n",
    "2. Serinin varyansı zamanın bir fonksiyonu olmamalıdır. Bu özellik, eş varyans olarak bilinir. Aşağıdaki grafik durağan bir dizinin ne olduğunu ve neyin olmadığını göstermektedir. (Sağ taraftaki grafikte değişen dağılım dağılımına dikkat edin)![Screenshot_2.png](data:image/png;base64,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)\n",
    "\n",
    "3. i. terimin ve (i + m). terimin kovaryansı, zamanın bir fonksiyonu olmamalıdır. Aşağıdaki grafikte, zaman arttıkça yayılmanın yaklaştığını göreceksiniz. Dolayısıyla kovaryans, \"kırmızı dizi\" için zamanla sabit değildir.\n",
    "![Screenshot_3.png](data:image/png;base64,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)"
   ]
  },
  {
   "cell_type": "markdown",
   "id": "lhNfEPO2Ssru",
   "metadata": {
    "id": "lhNfEPO2Ssru"
   },
   "source": [
    "# **Bir zaman serisinin \"durağanlığı\" neden önemli?**\n",
    "Bu bölümü özellikle ele almamızın sebebi, zaman serisi sabit/durağan olmadığı sürece bir zaman serisi modeli oluşturamayacağınızdır. Durağan kriterin ihlal edildiği durumlarda, ilk koşul, zaman serilerini durağanlaştırmak ve ardından bu zaman serisini tahmin etmek için stokastik modelleri denemek olur. Durağan olmayan bir zaman serisini, durağan hale getirmenin birçok yolu vardır."
   ]
  },
  {
   "cell_type": "markdown",
   "id": "skilled-reply",
   "metadata": {
    "id": "skilled-reply"
   },
   "source": [
    "### Dicky Fuller Testi <a id=31></a>"
   ]
  },
  {
   "cell_type": "code",
   "execution_count": null,
   "id": "bibliographic-reflection",
   "metadata": {
    "id": "bibliographic-reflection"
   },
   "outputs": [],
   "source": [
    "def test_stationarity(data):\n",
    "    \n",
    "    '''\n",
    "    Özet:\n",
    "    -------\n",
    "    Adfuller test  zaman serisinin zaman aralığında veri setinin durağan olup olmadığını gösterir.\n",
    "    p_val >= 0.05 zaman serisinin durağan olmadığını gösteririr.\n",
    "    '''\n",
    "\n",
    "    p_val = adfuller(data)[1]\n",
    "    \n",
    "    if p_val >= 0.05:\n",
    "        print(\"Zaman serisi durağan değildir. Adfuller test p-value={}\".format(p_val))\n",
    "    else:\n",
    "        print(\"Zaman serisi durağandır. Adfuller test p-value={}\".format(p_val))"
   ]
  },
  {
   "cell_type": "code",
   "execution_count": null,
   "id": "continent-brighton",
   "metadata": {
    "colab": {
     "base_uri": "https://localhost:8080/"
    },
    "executionInfo": {
     "elapsed": 1504,
     "status": "ok",
     "timestamp": 1640684104935,
     "user": {
      "displayName": "Fatma Yürek",
      "photoUrl": "https://lh3.googleusercontent.com/a-/AOh14GgUD5q6Dqn8419pReVnOLENTLh9hizgvYdxalCt=s64",
      "userId": "13554681259639851426"
     },
     "user_tz": -180
    },
    "id": "continent-brighton",
    "outputId": "013a7025-56a2-4918-e61a-6352dd41abc0"
   },
   "outputs": [
    {
     "name": "stdout",
     "output_type": "stream",
     "text": [
      "Zaman serisi durağan değildir. Adfuller test p-value=0.9360069863536249\n"
     ]
    }
   ],
   "source": [
    "test_stationarity(df[\"Price\"].shift().dropna())"
   ]
  },
  {
   "cell_type": "markdown",
   "id": "basic-pressing",
   "metadata": {
    "id": "basic-pressing"
   },
   "source": [
    "Veri setinin tamamına bakıldığında sürekli bir artış trendi mevcuttur. Artışın sürekli olması serinin durağanlığını bozmaktadır."
   ]
  },
  {
   "cell_type": "markdown",
   "id": "common-philip",
   "metadata": {
    "id": "common-philip"
   },
   "source": [
    "## 4. Model İçin Veri Setinin Hazırlanması <a id=4></a>"
   ]
  },
  {
   "cell_type": "code",
   "execution_count": null,
   "id": "hollywood-vertical",
   "metadata": {
    "id": "hollywood-vertical"
   },
   "outputs": [],
   "source": [
    "df_monthly = df.resample(\"M\").sum()"
   ]
  },
  {
   "cell_type": "code",
   "execution_count": null,
   "id": "compliant-funeral",
   "metadata": {
    "id": "compliant-funeral"
   },
   "outputs": [],
   "source": [
    "df_monthly.drop(df_monthly.tail(1).index,axis=0,inplace=True)"
   ]
  },
  {
   "cell_type": "code",
   "execution_count": null,
   "id": "toxic-farmer",
   "metadata": {
    "id": "toxic-farmer",
    "scrolled": true
   },
   "outputs": [],
   "source": [
    "df_monthly.drop(df_monthly.head(1).index,axis=0,inplace=True)"
   ]
  },
  {
   "cell_type": "markdown",
   "id": "oriental-tutorial",
   "metadata": {
    "id": "oriental-tutorial"
   },
   "source": [
    "\n",
    "###Train Test Split <a id=41></a>"
   ]
  },
  {
   "cell_type": "code",
   "execution_count": null,
   "id": "comparative-expression",
   "metadata": {
    "id": "comparative-expression"
   },
   "outputs": [],
   "source": [
    "training_set = df_monthly.loc[:\"2019-01-01\",\"Price\"].values\n",
    "test_set = df_monthly.loc[\"2019-01-01\":,\"Price\"].values\n",
    "training_set = training_set.reshape(-1,1)\n",
    "test_set = test_set.reshape(-1,1)"
   ]
  },
  {
   "cell_type": "markdown",
   "id": "beneficial-roman",
   "metadata": {
    "id": "beneficial-roman"
   },
   "source": [
    "Veri seti 3 yıllık test seti ve 24 yıllık train seti olarak ayrılmıştır."
   ]
  },
  {
   "cell_type": "code",
   "execution_count": null,
   "id": "forced-taxation",
   "metadata": {
    "colab": {
     "base_uri": "https://localhost:8080/"
    },
    "executionInfo": {
     "elapsed": 5,
     "status": "ok",
     "timestamp": 1640684104937,
     "user": {
      "displayName": "Fatma Yürek",
      "photoUrl": "https://lh3.googleusercontent.com/a-/AOh14GgUD5q6Dqn8419pReVnOLENTLh9hizgvYdxalCt=s64",
      "userId": "13554681259639851426"
     },
     "user_tz": -180
    },
    "id": "forced-taxation",
    "outputId": "34940cc0-fb75-48eb-db39-ac146b70d6b3"
   },
   "outputs": [
    {
     "data": {
      "text/plain": [
       "[(288, 1), (35, 1)]"
      ]
     },
     "execution_count": 32,
     "metadata": {},
     "output_type": "execute_result"
    }
   ],
   "source": [
    "[training_set.shape, test_set.shape]"
   ]
  },
  {
   "cell_type": "code",
   "execution_count": null,
   "id": "sized-synthetic",
   "metadata": {
    "colab": {
     "base_uri": "https://localhost:8080/",
     "height": 226
    },
    "executionInfo": {
     "elapsed": 1029,
     "status": "ok",
     "timestamp": 1640684105962,
     "user": {
      "displayName": "Fatma Yürek",
      "photoUrl": "https://lh3.googleusercontent.com/a-/AOh14GgUD5q6Dqn8419pReVnOLENTLh9hizgvYdxalCt=s64",
      "userId": "13554681259639851426"
     },
     "user_tz": -180
    },
    "id": "sized-synthetic",
    "outputId": "86f3f8b1-f305-4ef6-bcd1-6856eec9f08c",
    "scrolled": true
   },
   "outputs": [
    {
     "data": {
      "image/png": "[encoded data removed]",
      "text/plain": [
       "<Figure size 1152x288 with 1 Axes>"
      ]
     },
     "metadata": {
      "needs_background": "light"
     },
     "output_type": "display_data"
    }
   ],
   "source": [
    "df.loc[:\"2019-01-01\",\"Price\"].plot(figsize=(16,4),legend=True)\n",
    "df.loc[\"2019-01-01\":,\"Price\"].plot(figsize=(16,4),legend=True)\n",
    "plt.legend(['Training set (Before 25. Year)','Test set (25. Week and beyond)'])\n",
    "plt.title('Altın Fiyat Değerleri ')\n",
    "plt.show()"
   ]
  },
  {
   "cell_type": "markdown",
   "id": "basic-batch",
   "metadata": {
    "id": "basic-batch"
   },
   "source": [
    "\n",
    "###Scaling <a id=42></a>"
   ]
  },
  {
   "cell_type": "code",
   "execution_count": null,
   "id": "union-proposition",
   "metadata": {
    "id": "union-proposition"
   },
   "outputs": [],
   "source": [
    "# Scaling the training set\n",
    "sc = MinMaxScaler(feature_range=(0,1))\n",
    "training_set_scaled = sc.fit_transform(training_set)"
   ]
  },
  {
   "cell_type": "code",
   "execution_count": null,
   "id": "excessive-hepatitis",
   "metadata": {
    "id": "excessive-hepatitis"
   },
   "outputs": [],
   "source": [
    "def create_train(window, threshold):\n",
    "    \n",
    "    X_train = []\n",
    "    y_train = []\n",
    "\n",
    "    for i in range(window, threshold):\n",
    "        X_train.append(training_set_scaled[i-window:i,0])\n",
    "        y_train.append(training_set_scaled[i,0])\n",
    "\n",
    "    X_train, y_train = np.array(X_train), np.array(y_train)\n",
    "    X_train = np.reshape(X_train, (X_train.shape[0], X_train.shape[1],1))\n",
    "    \n",
    "    return X_train, y_train"
   ]
  },
  {
   "cell_type": "code",
   "execution_count": null,
   "id": "urban-coach",
   "metadata": {
    "id": "urban-coach"
   },
   "outputs": [],
   "source": [
    "X_train,y_train = create_train(12,len(training_set_scaled))"
   ]
  },
  {
   "cell_type": "code",
   "execution_count": null,
   "id": "canadian-recovery",
   "metadata": {
    "id": "canadian-recovery"
   },
   "outputs": [],
   "source": [
    "def create_model(opt, ls, ep, btch_size):\n",
    "    \n",
    "    # The LSTM architecture\n",
    "    regressor = Sequential()\n",
    "    # First LSTM layer with Dropout regularisation\n",
    "    regressor.add(LSTM(units=50, return_sequences=True, input_shape=(X_train.shape[1],1)))\n",
    "    regressor.add(Dropout(0.5))\n",
    "    # Second LSTM layer\n",
    "    regressor.add(LSTM(units=50, return_sequences=True))\n",
    "    regressor.add(Dropout(0.5))\n",
    "    # Third LSTM layer\n",
    "    regressor.add(LSTM(units=50, return_sequences=True))\n",
    "    regressor.add(Dropout(0.5))\n",
    "    # Fourth LSTM layer\n",
    "    regressor.add(LSTM(units=50))\n",
    "    regressor.add(Dropout(0.5))\n",
    "    # The output layer\n",
    "    regressor.add(Dense(units=1))\n",
    "\n",
    "    # Compiling the RNN\n",
    "    regressor.compile(optimizer=opt,loss = ls)\n",
    "    # Fitting to the training set\n",
    "    regressor.fit(X_train,y_train,epochs=ep,batch_size=btch_size)\n",
    "    return regressor"
   ]
  },
  {
   "cell_type": "code",
   "execution_count": null,
   "id": "irish-netherlands",
   "metadata": {
    "colab": {
     "base_uri": "https://localhost:8080/"
    },
    "executionInfo": {
     "elapsed": 24488,
     "status": "ok",
     "timestamp": 1640684130441,
     "user": {
      "displayName": "Fatma Yürek",
      "photoUrl": "https://lh3.googleusercontent.com/a-/AOh14GgUD5q6Dqn8419pReVnOLENTLh9hizgvYdxalCt=s64",
      "userId": "13554681259639851426"
     },
     "user_tz": -180
    },
    "id": "irish-netherlands",
    "outputId": "945dd93c-9716-4100-ecae-88687a454a59",
    "scrolled": true
   },
   "outputs": [
    {
     "name": "stdout",
     "output_type": "stream",
     "text": [
      "Epoch 1/20\n",
      "9/9 [==============================] - 14s 34ms/step - loss: 0.0684\n",
      "Epoch 2/20\n",
      "9/9 [==============================] - 0s 34ms/step - loss: 0.0250\n",
      "Epoch 3/20\n",
      "9/9 [==============================] - 0s 33ms/step - loss: 0.0197\n",
      "Epoch 4/20\n",
      "9/9 [==============================] - 0s 34ms/step - loss: 0.0240\n",
      "Epoch 5/20\n",
      "9/9 [==============================] - 0s 34ms/step - loss: 0.0228\n",
      "Epoch 6/20\n",
      "9/9 [==============================] - 0s 34ms/step - loss: 0.0150\n",
      "Epoch 7/20\n",
      "9/9 [==============================] - 0s 33ms/step - loss: 0.0223\n",
      "Epoch 8/20\n",
      "9/9 [==============================] - 0s 36ms/step - loss: 0.0140\n",
      "Epoch 9/20\n",
      "9/9 [==============================] - 0s 32ms/step - loss: 0.0138\n",
      "Epoch 10/20\n",
      "9/9 [==============================] - 0s 34ms/step - loss: 0.0173\n",
      "Epoch 11/20\n",
      "9/9 [==============================] - 0s 35ms/step - loss: 0.0147\n",
      "Epoch 12/20\n",
      "9/9 [==============================] - 0s 36ms/step - loss: 0.0179\n",
      "Epoch 13/20\n",
      "9/9 [==============================] - 0s 36ms/step - loss: 0.0129\n",
      "Epoch 14/20\n",
      "9/9 [==============================] - 0s 37ms/step - loss: 0.0145\n",
      "Epoch 15/20\n",
      "9/9 [==============================] - 0s 32ms/step - loss: 0.0107\n",
      "Epoch 16/20\n",
      "9/9 [==============================] - 0s 32ms/step - loss: 0.0099\n",
      "Epoch 17/20\n",
      "9/9 [==============================] - 0s 32ms/step - loss: 0.0117\n",
      "Epoch 18/20\n",
      "9/9 [==============================] - 0s 34ms/step - loss: 0.0099\n",
      "Epoch 19/20\n",
      "9/9 [==============================] - 0s 33ms/step - loss: 0.0141\n",
      "Epoch 20/20\n",
      "9/9 [==============================] - 0s 33ms/step - loss: 0.0135\n"
     ]
    }
   ],
   "source": [
    "model = create_model(opt =\"rmsprop\", ls = \"mean_squared_error\", ep = 20, btch_size = 32)"
   ]
  },
  {
   "cell_type": "code",
   "execution_count": null,
   "id": "waiting-bandwidth",
   "metadata": {
    "id": "waiting-bandwidth"
   },
   "outputs": [],
   "source": [
    "dataset_total = pd.concat((df_monthly.loc[:\"2018-12-31\",\"Price\"], df_monthly.loc[\"2019-01-01\":,\"Price\"]),axis=0)\n",
    "inputs = dataset_total[len(dataset_total) - len(test_set) -12:].values\n",
    "inputs = inputs.reshape(-1,1)\n",
    "inputs = sc.transform(inputs)"
   ]
  },
  {
   "cell_type": "code",
   "execution_count": null,
   "id": "material-protocol",
   "metadata": {
    "colab": {
     "base_uri": "https://localhost:8080/"
    },
    "executionInfo": {
     "elapsed": 20,
     "status": "ok",
     "timestamp": 1640684130442,
     "user": {
      "displayName": "Fatma Yürek",
      "photoUrl": "https://lh3.googleusercontent.com/a-/AOh14GgUD5q6Dqn8419pReVnOLENTLh9hizgvYdxalCt=s64",
      "userId": "13554681259639851426"
     },
     "user_tz": -180
    },
    "id": "material-protocol",
    "outputId": "61d4d61c-d192-426e-ce0e-2e4c56ef9994",
    "scrolled": true
   },
   "outputs": [
    {
     "data": {
      "text/plain": [
       "(47, 1)"
      ]
     },
     "execution_count": 40,
     "metadata": {},
     "output_type": "execute_result"
    }
   ],
   "source": [
    "inputs.shape"
   ]
  },
  {
   "cell_type": "code",
   "execution_count": null,
   "id": "grave-messaging",
   "metadata": {
    "colab": {
     "base_uri": "https://localhost:8080/"
    },
    "executionInfo": {
     "elapsed": 1275,
     "status": "ok",
     "timestamp": 1640684131703,
     "user": {
      "displayName": "Fatma Yürek",
      "photoUrl": "https://lh3.googleusercontent.com/a-/AOh14GgUD5q6Dqn8419pReVnOLENTLh9hizgvYdxalCt=s64",
      "userId": "13554681259639851426"
     },
     "user_tz": -180
    },
    "id": "grave-messaging",
    "outputId": "e3b22b5c-d6c9-49f8-a11e-aac5405ccf34"
   },
   "outputs": [
    {
     "data": {
      "text/plain": [
       "(35, 1)"
      ]
     },
     "execution_count": 41,
     "metadata": {},
     "output_type": "execute_result"
    }
   ],
   "source": [
    "test_set.shape"
   ]
  },
  {
   "cell_type": "code",
   "execution_count": null,
   "id": "further-tunisia",
   "metadata": {
    "id": "further-tunisia"
   },
   "outputs": [],
   "source": [
    "def create_test(window, size):\n",
    "\n",
    "    X_test = []\n",
    "\n",
    "    for i in range(window, size):\n",
    "        X_test.append(inputs[i-12:i,0])\n",
    "\n",
    "    X_test = np.array(X_test)\n",
    "    X_test = np.reshape(X_test, (X_test.shape[0],X_test.shape[1],1))\n",
    "    \n",
    "    return X_test"
   ]
  },
  {
   "cell_type": "code",
   "execution_count": null,
   "id": "ecological-emphasis",
   "metadata": {
    "id": "ecological-emphasis"
   },
   "outputs": [],
   "source": [
    "X_test = create_test(12, len(inputs))"
   ]
  },
  {
   "cell_type": "code",
   "execution_count": null,
   "id": "stunning-outreach",
   "metadata": {
    "colab": {
     "base_uri": "https://localhost:8080/"
    },
    "executionInfo": {
     "elapsed": 37,
     "status": "ok",
     "timestamp": 1640684131705,
     "user": {
      "displayName": "Fatma Yürek",
      "photoUrl": "https://lh3.googleusercontent.com/a-/AOh14GgUD5q6Dqn8419pReVnOLENTLh9hizgvYdxalCt=s64",
      "userId": "13554681259639851426"
     },
     "user_tz": -180
    },
    "id": "stunning-outreach",
    "outputId": "1aca80b3-c714-498c-94f7-2e7378ff461f"
   },
   "outputs": [
    {
     "data": {
      "text/plain": [
       "array([[[0.81676461],\n",
       "        [0.70295078],\n",
       "        [0.70686494],\n",
       "        [0.71236835],\n",
       "        [0.80398885],\n",
       "        [0.67523439],\n",
       "        [0.68069568],\n",
       "        [0.69205909],\n",
       "        [0.61227372],\n",
       "        [0.69874741],\n",
       "        [0.66212168],\n",
       "        [0.64281342]],\n",
       "\n",
       "       [[0.70295078],\n",
       "        [0.70686494],\n",
       "        [0.71236835],\n",
       "        [0.80398885],\n",
       "        [0.67523439],\n",
       "        [0.68069568],\n",
       "        [0.69205909],\n",
       "        [0.61227372],\n",
       "        [0.69874741],\n",
       "        [0.66212168],\n",
       "        [0.64281342],\n",
       "        [0.7731122 ]],\n",
       "\n",
       "       [[0.70686494],\n",
       "        [0.71236835],\n",
       "        [0.80398885],\n",
       "        [0.67523439],\n",
       "        [0.68069568],\n",
       "        [0.69205909],\n",
       "        [0.61227372],\n",
       "        [0.69874741],\n",
       "        [0.66212168],\n",
       "        [0.64281342],\n",
       "        [0.7731122 ],\n",
       "        [0.67620029]],\n",
       "\n",
       "       [[0.71236835],\n",
       "        [0.80398885],\n",
       "        [0.67523439],\n",
       "        [0.68069568],\n",
       "        [0.69205909],\n",
       "        [0.61227372],\n",
       "        [0.69874741],\n",
       "        [0.66212168],\n",
       "        [0.64281342],\n",
       "        [0.7731122 ],\n",
       "        [0.67620029],\n",
       "        [0.66468244]],\n",
       "\n",
       "       [[0.80398885],\n",
       "        [0.67523439],\n",
       "        [0.68069568],\n",
       "        [0.69205909],\n",
       "        [0.61227372],\n",
       "        [0.69874741],\n",
       "        [0.66212168],\n",
       "        [0.64281342],\n",
       "        [0.7731122 ],\n",
       "        [0.67620029],\n",
       "        [0.66468244],\n",
       "        [0.69000373]],\n",
       "\n",
       "       [[0.67523439],\n",
       "        [0.68069568],\n",
       "        [0.69205909],\n",
       "        [0.61227372],\n",
       "        [0.69874741],\n",
       "        [0.66212168],\n",
       "        [0.64281342],\n",
       "        [0.7731122 ],\n",
       "        [0.67620029],\n",
       "        [0.66468244],\n",
       "        [0.69000373],\n",
       "        [0.76007671]],\n",
       "\n",
       "       [[0.68069568],\n",
       "        [0.69205909],\n",
       "        [0.61227372],\n",
       "        [0.69874741],\n",
       "        [0.66212168],\n",
       "        [0.64281342],\n",
       "        [0.7731122 ],\n",
       "        [0.67620029],\n",
       "        [0.66468244],\n",
       "        [0.69000373],\n",
       "        [0.76007671],\n",
       "        [0.65415577]],\n",
       "\n",
       "       [[0.69205909],\n",
       "        [0.61227372],\n",
       "        [0.69874741],\n",
       "        [0.66212168],\n",
       "        [0.64281342],\n",
       "        [0.7731122 ],\n",
       "        [0.67620029],\n",
       "        [0.66468244],\n",
       "        [0.69000373],\n",
       "        [0.76007671],\n",
       "        [0.65415577],\n",
       "        [0.80633201]],\n",
       "\n",
       "       [[0.61227372],\n",
       "        [0.69874741],\n",
       "        [0.66212168],\n",
       "        [0.64281342],\n",
       "        [0.7731122 ],\n",
       "        [0.67620029],\n",
       "        [0.66468244],\n",
       "        [0.69000373],\n",
       "        [0.76007671],\n",
       "        [0.65415577],\n",
       "        [0.80633201],\n",
       "        [0.81960898]],\n",
       "\n",
       "       [[0.69874741],\n",
       "        [0.66212168],\n",
       "        [0.64281342],\n",
       "        [0.7731122 ],\n",
       "        [0.67620029],\n",
       "        [0.66468244],\n",
       "        [0.69000373],\n",
       "        [0.76007671],\n",
       "        [0.65415577],\n",
       "        [0.80633201],\n",
       "        [0.81960898],\n",
       "        [0.82245615]],\n",
       "\n",
       "       [[0.66212168],\n",
       "        [0.64281342],\n",
       "        [0.7731122 ],\n",
       "        [0.67620029],\n",
       "        [0.66468244],\n",
       "        [0.69000373],\n",
       "        [0.76007671],\n",
       "        [0.65415577],\n",
       "        [0.80633201],\n",
       "        [0.81960898],\n",
       "        [0.82245615],\n",
       "        [0.85904819]],\n",
       "\n",
       "       [[0.64281342],\n",
       "        [0.7731122 ],\n",
       "        [0.67620029],\n",
       "        [0.66468244],\n",
       "        [0.69000373],\n",
       "        [0.76007671],\n",
       "        [0.65415577],\n",
       "        [0.80633201],\n",
       "        [0.81960898],\n",
       "        [0.82245615],\n",
       "        [0.85904819],\n",
       "        [0.7568575 ]],\n",
       "\n",
       "       [[0.7731122 ],\n",
       "        [0.67620029],\n",
       "        [0.66468244],\n",
       "        [0.69000373],\n",
       "        [0.76007671],\n",
       "        [0.65415577],\n",
       "        [0.80633201],\n",
       "        [0.81960898],\n",
       "        [0.82245615],\n",
       "        [0.85904819],\n",
       "        [0.7568575 ],\n",
       "        [0.80750569]],\n",
       "\n",
       "       [[0.67620029],\n",
       "        [0.66468244],\n",
       "        [0.69000373],\n",
       "        [0.76007671],\n",
       "        [0.65415577],\n",
       "        [0.80633201],\n",
       "        [0.81960898],\n",
       "        [0.82245615],\n",
       "        [0.85904819],\n",
       "        [0.7568575 ],\n",
       "        [0.80750569],\n",
       "        [0.94103071]],\n",
       "\n",
       "       [[0.66468244],\n",
       "        [0.69000373],\n",
       "        [0.76007671],\n",
       "        [0.65415577],\n",
       "        [0.80633201],\n",
       "        [0.81960898],\n",
       "        [0.82245615],\n",
       "        [0.85904819],\n",
       "        [0.7568575 ],\n",
       "        [0.80750569],\n",
       "        [0.94103071],\n",
       "        [0.82682237]],\n",
       "\n",
       "       [[0.69000373],\n",
       "        [0.76007671],\n",
       "        [0.65415577],\n",
       "        [0.80633201],\n",
       "        [0.81960898],\n",
       "        [0.82245615],\n",
       "        [0.85904819],\n",
       "        [0.7568575 ],\n",
       "        [0.80750569],\n",
       "        [0.94103071],\n",
       "        [0.82682237],\n",
       "        [0.86183921]],\n",
       "\n",
       "       [[0.76007671],\n",
       "        [0.65415577],\n",
       "        [0.80633201],\n",
       "        [0.81960898],\n",
       "        [0.82245615],\n",
       "        [0.85904819],\n",
       "        [0.7568575 ],\n",
       "        [0.80750569],\n",
       "        [0.94103071],\n",
       "        [0.82682237],\n",
       "        [0.86183921],\n",
       "        [0.92643124]],\n",
       "\n",
       "       [[0.65415577],\n",
       "        [0.80633201],\n",
       "        [0.81960898],\n",
       "        [0.82245615],\n",
       "        [0.85904819],\n",
       "        [0.7568575 ],\n",
       "        [0.80750569],\n",
       "        [0.94103071],\n",
       "        [0.82682237],\n",
       "        [0.86183921],\n",
       "        [0.92643124],\n",
       "        [0.94823568]],\n",
       "\n",
       "       [[0.80633201],\n",
       "        [0.81960898],\n",
       "        [0.82245615],\n",
       "        [0.85904819],\n",
       "        [0.7568575 ],\n",
       "        [0.80750569],\n",
       "        [0.94103071],\n",
       "        [0.82682237],\n",
       "        [0.86183921],\n",
       "        [0.92643124],\n",
       "        [0.94823568],\n",
       "        [0.96260491]],\n",
       "\n",
       "       [[0.81960898],\n",
       "        [0.82245615],\n",
       "        [0.85904819],\n",
       "        [0.7568575 ],\n",
       "        [0.80750569],\n",
       "        [0.94103071],\n",
       "        [0.82682237],\n",
       "        [0.86183921],\n",
       "        [0.92643124],\n",
       "        [0.94823568],\n",
       "        [0.96260491],\n",
       "        [1.09174966]],\n",
       "\n",
       "       [[0.82245615],\n",
       "        [0.85904819],\n",
       "        [0.7568575 ],\n",
       "        [0.80750569],\n",
       "        [0.94103071],\n",
       "        [0.82682237],\n",
       "        [0.86183921],\n",
       "        [0.92643124],\n",
       "        [0.94823568],\n",
       "        [0.96260491],\n",
       "        [1.09174966],\n",
       "        [1.05385196]],\n",
       "\n",
       "       [[0.85904819],\n",
       "        [0.7568575 ],\n",
       "        [0.80750569],\n",
       "        [0.94103071],\n",
       "        [0.82682237],\n",
       "        [0.86183921],\n",
       "        [0.92643124],\n",
       "        [0.94823568],\n",
       "        [0.96260491],\n",
       "        [1.09174966],\n",
       "        [1.05385196],\n",
       "        [1.12772257]],\n",
       "\n",
       "       [[0.7568575 ],\n",
       "        [0.80750569],\n",
       "        [0.94103071],\n",
       "        [0.82682237],\n",
       "        [0.86183921],\n",
       "        [0.92643124],\n",
       "        [0.94823568],\n",
       "        [0.96260491],\n",
       "        [1.09174966],\n",
       "        [1.05385196],\n",
       "        [1.12772257],\n",
       "        [1.05948453]],\n",
       "\n",
       "       [[0.80750569],\n",
       "        [0.94103071],\n",
       "        [0.82682237],\n",
       "        [0.86183921],\n",
       "        [0.92643124],\n",
       "        [0.94823568],\n",
       "        [0.96260491],\n",
       "        [1.09174966],\n",
       "        [1.05385196],\n",
       "        [1.12772257],\n",
       "        [1.05948453],\n",
       "        [0.97838228]],\n",
       "\n",
       "       [[0.94103071],\n",
       "        [0.82682237],\n",
       "        [0.86183921],\n",
       "        [0.92643124],\n",
       "        [0.94823568],\n",
       "        [0.96260491],\n",
       "        [1.09174966],\n",
       "        [1.05385196],\n",
       "        [1.12772257],\n",
       "        [1.05948453],\n",
       "        [0.97838228],\n",
       "        [1.02484676]],\n",
       "\n",
       "       [[0.82682237],\n",
       "        [0.86183921],\n",
       "        [0.92643124],\n",
       "        [0.94823568],\n",
       "        [0.96260491],\n",
       "        [1.09174966],\n",
       "        [1.05385196],\n",
       "        [1.12772257],\n",
       "        [1.05948453],\n",
       "        [0.97838228],\n",
       "        [1.02484676],\n",
       "        [1.0244663 ]],\n",
       "\n",
       "       [[0.86183921],\n",
       "        [0.92643124],\n",
       "        [0.94823568],\n",
       "        [0.96260491],\n",
       "        [1.09174966],\n",
       "        [1.05385196],\n",
       "        [1.12772257],\n",
       "        [1.05948453],\n",
       "        [0.97838228],\n",
       "        [1.02484676],\n",
       "        [1.0244663 ],\n",
       "        [0.93595831]],\n",
       "\n",
       "       [[0.92643124],\n",
       "        [0.94823568],\n",
       "        [0.96260491],\n",
       "        [1.09174966],\n",
       "        [1.05385196],\n",
       "        [1.12772257],\n",
       "        [1.05948453],\n",
       "        [0.97838228],\n",
       "        [1.02484676],\n",
       "        [1.0244663 ],\n",
       "        [0.93595831],\n",
       "        [0.98161974]],\n",
       "\n",
       "       [[0.94823568],\n",
       "        [0.96260491],\n",
       "        [1.09174966],\n",
       "        [1.05385196],\n",
       "        [1.12772257],\n",
       "        [1.05948453],\n",
       "        [0.97838228],\n",
       "        [1.02484676],\n",
       "        [1.0244663 ],\n",
       "        [0.93595831],\n",
       "        [0.98161974],\n",
       "        [0.90724232]],\n",
       "\n",
       "       [[0.96260491],\n",
       "        [1.09174966],\n",
       "        [1.05385196],\n",
       "        [1.12772257],\n",
       "        [1.05948453],\n",
       "        [0.97838228],\n",
       "        [1.02484676],\n",
       "        [1.0244663 ],\n",
       "        [0.93595831],\n",
       "        [0.98161974],\n",
       "        [0.90724232],\n",
       "        [1.0153225 ]],\n",
       "\n",
       "       [[1.09174966],\n",
       "        [1.05385196],\n",
       "        [1.12772257],\n",
       "        [1.05948453],\n",
       "        [0.97838228],\n",
       "        [1.02484676],\n",
       "        [1.0244663 ],\n",
       "        [0.93595831],\n",
       "        [0.98161974],\n",
       "        [0.90724232],\n",
       "        [1.0153225 ],\n",
       "        [1.00200481]],\n",
       "\n",
       "       [[1.05385196],\n",
       "        [1.12772257],\n",
       "        [1.05948453],\n",
       "        [0.97838228],\n",
       "        [1.02484676],\n",
       "        [1.0244663 ],\n",
       "        [0.93595831],\n",
       "        [0.98161974],\n",
       "        [0.90724232],\n",
       "        [1.0153225 ],\n",
       "        [1.00200481],\n",
       "        [1.03324788]],\n",
       "\n",
       "       [[1.12772257],\n",
       "        [1.05948453],\n",
       "        [0.97838228],\n",
       "        [1.02484676],\n",
       "        [1.0244663 ],\n",
       "        [0.93595831],\n",
       "        [0.98161974],\n",
       "        [0.90724232],\n",
       "        [1.0153225 ],\n",
       "        [1.00200481],\n",
       "        [1.03324788],\n",
       "        [0.97032653]],\n",
       "\n",
       "       [[1.05948453],\n",
       "        [0.97838228],\n",
       "        [1.02484676],\n",
       "        [1.0244663 ],\n",
       "        [0.93595831],\n",
       "        [0.98161974],\n",
       "        [0.90724232],\n",
       "        [1.0153225 ],\n",
       "        [1.00200481],\n",
       "        [1.03324788],\n",
       "        [0.97032653],\n",
       "        [1.01669273]],\n",
       "\n",
       "       [[0.97838228],\n",
       "        [1.02484676],\n",
       "        [1.0244663 ],\n",
       "        [0.93595831],\n",
       "        [0.98161974],\n",
       "        [0.90724232],\n",
       "        [1.0153225 ],\n",
       "        [1.00200481],\n",
       "        [1.03324788],\n",
       "        [0.97032653],\n",
       "        [1.01669273],\n",
       "        [0.91355439]]])"
      ]
     },
     "execution_count": 44,
     "metadata": {},
     "output_type": "execute_result"
    }
   ],
   "source": [
    "X_test"
   ]
  },
  {
   "cell_type": "code",
   "execution_count": null,
   "id": "photographic-belarus",
   "metadata": {
    "colab": {
     "base_uri": "https://localhost:8080/"
    },
    "executionInfo": {
     "elapsed": 28,
     "status": "ok",
     "timestamp": 1640684131706,
     "user": {
      "displayName": "Fatma Yürek",
      "photoUrl": "https://lh3.googleusercontent.com/a-/AOh14GgUD5q6Dqn8419pReVnOLENTLh9hizgvYdxalCt=s64",
      "userId": "13554681259639851426"
     },
     "user_tz": -180
    },
    "id": "photographic-belarus",
    "outputId": "190fadff-e3df-4e47-c2ca-825e8c1783b0"
   },
   "outputs": [
    {
     "data": {
      "text/plain": [
       "(35, 12, 1)"
      ]
     },
     "execution_count": 45,
     "metadata": {},
     "output_type": "execute_result"
    }
   ],
   "source": [
    "X_test.shape"
   ]
  },
  {
   "cell_type": "code",
   "execution_count": null,
   "id": "applicable-percentage",
   "metadata": {
    "id": "applicable-percentage"
   },
   "outputs": [],
   "source": [
    "predicted_stock_price = model.predict(X_test)\n",
    "predicted_stock_price = sc.inverse_transform(predicted_stock_price)"
   ]
  },
  {
   "cell_type": "code",
   "execution_count": null,
   "id": "collectible-fifteen",
   "metadata": {
    "colab": {
     "base_uri": "https://localhost:8080/"
    },
    "executionInfo": {
     "elapsed": 53,
     "status": "ok",
     "timestamp": 1640684133196,
     "user": {
      "displayName": "Fatma Yürek",
      "photoUrl": "https://lh3.googleusercontent.com/a-/AOh14GgUD5q6Dqn8419pReVnOLENTLh9hizgvYdxalCt=s64",
      "userId": "13554681259639851426"
     },
     "user_tz": -180
    },
    "id": "collectible-fifteen",
    "outputId": "69ddff7c-97df-41ea-e7df-000b8d8f8945"
   },
   "outputs": [
    {
     "data": {
      "text/plain": [
       "35"
      ]
     },
     "execution_count": 47,
     "metadata": {},
     "output_type": "execute_result"
    }
   ],
   "source": [
    "len(predicted_stock_price)"
   ]
  },
  {
   "cell_type": "code",
   "execution_count": null,
   "id": "loose-toddler",
   "metadata": {
    "colab": {
     "base_uri": "https://localhost:8080/",
     "height": 455
    },
    "executionInfo": {
     "elapsed": 50,
     "status": "ok",
     "timestamp": 1640684133197,
     "user": {
      "displayName": "Fatma Yürek",
      "photoUrl": "https://lh3.googleusercontent.com/a-/AOh14GgUD5q6Dqn8419pReVnOLENTLh9hizgvYdxalCt=s64",
      "userId": "13554681259639851426"
     },
     "user_tz": -180
    },
    "id": "loose-toddler",
    "outputId": "3353ff21-da68-4510-91aa-4db6d4dacc20"
   },
   "outputs": [
    {
     "data": {
      "text/html": [
       "\n",
       "  <div id=\"df-f2c03ce0-6a52-476a-a556-48bbda4f22fa\">\n",
       "    <div class=\"colab-df-container\">\n",
       "      <div>\n",
       "<style scoped>\n",
       "    .dataframe tbody tr th:only-of-type {\n",
       "        vertical-align: middle;\n",
       "    }\n",
       "\n",
       "    .dataframe tbody tr th {\n",
       "        vertical-align: top;\n",
       "    }\n",
       "\n",
       "    .dataframe thead th {\n",
       "        text-align: right;\n",
       "    }\n",
       "</style>\n",
       "<table border=\"1\" class=\"dataframe\">\n",
       "  <thead>\n",
       "    <tr style=\"text-align: right;\">\n",
       "      <th></th>\n",
       "      <th>Price</th>\n",
       "      <th>Change %</th>\n",
       "    </tr>\n",
       "    <tr>\n",
       "      <th>Date</th>\n",
       "      <th></th>\n",
       "      <th></th>\n",
       "    </tr>\n",
       "  </thead>\n",
       "  <tbody>\n",
       "    <tr>\n",
       "      <th>1995-01-31</th>\n",
       "      <td>7947.1</td>\n",
       "      <td>-0.0199</td>\n",
       "    </tr>\n",
       "    <tr>\n",
       "      <th>1995-02-28</th>\n",
       "      <td>7164.1</td>\n",
       "      <td>0.0040</td>\n",
       "    </tr>\n",
       "    <tr>\n",
       "      <th>1995-03-31</th>\n",
       "      <td>8800.2</td>\n",
       "      <td>0.0404</td>\n",
       "    </tr>\n",
       "    <tr>\n",
       "      <th>1995-04-30</th>\n",
       "      <td>7437.6</td>\n",
       "      <td>-0.0133</td>\n",
       "    </tr>\n",
       "    <tr>\n",
       "      <th>1995-05-31</th>\n",
       "      <td>8486.8</td>\n",
       "      <td>-0.0047</td>\n",
       "    </tr>\n",
       "    <tr>\n",
       "      <th>...</th>\n",
       "      <td>...</td>\n",
       "      <td>...</td>\n",
       "    </tr>\n",
       "    <tr>\n",
       "      <th>2021-07-31</th>\n",
       "      <td>41629.4</td>\n",
       "      <td>0.0235</td>\n",
       "    </tr>\n",
       "    <tr>\n",
       "      <th>2021-08-31</th>\n",
       "      <td>39388.5</td>\n",
       "      <td>0.0016</td>\n",
       "    </tr>\n",
       "    <tr>\n",
       "      <th>2021-09-30</th>\n",
       "      <td>41039.8</td>\n",
       "      <td>-0.0335</td>\n",
       "    </tr>\n",
       "    <tr>\n",
       "      <th>2021-10-31</th>\n",
       "      <td>37366.6</td>\n",
       "      <td>0.0159</td>\n",
       "    </tr>\n",
       "    <tr>\n",
       "      <th>2021-11-30</th>\n",
       "      <td>40062.3</td>\n",
       "      <td>-0.0043</td>\n",
       "    </tr>\n",
       "  </tbody>\n",
       "</table>\n",
       "<p>323 rows × 2 columns</p>\n",
       "</div>\n",
       "      <button class=\"colab-df-convert\" onclick=\"convertToInteractive('df-f2c03ce0-6a52-476a-a556-48bbda4f22fa')\"\n",
       "              title=\"Convert this dataframe to an interactive table.\"\n",
       "              style=\"display:none;\">\n",
       "        \n",
       "  <svg xmlns=\"http://www.w3.org/2000/svg\" height=\"24px\"viewBox=\"0 0 24 24\"\n",
       "       width=\"24px\">\n",
       "    <path d=\"M0 0h24v24H0V0z\" fill=\"none\"/>\n",
       "    <path d=\"M18.56 5.44l.94 2.06.94-2.06 2.06-.94-2.06-.94-.94-2.06-.94 2.06-2.06.94zm-11 1L8.5 8.5l.94-2.06 2.06-.94-2.06-.94L8.5 2.5l-.94 2.06-2.06.94zm10 10l.94 2.06.94-2.06 2.06-.94-2.06-.94-.94-2.06-.94 2.06-2.06.94z\"/><path d=\"M17.41 7.96l-1.37-1.37c-.4-.4-.92-.59-1.43-.59-.52 0-1.04.2-1.43.59L10.3 9.45l-7.72 7.72c-.78.78-.78 2.05 0 2.83L4 21.41c.39.39.9.59 1.41.59.51 0 1.02-.2 1.41-.59l7.78-7.78 2.81-2.81c.8-.78.8-2.07 0-2.86zM5.41 20L4 18.59l7.72-7.72 1.47 1.35L5.41 20z\"/>\n",
       "  </svg>\n",
       "      </button>\n",
       "      \n",
       "  <style>\n",
       "    .colab-df-container {\n",
       "      display:flex;\n",
       "      flex-wrap:wrap;\n",
       "      gap: 12px;\n",
       "    }\n",
       "\n",
       "    .colab-df-convert {\n",
       "      background-color: #E8F0FE;\n",
       "      border: none;\n",
       "      border-radius: 50%;\n",
       "      cursor: pointer;\n",
       "      display: none;\n",
       "      fill: #1967D2;\n",
       "      height: 32px;\n",
       "      padding: 0 0 0 0;\n",
       "      width: 32px;\n",
       "    }\n",
       "\n",
       "    .colab-df-convert:hover {\n",
       "      background-color: #E2EBFA;\n",
       "      box-shadow: 0px 1px 2px rgba(60, 64, 67, 0.3), 0px 1px 3px 1px rgba(60, 64, 67, 0.15);\n",
       "      fill: #174EA6;\n",
       "    }\n",
       "\n",
       "    [theme=dark] .colab-df-convert {\n",
       "      background-color: #3B4455;\n",
       "      fill: #D2E3FC;\n",
       "    }\n",
       "\n",
       "    [theme=dark] .colab-df-convert:hover {\n",
       "      background-color: #434B5C;\n",
       "      box-shadow: 0px 1px 3px 1px rgba(0, 0, 0, 0.15);\n",
       "      filter: drop-shadow(0px 1px 2px rgba(0, 0, 0, 0.3));\n",
       "      fill: #FFFFFF;\n",
       "    }\n",
       "  </style>\n",
       "\n",
       "      <script>\n",
       "        const buttonEl =\n",
       "          document.querySelector('#df-f2c03ce0-6a52-476a-a556-48bbda4f22fa button.colab-df-convert');\n",
       "        buttonEl.style.display =\n",
       "          google.colab.kernel.accessAllowed ? 'block' : 'none';\n",
       "\n",
       "        async function convertToInteractive(key) {\n",
       "          const element = document.querySelector('#df-f2c03ce0-6a52-476a-a556-48bbda4f22fa');\n",
       "          const dataTable =\n",
       "            await google.colab.kernel.invokeFunction('convertToInteractive',\n",
       "                                                     [key], {});\n",
       "          if (!dataTable) return;\n",
       "\n",
       "          const docLinkHtml = 'Like what you see? Visit the ' +\n",
       "            '<a target=\"_blank\" href=https://colab.research.google.com/notebooks/data_table.ipynb>data table notebook</a>'\n",
       "            + ' to learn more about interactive tables.';\n",
       "          element.innerHTML = '';\n",
       "          dataTable['output_type'] = 'display_data';\n",
       "          await google.colab.output.renderOutput(dataTable, element);\n",
       "          const docLink = document.createElement('div');\n",
       "          docLink.innerHTML = docLinkHtml;\n",
       "          element.appendChild(docLink);\n",
       "        }\n",
       "      </script>\n",
       "    </div>\n",
       "  </div>\n",
       "  "
      ],
      "text/plain": [
       "              Price  Change %\n",
       "Date                         \n",
       "1995-01-31   7947.1   -0.0199\n",
       "1995-02-28   7164.1    0.0040\n",
       "1995-03-31   8800.2    0.0404\n",
       "1995-04-30   7437.6   -0.0133\n",
       "1995-05-31   8486.8   -0.0047\n",
       "...             ...       ...\n",
       "2021-07-31  41629.4    0.0235\n",
       "2021-08-31  39388.5    0.0016\n",
       "2021-09-30  41039.8   -0.0335\n",
       "2021-10-31  37366.6    0.0159\n",
       "2021-11-30  40062.3   -0.0043\n",
       "\n",
       "[323 rows x 2 columns]"
      ]
     },
     "execution_count": 48,
     "metadata": {},
     "output_type": "execute_result"
    }
   ],
   "source": [
    "df_monthly"
   ]
  },
  {
   "cell_type": "code",
   "execution_count": null,
   "id": "polyphonic-jacob",
   "metadata": {
    "colab": {
     "base_uri": "https://localhost:8080/"
    },
    "executionInfo": {
     "elapsed": 47,
     "status": "ok",
     "timestamp": 1640684133198,
     "user": {
      "displayName": "Fatma Yürek",
      "photoUrl": "https://lh3.googleusercontent.com/a-/AOh14GgUD5q6Dqn8419pReVnOLENTLh9hizgvYdxalCt=s64",
      "userId": "13554681259639851426"
     },
     "user_tz": -180
    },
    "id": "polyphonic-jacob",
    "outputId": "f8922c26-0f9e-48d9-f651-33550ec4c89f"
   },
   "outputs": [
    {
     "data": {
      "text/plain": [
       "(35, 1)"
      ]
     },
     "execution_count": 49,
     "metadata": {},
     "output_type": "execute_result"
    }
   ],
   "source": [
    "predicted_stock_price.shape"
   ]
  },
  {
   "cell_type": "code",
   "execution_count": null,
   "id": "attempted-quantum",
   "metadata": {
    "colab": {
     "base_uri": "https://localhost:8080/"
    },
    "executionInfo": {
     "elapsed": 37,
     "status": "ok",
     "timestamp": 1640684133199,
     "user": {
      "displayName": "Fatma Yürek",
      "photoUrl": "https://lh3.googleusercontent.com/a-/AOh14GgUD5q6Dqn8419pReVnOLENTLh9hizgvYdxalCt=s64",
      "userId": "13554681259639851426"
     },
     "user_tz": -180
    },
    "id": "attempted-quantum",
    "outputId": "2d3d2fb4-ec72-46f5-c7fe-8900bfe3a349"
   },
   "outputs": [
    {
     "data": {
      "text/plain": [
       "(35, 1)"
      ]
     },
     "execution_count": 50,
     "metadata": {},
     "output_type": "execute_result"
    }
   ],
   "source": [
    "test_set.shape"
   ]
  },
  {
   "cell_type": "code",
   "execution_count": null,
   "id": "dedicated-money",
   "metadata": {
    "id": "dedicated-money"
   },
   "outputs": [],
   "source": [
    "tr = pd.DataFrame(training_set)\n",
    "ts = pd.DataFrame(test_set)\n",
    "df_original = pd.concat([tr,ts])"
   ]
  },
  {
   "cell_type": "code",
   "execution_count": null,
   "id": "charming-belly",
   "metadata": {
    "colab": {
     "base_uri": "https://localhost:8080/",
     "height": 423
    },
    "executionInfo": {
     "elapsed": 29,
     "status": "ok",
     "timestamp": 1640684133200,
     "user": {
      "displayName": "Fatma Yürek",
      "photoUrl": "https://lh3.googleusercontent.com/a-/AOh14GgUD5q6Dqn8419pReVnOLENTLh9hizgvYdxalCt=s64",
      "userId": "13554681259639851426"
     },
     "user_tz": -180
    },
    "id": "charming-belly",
    "outputId": "eeb3b9b0-52db-4b3b-b5b2-cb813cfee640"
   },
   "outputs": [
    {
     "data": {
      "text/html": [
       "\n",
       "  <div id=\"df-a2221671-5862-4d55-9424-4a3e527749f9\">\n",
       "    <div class=\"colab-df-container\">\n",
       "      <div>\n",
       "<style scoped>\n",
       "    .dataframe tbody tr th:only-of-type {\n",
       "        vertical-align: middle;\n",
       "    }\n",
       "\n",
       "    .dataframe tbody tr th {\n",
       "        vertical-align: top;\n",
       "    }\n",
       "\n",
       "    .dataframe thead th {\n",
       "        text-align: right;\n",
       "    }\n",
       "</style>\n",
       "<table border=\"1\" class=\"dataframe\">\n",
       "  <thead>\n",
       "    <tr style=\"text-align: right;\">\n",
       "      <th></th>\n",
       "      <th>0</th>\n",
       "    </tr>\n",
       "  </thead>\n",
       "  <tbody>\n",
       "    <tr>\n",
       "      <th>0</th>\n",
       "      <td>7947.1</td>\n",
       "    </tr>\n",
       "    <tr>\n",
       "      <th>1</th>\n",
       "      <td>7164.1</td>\n",
       "    </tr>\n",
       "    <tr>\n",
       "      <th>2</th>\n",
       "      <td>8800.2</td>\n",
       "    </tr>\n",
       "    <tr>\n",
       "      <th>3</th>\n",
       "      <td>7437.6</td>\n",
       "    </tr>\n",
       "    <tr>\n",
       "      <th>4</th>\n",
       "      <td>8486.8</td>\n",
       "    </tr>\n",
       "    <tr>\n",
       "      <th>...</th>\n",
       "      <td>...</td>\n",
       "    </tr>\n",
       "    <tr>\n",
       "      <th>30</th>\n",
       "      <td>41629.4</td>\n",
       "    </tr>\n",
       "    <tr>\n",
       "      <th>31</th>\n",
       "      <td>39388.5</td>\n",
       "    </tr>\n",
       "    <tr>\n",
       "      <th>32</th>\n",
       "      <td>41039.8</td>\n",
       "    </tr>\n",
       "    <tr>\n",
       "      <th>33</th>\n",
       "      <td>37366.6</td>\n",
       "    </tr>\n",
       "    <tr>\n",
       "      <th>34</th>\n",
       "      <td>40062.3</td>\n",
       "    </tr>\n",
       "  </tbody>\n",
       "</table>\n",
       "<p>323 rows × 1 columns</p>\n",
       "</div>\n",
       "      <button class=\"colab-df-convert\" onclick=\"convertToInteractive('df-a2221671-5862-4d55-9424-4a3e527749f9')\"\n",
       "              title=\"Convert this dataframe to an interactive table.\"\n",
       "              style=\"display:none;\">\n",
       "        \n",
       "  <svg xmlns=\"http://www.w3.org/2000/svg\" height=\"24px\"viewBox=\"0 0 24 24\"\n",
       "       width=\"24px\">\n",
       "    <path d=\"M0 0h24v24H0V0z\" fill=\"none\"/>\n",
       "    <path d=\"M18.56 5.44l.94 2.06.94-2.06 2.06-.94-2.06-.94-.94-2.06-.94 2.06-2.06.94zm-11 1L8.5 8.5l.94-2.06 2.06-.94-2.06-.94L8.5 2.5l-.94 2.06-2.06.94zm10 10l.94 2.06.94-2.06 2.06-.94-2.06-.94-.94-2.06-.94 2.06-2.06.94z\"/><path d=\"M17.41 7.96l-1.37-1.37c-.4-.4-.92-.59-1.43-.59-.52 0-1.04.2-1.43.59L10.3 9.45l-7.72 7.72c-.78.78-.78 2.05 0 2.83L4 21.41c.39.39.9.59 1.41.59.51 0 1.02-.2 1.41-.59l7.78-7.78 2.81-2.81c.8-.78.8-2.07 0-2.86zM5.41 20L4 18.59l7.72-7.72 1.47 1.35L5.41 20z\"/>\n",
       "  </svg>\n",
       "      </button>\n",
       "      \n",
       "  <style>\n",
       "    .colab-df-container {\n",
       "      display:flex;\n",
       "      flex-wrap:wrap;\n",
       "      gap: 12px;\n",
       "    }\n",
       "\n",
       "    .colab-df-convert {\n",
       "      background-color: #E8F0FE;\n",
       "      border: none;\n",
       "      border-radius: 50%;\n",
       "      cursor: pointer;\n",
       "      display: none;\n",
       "      fill: #1967D2;\n",
       "      height: 32px;\n",
       "      padding: 0 0 0 0;\n",
       "      width: 32px;\n",
       "    }\n",
       "\n",
       "    .colab-df-convert:hover {\n",
       "      background-color: #E2EBFA;\n",
       "      box-shadow: 0px 1px 2px rgba(60, 64, 67, 0.3), 0px 1px 3px 1px rgba(60, 64, 67, 0.15);\n",
       "      fill: #174EA6;\n",
       "    }\n",
       "\n",
       "    [theme=dark] .colab-df-convert {\n",
       "      background-color: #3B4455;\n",
       "      fill: #D2E3FC;\n",
       "    }\n",
       "\n",
       "    [theme=dark] .colab-df-convert:hover {\n",
       "      background-color: #434B5C;\n",
       "      box-shadow: 0px 1px 3px 1px rgba(0, 0, 0, 0.15);\n",
       "      filter: drop-shadow(0px 1px 2px rgba(0, 0, 0, 0.3));\n",
       "      fill: #FFFFFF;\n",
       "    }\n",
       "  </style>\n",
       "\n",
       "      <script>\n",
       "        const buttonEl =\n",
       "          document.querySelector('#df-a2221671-5862-4d55-9424-4a3e527749f9 button.colab-df-convert');\n",
       "        buttonEl.style.display =\n",
       "          google.colab.kernel.accessAllowed ? 'block' : 'none';\n",
       "\n",
       "        async function convertToInteractive(key) {\n",
       "          const element = document.querySelector('#df-a2221671-5862-4d55-9424-4a3e527749f9');\n",
       "          const dataTable =\n",
       "            await google.colab.kernel.invokeFunction('convertToInteractive',\n",
       "                                                     [key], {});\n",
       "          if (!dataTable) return;\n",
       "\n",
       "          const docLinkHtml = 'Like what you see? Visit the ' +\n",
       "            '<a target=\"_blank\" href=https://colab.research.google.com/notebooks/data_table.ipynb>data table notebook</a>'\n",
       "            + ' to learn more about interactive tables.';\n",
       "          element.innerHTML = '';\n",
       "          dataTable['output_type'] = 'display_data';\n",
       "          await google.colab.output.renderOutput(dataTable, element);\n",
       "          const docLink = document.createElement('div');\n",
       "          docLink.innerHTML = docLinkHtml;\n",
       "          element.appendChild(docLink);\n",
       "        }\n",
       "      </script>\n",
       "    </div>\n",
       "  </div>\n",
       "  "
      ],
      "text/plain": [
       "          0\n",
       "0    7947.1\n",
       "1    7164.1\n",
       "2    8800.2\n",
       "3    7437.6\n",
       "4    8486.8\n",
       "..      ...\n",
       "30  41629.4\n",
       "31  39388.5\n",
       "32  41039.8\n",
       "33  37366.6\n",
       "34  40062.3\n",
       "\n",
       "[323 rows x 1 columns]"
      ]
     },
     "execution_count": 52,
     "metadata": {},
     "output_type": "execute_result"
    }
   ],
   "source": [
    "df_original"
   ]
  },
  {
   "cell_type": "code",
   "execution_count": null,
   "id": "incomplete-failing",
   "metadata": {
    "id": "incomplete-failing"
   },
   "outputs": [],
   "source": [
    "df_original.reset_index(inplace=True)"
   ]
  },
  {
   "cell_type": "code",
   "execution_count": null,
   "id": "accredited-surgeon",
   "metadata": {
    "id": "accredited-surgeon"
   },
   "outputs": [],
   "source": [
    "tr = pd.DataFrame(training_set)\n",
    "ts = pd.DataFrame(predicted_stock_price)\n",
    "df_pred = pd.concat([tr,ts])"
   ]
  },
  {
   "cell_type": "code",
   "execution_count": null,
   "id": "wireless-copper",
   "metadata": {
    "colab": {
     "base_uri": "https://localhost:8080/",
     "height": 423
    },
    "executionInfo": {
     "elapsed": 27,
     "status": "ok",
     "timestamp": 1640684133202,
     "user": {
      "displayName": "Fatma Yürek",
      "photoUrl": "https://lh3.googleusercontent.com/a-/AOh14GgUD5q6Dqn8419pReVnOLENTLh9hizgvYdxalCt=s64",
      "userId": "13554681259639851426"
     },
     "user_tz": -180
    },
    "id": "wireless-copper",
    "outputId": "a9828768-7ba6-4608-f01d-7bf9cbf27f19"
   },
   "outputs": [
    {
     "data": {
      "text/html": [
       "\n",
       "  <div id=\"df-7766de31-4ec3-4fc0-85ff-cf84dfba6286\">\n",
       "    <div class=\"colab-df-container\">\n",
       "      <div>\n",
       "<style scoped>\n",
       "    .dataframe tbody tr th:only-of-type {\n",
       "        vertical-align: middle;\n",
       "    }\n",
       "\n",
       "    .dataframe tbody tr th {\n",
       "        vertical-align: top;\n",
       "    }\n",
       "\n",
       "    .dataframe thead th {\n",
       "        text-align: right;\n",
       "    }\n",
       "</style>\n",
       "<table border=\"1\" class=\"dataframe\">\n",
       "  <thead>\n",
       "    <tr style=\"text-align: right;\">\n",
       "      <th></th>\n",
       "      <th>index</th>\n",
       "      <th>0</th>\n",
       "    </tr>\n",
       "  </thead>\n",
       "  <tbody>\n",
       "    <tr>\n",
       "      <th>0</th>\n",
       "      <td>0</td>\n",
       "      <td>7947.100000</td>\n",
       "    </tr>\n",
       "    <tr>\n",
       "      <th>1</th>\n",
       "      <td>1</td>\n",
       "      <td>7164.100000</td>\n",
       "    </tr>\n",
       "    <tr>\n",
       "      <th>2</th>\n",
       "      <td>2</td>\n",
       "      <td>8800.200000</td>\n",
       "    </tr>\n",
       "    <tr>\n",
       "      <th>3</th>\n",
       "      <td>3</td>\n",
       "      <td>7437.600000</td>\n",
       "    </tr>\n",
       "    <tr>\n",
       "      <th>4</th>\n",
       "      <td>4</td>\n",
       "      <td>8486.800000</td>\n",
       "    </tr>\n",
       "    <tr>\n",
       "      <th>...</th>\n",
       "      <td>...</td>\n",
       "      <td>...</td>\n",
       "    </tr>\n",
       "    <tr>\n",
       "      <th>318</th>\n",
       "      <td>30</td>\n",
       "      <td>37522.644531</td>\n",
       "    </tr>\n",
       "    <tr>\n",
       "      <th>319</th>\n",
       "      <td>31</td>\n",
       "      <td>37351.203125</td>\n",
       "    </tr>\n",
       "    <tr>\n",
       "      <th>320</th>\n",
       "      <td>32</td>\n",
       "      <td>37243.851562</td>\n",
       "    </tr>\n",
       "    <tr>\n",
       "      <th>321</th>\n",
       "      <td>33</td>\n",
       "      <td>36941.578125</td>\n",
       "    </tr>\n",
       "    <tr>\n",
       "      <th>322</th>\n",
       "      <td>34</td>\n",
       "      <td>36772.015625</td>\n",
       "    </tr>\n",
       "  </tbody>\n",
       "</table>\n",
       "<p>323 rows × 2 columns</p>\n",
       "</div>\n",
       "      <button class=\"colab-df-convert\" onclick=\"convertToInteractive('df-7766de31-4ec3-4fc0-85ff-cf84dfba6286')\"\n",
       "              title=\"Convert this dataframe to an interactive table.\"\n",
       "              style=\"display:none;\">\n",
       "        \n",
       "  <svg xmlns=\"http://www.w3.org/2000/svg\" height=\"24px\"viewBox=\"0 0 24 24\"\n",
       "       width=\"24px\">\n",
       "    <path d=\"M0 0h24v24H0V0z\" fill=\"none\"/>\n",
       "    <path d=\"M18.56 5.44l.94 2.06.94-2.06 2.06-.94-2.06-.94-.94-2.06-.94 2.06-2.06.94zm-11 1L8.5 8.5l.94-2.06 2.06-.94-2.06-.94L8.5 2.5l-.94 2.06-2.06.94zm10 10l.94 2.06.94-2.06 2.06-.94-2.06-.94-.94-2.06-.94 2.06-2.06.94z\"/><path d=\"M17.41 7.96l-1.37-1.37c-.4-.4-.92-.59-1.43-.59-.52 0-1.04.2-1.43.59L10.3 9.45l-7.72 7.72c-.78.78-.78 2.05 0 2.83L4 21.41c.39.39.9.59 1.41.59.51 0 1.02-.2 1.41-.59l7.78-7.78 2.81-2.81c.8-.78.8-2.07 0-2.86zM5.41 20L4 18.59l7.72-7.72 1.47 1.35L5.41 20z\"/>\n",
       "  </svg>\n",
       "      </button>\n",
       "      \n",
       "  <style>\n",
       "    .colab-df-container {\n",
       "      display:flex;\n",
       "      flex-wrap:wrap;\n",
       "      gap: 12px;\n",
       "    }\n",
       "\n",
       "    .colab-df-convert {\n",
       "      background-color: #E8F0FE;\n",
       "      border: none;\n",
       "      border-radius: 50%;\n",
       "      cursor: pointer;\n",
       "      display: none;\n",
       "      fill: #1967D2;\n",
       "      height: 32px;\n",
       "      padding: 0 0 0 0;\n",
       "      width: 32px;\n",
       "    }\n",
       "\n",
       "    .colab-df-convert:hover {\n",
       "      background-color: #E2EBFA;\n",
       "      box-shadow: 0px 1px 2px rgba(60, 64, 67, 0.3), 0px 1px 3px 1px rgba(60, 64, 67, 0.15);\n",
       "      fill: #174EA6;\n",
       "    }\n",
       "\n",
       "    [theme=dark] .colab-df-convert {\n",
       "      background-color: #3B4455;\n",
       "      fill: #D2E3FC;\n",
       "    }\n",
       "\n",
       "    [theme=dark] .colab-df-convert:hover {\n",
       "      background-color: #434B5C;\n",
       "      box-shadow: 0px 1px 3px 1px rgba(0, 0, 0, 0.15);\n",
       "      filter: drop-shadow(0px 1px 2px rgba(0, 0, 0, 0.3));\n",
       "      fill: #FFFFFF;\n",
       "    }\n",
       "  </style>\n",
       "\n",
       "      <script>\n",
       "        const buttonEl =\n",
       "          document.querySelector('#df-7766de31-4ec3-4fc0-85ff-cf84dfba6286 button.colab-df-convert');\n",
       "        buttonEl.style.display =\n",
       "          google.colab.kernel.accessAllowed ? 'block' : 'none';\n",
       "\n",
       "        async function convertToInteractive(key) {\n",
       "          const element = document.querySelector('#df-7766de31-4ec3-4fc0-85ff-cf84dfba6286');\n",
       "          const dataTable =\n",
       "            await google.colab.kernel.invokeFunction('convertToInteractive',\n",
       "                                                     [key], {});\n",
       "          if (!dataTable) return;\n",
       "\n",
       "          const docLinkHtml = 'Like what you see? Visit the ' +\n",
       "            '<a target=\"_blank\" href=https://colab.research.google.com/notebooks/data_table.ipynb>data table notebook</a>'\n",
       "            + ' to learn more about interactive tables.';\n",
       "          element.innerHTML = '';\n",
       "          dataTable['output_type'] = 'display_data';\n",
       "          await google.colab.output.renderOutput(dataTable, element);\n",
       "          const docLink = document.createElement('div');\n",
       "          docLink.innerHTML = docLinkHtml;\n",
       "          element.appendChild(docLink);\n",
       "        }\n",
       "      </script>\n",
       "    </div>\n",
       "  </div>\n",
       "  "
      ],
      "text/plain": [
       "     index             0\n",
       "0        0   7947.100000\n",
       "1        1   7164.100000\n",
       "2        2   8800.200000\n",
       "3        3   7437.600000\n",
       "4        4   8486.800000\n",
       "..     ...           ...\n",
       "318     30  37522.644531\n",
       "319     31  37351.203125\n",
       "320     32  37243.851562\n",
       "321     33  36941.578125\n",
       "322     34  36772.015625\n",
       "\n",
       "[323 rows x 2 columns]"
      ]
     },
     "execution_count": 55,
     "metadata": {},
     "output_type": "execute_result"
    }
   ],
   "source": [
    "df_pred.reset_index(inplace = True)\n",
    "df_pred"
   ]
  },
  {
   "cell_type": "code",
   "execution_count": null,
   "id": "separated-rhythm",
   "metadata": {
    "colab": {
     "base_uri": "https://localhost:8080/",
     "height": 423
    },
    "executionInfo": {
     "elapsed": 27,
     "status": "ok",
     "timestamp": 1640684133203,
     "user": {
      "displayName": "Fatma Yürek",
      "photoUrl": "https://lh3.googleusercontent.com/a-/AOh14GgUD5q6Dqn8419pReVnOLENTLh9hizgvYdxalCt=s64",
      "userId": "13554681259639851426"
     },
     "user_tz": -180
    },
    "id": "separated-rhythm",
    "outputId": "7db3ff3a-8556-4586-d6c0-f440a9c79a31",
    "scrolled": true
   },
   "outputs": [
    {
     "data": {
      "text/html": [
       "\n",
       "  <div id=\"df-3e4e3a20-0a7c-4018-96b7-4257c067c2ab\">\n",
       "    <div class=\"colab-df-container\">\n",
       "      <div>\n",
       "<style scoped>\n",
       "    .dataframe tbody tr th:only-of-type {\n",
       "        vertical-align: middle;\n",
       "    }\n",
       "\n",
       "    .dataframe tbody tr th {\n",
       "        vertical-align: top;\n",
       "    }\n",
       "\n",
       "    .dataframe thead th {\n",
       "        text-align: right;\n",
       "    }\n",
       "</style>\n",
       "<table border=\"1\" class=\"dataframe\">\n",
       "  <thead>\n",
       "    <tr style=\"text-align: right;\">\n",
       "      <th></th>\n",
       "      <th>0</th>\n",
       "      <th>actual</th>\n",
       "      <th>0</th>\n",
       "      <th>pred</th>\n",
       "    </tr>\n",
       "  </thead>\n",
       "  <tbody>\n",
       "    <tr>\n",
       "      <th>0</th>\n",
       "      <td>0</td>\n",
       "      <td>7947.1</td>\n",
       "      <td>0</td>\n",
       "      <td>7947.100000</td>\n",
       "    </tr>\n",
       "    <tr>\n",
       "      <th>1</th>\n",
       "      <td>1</td>\n",
       "      <td>7164.1</td>\n",
       "      <td>1</td>\n",
       "      <td>7164.100000</td>\n",
       "    </tr>\n",
       "    <tr>\n",
       "      <th>2</th>\n",
       "      <td>2</td>\n",
       "      <td>8800.2</td>\n",
       "      <td>2</td>\n",
       "      <td>8800.200000</td>\n",
       "    </tr>\n",
       "    <tr>\n",
       "      <th>3</th>\n",
       "      <td>3</td>\n",
       "      <td>7437.6</td>\n",
       "      <td>3</td>\n",
       "      <td>7437.600000</td>\n",
       "    </tr>\n",
       "    <tr>\n",
       "      <th>4</th>\n",
       "      <td>4</td>\n",
       "      <td>8486.8</td>\n",
       "      <td>4</td>\n",
       "      <td>8486.800000</td>\n",
       "    </tr>\n",
       "    <tr>\n",
       "      <th>...</th>\n",
       "      <td>...</td>\n",
       "      <td>...</td>\n",
       "      <td>...</td>\n",
       "      <td>...</td>\n",
       "    </tr>\n",
       "    <tr>\n",
       "      <th>318</th>\n",
       "      <td>30</td>\n",
       "      <td>41629.4</td>\n",
       "      <td>30</td>\n",
       "      <td>37522.644531</td>\n",
       "    </tr>\n",
       "    <tr>\n",
       "      <th>319</th>\n",
       "      <td>31</td>\n",
       "      <td>39388.5</td>\n",
       "      <td>31</td>\n",
       "      <td>37351.203125</td>\n",
       "    </tr>\n",
       "    <tr>\n",
       "      <th>320</th>\n",
       "      <td>32</td>\n",
       "      <td>41039.8</td>\n",
       "      <td>32</td>\n",
       "      <td>37243.851562</td>\n",
       "    </tr>\n",
       "    <tr>\n",
       "      <th>321</th>\n",
       "      <td>33</td>\n",
       "      <td>37366.6</td>\n",
       "      <td>33</td>\n",
       "      <td>36941.578125</td>\n",
       "    </tr>\n",
       "    <tr>\n",
       "      <th>322</th>\n",
       "      <td>34</td>\n",
       "      <td>40062.3</td>\n",
       "      <td>34</td>\n",
       "      <td>36772.015625</td>\n",
       "    </tr>\n",
       "  </tbody>\n",
       "</table>\n",
       "<p>323 rows × 4 columns</p>\n",
       "</div>\n",
       "      <button class=\"colab-df-convert\" onclick=\"convertToInteractive('df-3e4e3a20-0a7c-4018-96b7-4257c067c2ab')\"\n",
       "              title=\"Convert this dataframe to an interactive table.\"\n",
       "              style=\"display:none;\">\n",
       "        \n",
       "  <svg xmlns=\"http://www.w3.org/2000/svg\" height=\"24px\"viewBox=\"0 0 24 24\"\n",
       "       width=\"24px\">\n",
       "    <path d=\"M0 0h24v24H0V0z\" fill=\"none\"/>\n",
       "    <path d=\"M18.56 5.44l.94 2.06.94-2.06 2.06-.94-2.06-.94-.94-2.06-.94 2.06-2.06.94zm-11 1L8.5 8.5l.94-2.06 2.06-.94-2.06-.94L8.5 2.5l-.94 2.06-2.06.94zm10 10l.94 2.06.94-2.06 2.06-.94-2.06-.94-.94-2.06-.94 2.06-2.06.94z\"/><path d=\"M17.41 7.96l-1.37-1.37c-.4-.4-.92-.59-1.43-.59-.52 0-1.04.2-1.43.59L10.3 9.45l-7.72 7.72c-.78.78-.78 2.05 0 2.83L4 21.41c.39.39.9.59 1.41.59.51 0 1.02-.2 1.41-.59l7.78-7.78 2.81-2.81c.8-.78.8-2.07 0-2.86zM5.41 20L4 18.59l7.72-7.72 1.47 1.35L5.41 20z\"/>\n",
       "  </svg>\n",
       "      </button>\n",
       "      \n",
       "  <style>\n",
       "    .colab-df-container {\n",
       "      display:flex;\n",
       "      flex-wrap:wrap;\n",
       "      gap: 12px;\n",
       "    }\n",
       "\n",
       "    .colab-df-convert {\n",
       "      background-color: #E8F0FE;\n",
       "      border: none;\n",
       "      border-radius: 50%;\n",
       "      cursor: pointer;\n",
       "      display: none;\n",
       "      fill: #1967D2;\n",
       "      height: 32px;\n",
       "      padding: 0 0 0 0;\n",
       "      width: 32px;\n",
       "    }\n",
       "\n",
       "    .colab-df-convert:hover {\n",
       "      background-color: #E2EBFA;\n",
       "      box-shadow: 0px 1px 2px rgba(60, 64, 67, 0.3), 0px 1px 3px 1px rgba(60, 64, 67, 0.15);\n",
       "      fill: #174EA6;\n",
       "    }\n",
       "\n",
       "    [theme=dark] .colab-df-convert {\n",
       "      background-color: #3B4455;\n",
       "      fill: #D2E3FC;\n",
       "    }\n",
       "\n",
       "    [theme=dark] .colab-df-convert:hover {\n",
       "      background-color: #434B5C;\n",
       "      box-shadow: 0px 1px 3px 1px rgba(0, 0, 0, 0.15);\n",
       "      filter: drop-shadow(0px 1px 2px rgba(0, 0, 0, 0.3));\n",
       "      fill: #FFFFFF;\n",
       "    }\n",
       "  </style>\n",
       "\n",
       "      <script>\n",
       "        const buttonEl =\n",
       "          document.querySelector('#df-3e4e3a20-0a7c-4018-96b7-4257c067c2ab button.colab-df-convert');\n",
       "        buttonEl.style.display =\n",
       "          google.colab.kernel.accessAllowed ? 'block' : 'none';\n",
       "\n",
       "        async function convertToInteractive(key) {\n",
       "          const element = document.querySelector('#df-3e4e3a20-0a7c-4018-96b7-4257c067c2ab');\n",
       "          const dataTable =\n",
       "            await google.colab.kernel.invokeFunction('convertToInteractive',\n",
       "                                                     [key], {});\n",
       "          if (!dataTable) return;\n",
       "\n",
       "          const docLinkHtml = 'Like what you see? Visit the ' +\n",
       "            '<a target=\"_blank\" href=https://colab.research.google.com/notebooks/data_table.ipynb>data table notebook</a>'\n",
       "            + ' to learn more about interactive tables.';\n",
       "          element.innerHTML = '';\n",
       "          dataTable['output_type'] = 'display_data';\n",
       "          await google.colab.output.renderOutput(dataTable, element);\n",
       "          const docLink = document.createElement('div');\n",
       "          docLink.innerHTML = docLinkHtml;\n",
       "          element.appendChild(docLink);\n",
       "        }\n",
       "      </script>\n",
       "    </div>\n",
       "  </div>\n",
       "  "
      ],
      "text/plain": [
       "      0   actual   0          pred\n",
       "0     0   7947.1   0   7947.100000\n",
       "1     1   7164.1   1   7164.100000\n",
       "2     2   8800.2   2   8800.200000\n",
       "3     3   7437.6   3   7437.600000\n",
       "4     4   8486.8   4   8486.800000\n",
       "..   ..      ...  ..           ...\n",
       "318  30  41629.4  30  37522.644531\n",
       "319  31  39388.5  31  37351.203125\n",
       "320  32  41039.8  32  37243.851562\n",
       "321  33  37366.6  33  36941.578125\n",
       "322  34  40062.3  34  36772.015625\n",
       "\n",
       "[323 rows x 4 columns]"
      ]
     },
     "execution_count": 56,
     "metadata": {},
     "output_type": "execute_result"
    }
   ],
   "source": [
    "df_all = pd.concat([df_original, df_pred], axis = 1)\n",
    "df_all.columns = [0,'actual', 0, 'pred']\n",
    "df_all"
   ]
  },
  {
   "cell_type": "code",
   "execution_count": null,
   "id": "distinct-placement",
   "metadata": {
    "colab": {
     "base_uri": "https://localhost:8080/",
     "height": 227
    },
    "executionInfo": {
     "elapsed": 25,
     "status": "ok",
     "timestamp": 1640684133203,
     "user": {
      "displayName": "Fatma Yürek",
      "photoUrl": "https://lh3.googleusercontent.com/a-/AOh14GgUD5q6Dqn8419pReVnOLENTLh9hizgvYdxalCt=s64",
      "userId": "13554681259639851426"
     },
     "user_tz": -180
    },
    "id": "distinct-placement",
    "outputId": "e3fdd12e-bf0d-4f26-facc-eeb3b6023be6"
   },
   "outputs": [
    {
     "data": {
      "text/plain": [
       "<matplotlib.axes._subplots.AxesSubplot at 0x7fc14f742290>"
      ]
     },
     "execution_count": 57,
     "metadata": {},
     "output_type": "execute_result"
    },
    {
     "data": {
      "image/png": "[encoded data removed]",
      "text/plain": [
       "<Figure size 1152x288 with 1 Axes>"
      ]
     },
     "metadata": {
      "needs_background": "light"
     },
     "output_type": "display_data"
    }
   ],
   "source": [
    "df_all[\"actual\"].plot(figsize=(16,4),legend=True)\n",
    "df_all[\"pred\"].loc[288:].plot(figsize=(16,4),legend=True)"
   ]
  },
  {
   "cell_type": "code",
   "execution_count": 1,
   "id": "e2nuFZOUxxbT",
   "metadata": {
    "executionInfo": {
     "elapsed": 4,
     "status": "ok",
     "timestamp": 1640857028362,
     "user": {
      "displayName": "Güray TÜRKER",
      "photoUrl": "https://lh3.googleusercontent.com/a-/AOh14GjTpqeLpQIcXjT-MIHWcWdo4icytnHomltiC3RMjA=s64",
      "userId": "03568244412064674746"
     },
     "user_tz": -180
    },
    "id": "e2nuFZOUxxbT"
   },
   "outputs": [],
   "source": [
    "RMSE:4123.0"
   ]
  }
 ],
 "metadata": {
  "colab": {
   "collapsed_sections": [],
   "name": "Fatay_Odev.ipynb",
   "provenance": []
  },
  "kernelspec": {
   "display_name": "Python 3",
   "language": "python",
   "name": "python3"
  },
  "language_info": {
   "codemirror_mode": {
    "name": "ipython",
    "version": 3
   },
   "file_extension": ".py",
   "mimetype": "text/x-python",
   "name": "python",
   "nbconvert_exporter": "python",
   "pygments_lexer": "ipython3",
   "version": "3.8.8"
  }
 },
 "nbformat": 4,
 "nbformat_minor": 5
}
